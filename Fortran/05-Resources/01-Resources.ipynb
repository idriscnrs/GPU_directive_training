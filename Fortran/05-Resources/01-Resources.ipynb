{
 "cells": [
  {
   "cell_type": "markdown",
   "id": "f1715ede",
   "metadata": {
    "editable": false
   },
   "source": [
    "# Resources\n",
    "\n",
    "Most of the resources can be found on [the OpenACC website](https://www.openacc.org/resources).\n",
    "\n",
    "Especially the 2.7 [API reference](https://www.openacc.org/sites/default/files/inline-files/API%20Guide%202.7.pdf) is useful."
   ]
  },
  {
   "cell_type": "markdown",
   "id": "cd1a7f79",
   "metadata": {
    "editable": false
   },
   "source": [
    "## Books\n",
    "\n",
    "- [OpenACC for Programmers: Concepts and Strategies](https://www.informit.com/store/openacc-for-programmers-concepts-and-strategies-9780134694283)\n",
    "- [Parallel Programming with OpenACC](https://www.amazon.com/Parallel-Programming-OpenACC-Rob-Farber/dp/0124103979)"
   ]
  },
  {
   "cell_type": "markdown",
   "id": "58364e6a",
   "metadata": {
    "editable": false
   },
   "source": [
    "## Web resources\n",
    "\n",
    "[NVIDIA's training course](https://developer.nvidia.com/openacc-courses)\n",
    "\n",
    "Several computing centers offers OpenACC training courses:\n",
    "\n",
    "- [NERSC](https://www.nersc.gov/users/training/events/introduction-to-openacc-part-1-of-3-openacc-training-series-april-17-2020/)\n",
    "- [ENCCS](https://enccs.github.io/OpenACC-CUDA-beginners/)\n",
    "\n",
    "- [OpenACC bootcamps training resources](https://github.com/gpuhackathons-org/gpubootcamp)"
   ]
  },
  {
   "cell_type": "markdown",
   "id": "67d0135f",
   "metadata": {
    "editable": false
   },
   "source": [
    "## Porting your code during NVIDIA hackathons\n",
    "\n",
    "Each year several hackathons and bootcamps are organized by NVIDIA. \n",
    "You can apply for a project and get help from mentors to port your code.\n",
    "\n",
    "Have a look a this [website](https://www.gpuhackathons.org/events)."
   ]
  },
  {
   "cell_type": "markdown",
   "id": "12031dd3",
   "metadata": {
    "editable": false
   },
   "source": [
    "## Contacts (firstname.name@idris.fr)\n",
    "\n",
    "- Thibaut Véry\n",
    "- Olga Abramkina"
   ]
  }
 ],
 "metadata": {
  "kernelspec": {
   "display_name": "GPU Directives",
   "language": "python",
   "name": "gpu_directives"
  }
 },
 "nbformat": 4,
 "nbformat_minor": 5
}
