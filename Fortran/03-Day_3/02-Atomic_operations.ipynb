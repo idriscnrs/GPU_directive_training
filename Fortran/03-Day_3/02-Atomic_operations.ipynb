{
 "cells": [
  {
   "cell_type": "markdown",
   "id": "7026860e",
   "metadata": {
    "editable": false
   },
   "source": [
    "# Atomic operations\n",
    "\n",
    "---\n",
    "**Requirements:**\n",
    "\n",
    "- [Get started](./Get_started.ipynb)\n",
    "- [Data management](./Data_management.ipynb)\n",
    "\n",
    "---\n",
    "\n",
    "The `acc atomic` is kind of a generalization of the concept of reduction that we saw in [Get started](../Get_started.ipynb).\n",
    "However the mechanism is different and less efficient than the one used for reductions.\n",
    "So if you have the choice, use a _reduction_ clause.\n",
    "\n",
    "The idea is to make sure that only one thread at a time can perform a read and/or write operation on a **shared** variable.\n",
    "\n",
    "The syntax of the directive depends on the clause you use."
   ]
  },
  {
   "cell_type": "markdown",
   "id": "0d66931e",
   "metadata": {
    "editable": false
   },
   "source": [
    "## Syntax"
   ]
  },
  {
   "cell_type": "markdown",
   "id": "37656d3c",
   "metadata": {
    "editable": false
   },
   "source": [
    "### _read_, _write_, _update_\n",
    "```fortran\n",
    "!$acc atomic <clause>\n",
    " ! One atomic operation\n",
    "!$acc end atomic  ! This statement is optional\n",
    "```\n",
    "\n",
    "\n",
    "The clauses _read_, _write_ and _update_ only apply to the line immediately below the directive."
   ]
  },
  {
   "cell_type": "markdown",
   "id": "c4358cf4",
   "metadata": {
    "editable": false
   },
   "source": [
    "### _capture_\n",
    "\n",
    "The _capture_ clause can work on a block of code:\n",
    "```fortran\n",
    "!$acc atomic capture <clause>\n",
    " ! Set of atomic operations\n",
    "!$acc end atomic  ! This statement is optional\n",
    "```"
   ]
  },
  {
   "cell_type": "markdown",
   "id": "64aa3ad0",
   "metadata": {
    "editable": false
   },
   "source": [
    "## Restrictions\n",
    "\n",
    "The complete list of restrictions is available in the OpenACC specification.\n",
    "\n",
    "We need the following information to understand the restrictions for each clause:\n",
    "\n",
    "- **v** and **x** are scalar values\n",
    "- _binop_: binary operator (for example: +, -, \\*, /, ++, --, etc)\n",
    "- _expr_ is an expression that reduces to a scalar and must have precedence over _binop_"
   ]
  },
  {
   "cell_type": "markdown",
   "id": "0d7ee0d7",
   "metadata": {
    "editable": false
   },
   "source": [
    "### _read_\n",
    "\n",
    "The expression must be of the form:\n",
    "\n",
    "```fortran\n",
    "!$acc atomic read\n",
    "v = x\n",
    "!$acc end atomic   ! This statement is optional\n",
    "```"
   ]
  },
  {
   "cell_type": "markdown",
   "id": "40cef1d0",
   "metadata": {
    "editable": false
   },
   "source": [
    "### _write_\n",
    "\n",
    "The expression must have the form:\n",
    "\n",
    "```fortran\n",
    "!$acc atomic write\n",
    "x = expr\n",
    "!$acc end atomic  ! This statement is optional\n",
    "```"
   ]
  },
  {
   "cell_type": "markdown",
   "id": "8dc48ae6",
   "metadata": {
    "editable": false
   },
   "source": [
    "### _update_\n",
    "\n",
    "Several forms are available:\n",
    "\n",
    "```fortran\n",
    "!$acc atomic \n",
    "x = x + (3*10)\n",
    "\n",
    "!$acc atomic \n",
    "x = max(x, 3.0, -1.0, 2.0/5.0)  ! The update clause is optional\n",
    "\n",
    "!$acc atomic update\n",
    "x = x + (3*10) ! The end atomic statement is optionnal\n",
    "\n",
    "!$acc atomic\n",
    "x = x + (3*10)\n",
    "!$acc end atomic\n",
    "```"
   ]
  },
  {
   "cell_type": "markdown",
   "id": "cd39c114",
   "metadata": {
    "editable": false
   },
   "source": [
    "### _capture_\n",
    "\n",
    "A capture is an operation where you set a variable with the value of an updated variable:\n",
    "```fortran\n",
    "! x = x operator expr ( update statement)\n",
    "! v = x               (capture statement)\n",
    "!$acc atomic capture\n",
    "x = x + (3*10)\n",
    "v = x\n",
    "!$acc end atomic\n",
    "\n",
    "! x = intinsic_procedure(x,scalar_expr_list) ( update statement)\n",
    "! v = x                                      (capture statement)\n",
    "!$acc atomic capture\n",
    "x = max(x, 3.0, -1.0, 2.0/5.0)\n",
    "v = x\n",
    "!$acc end atomic\n",
    "\n",
    "\n",
    "! v = x               (capture statement)\n",
    "! x = x operator expr ( update statement)\n",
    "!$acc atomic capture\n",
    "v = x\n",
    "x = x + (3*10)\n",
    "!$acc end atomic\n",
    "\n",
    "! v = x                                      (capture statement)\n",
    "! x = intinsic_procedure(x,scalar_expr_list) ( update statement)\n",
    "!$acc atomic capture\n",
    "v = x \n",
    "x = max(3.0, -1.0, 2.0/5.0, x)\n",
    "!$acc end atomic\n",
    "\n",
    "\n",
    "! v = x    (capture statement)\n",
    "! x = expr (  write statement)\n",
    "!$acc atomic capture\n",
    "v = x\n",
    "x = 3*10\n",
    "!$acc end atomic\n",
    "```"
   ]
  },
  {
   "cell_type": "markdown",
   "id": "95b010ff",
   "metadata": {
    "editable": false
   },
   "source": [
    "## Exercise\n",
    "\n",
    "Let's check if the default random number generator provided by the standard library gives good results.\n",
    "\n",
    "In the example we generate an array of integers randomly set from 0 to 9.\n",
    "The purpose is to check if we have a uniform distribution.\n",
    "\n",
    "We cannot perform the initialization on the GPU since the rand() function is not OpenACC aware.\n",
    "\n",
    "You have to:\n",
    "\n",
    "- Create a kernel for the integer counting\n",
    "- Make sure that the results are correct (you should have around 10% for each number)\n",
    "\n",
    "Example stored in: `../../examples/Fortran/atomic_exercise.f90`"
   ]
  },
  {
   "cell_type": "code",
   "execution_count": null,
   "id": "b6503e3b",
   "metadata": {},
   "outputs": [],
   "source": [
    "%%idrrun -a\n",
    "program histogram\n",
    "    use iso_fortran_env, only : REAL64, INT32\n",
    "    implicit none\n",
    "\n",
    "    integer(kind=INT32 ), dimension(:) , allocatable :: shots\n",
    "    integer(kind=INT32 ), dimension(10)              :: histo\n",
    "    integer(kind=INT32 ), parameter                  :: nshots = 1e9\n",
    "    real   (kind=REAL64)                             :: random_real\n",
    "    integer(kind=INT32 )                             :: i\n",
    "\n",
    "    ! Histogram allocation and initialization\n",
    "    do i = 1, 10\n",
    "     histo(i) = 0\n",
    "    enddo\n",
    "\n",
    "    ! Allocate memory for the random numbers\n",
    "    allocate(shots(nshots))\n",
    "\n",
    "    ! Fill the array on the CPU (rand is not available on GPU with Nvidia Compilers)\n",
    "    do i = 1, nshots\n",
    "        call random_number(random_real)\n",
    "        shots(i) = floor(random_real * 10.0_real64) + 1\n",
    "    enddo\n",
    "\n",
    "    ! Count the number of time each number was drawn\n",
    "    do i = 1, nshots\n",
    "        histo(shots(i)) = histo(shots(i)) + 1\n",
    "    enddo\n",
    "\n",
    "    !  Print results\n",
    "    do i = 1, 10\n",
    "        write(0,\"(i2,a2,i10,a2,f10.8,a1)\") i,\": \", histo(i), \" (\", real(histo(i))/1.e9, \")\"\n",
    "    enddo\n",
    "\n",
    "    deallocate(shots)\n",
    "\n",
    "end program histogram"
   ]
  },
  {
   "cell_type": "markdown",
   "id": "a2f524bd",
   "metadata": {
    "editable": false
   },
   "source": [
    "### Solution\n",
    "\n",
    "Example stored in: `../../examples/Fortran/atomic_solution.f90`"
   ]
  },
  {
   "cell_type": "code",
   "execution_count": null,
   "id": "f9090e08",
   "metadata": {
    "jupyter": {
     "source_hidden": true
    }
   },
   "outputs": [],
   "source": [
    "%%idrrun -a\n",
    "program histogram\n",
    "    use iso_fortran_env, only : REAL64, INT32\n",
    "    use openacc\n",
    "    implicit none\n",
    "\n",
    "    integer(kind=INT32 ), dimension(:) , allocatable :: shots\n",
    "    integer(kind=INT32 ), dimension(10)              :: histo\n",
    "    integer(kind=INT32 ), parameter                  :: nshots = 1e9\n",
    "    real   (kind=REAL64)                             :: random_real\n",
    "    integer(kind=INT32 )                             :: i\n",
    "\n",
    "    ! Histogram allocation and initialization\n",
    "    do i = 1, 10\n",
    "     histo(i) = 0\n",
    "    enddo\n",
    "\n",
    "    ! Allocate memory for the random numbers\n",
    "    allocate(shots(nshots))\n",
    "\n",
    "    ! Fill the array on the CPU (rand is not available on GPU with Nvidia Compilers)\n",
    "    do i = 1, nshots\n",
    "        call random_number(random_real)\n",
    "        shots(i) = floor(random_real * 10.0_real64) + 1\n",
    "    enddo\n",
    "\n",
    "    ! Count the number of time each number was drawn\n",
    "    !$acc parallel loop copyin(shots(:)) copyout(histo(:))\n",
    "    do i = 1, nshots\n",
    "        !$acc atomic \n",
    "        histo(shots(i)) = histo(shots(i)) + 1\n",
    "    enddo\n",
    "\n",
    "    !  Print results\n",
    "    do i = 1, 10\n",
    "        write(0,\"(i2,a2,i10,a2,f10.8,a1)\") i,\": \", histo(i), \" (\", real(histo(i))/1.e9, \")\"\n",
    "    enddo\n",
    "\n",
    "    deallocate(shots)\n",
    "\n",
    "end program histogram"
   ]
  },
  {
   "cell_type": "markdown",
   "id": "1de43ec1",
   "metadata": {
    "editable": false
   },
   "source": [
    "#### Important Note\n",
    "\n",
    "With recent NVidia compilers you can use reduction on tables. It will be more efficient than using atomic operations."
   ]
  }
 ],
 "metadata": {
  "kernelspec": {
   "display_name": "GPU Directives",
   "language": "python",
   "name": "gpu_directives"
  }
 },
 "nbformat": 4,
 "nbformat_minor": 5
}
