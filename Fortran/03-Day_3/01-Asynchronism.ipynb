{
 "cells": [
  {
   "cell_type": "markdown",
   "id": "4e052e9d",
   "metadata": {
    "editable": false
   },
   "source": [
    "# Performing several tasks at the same time on the GPU\n",
    "\n",
    "---\n",
    "**Requirements:**\n",
    "\n",
    "- [Get started](./Get_started.ipynb)\n",
    "- [Atomic operations](./Atomic_operations.ipynb)\n",
    "- [Manual building](./Manual_building.ipynb)\n",
    "- [Data management](./Data_management.ipynb)\n",
    "\n",
    "---\n",
    "\n",
    "This part describes how to overlap several kernels on the GPU and/or how to overlap kernels with data transfers.\n",
    "This feature is called asynchronism and will give you the possibility to get better performance when it is possible to implement it.\n",
    "\n",
    "On the GPU you can have several execution threads (called _streams_ or _activity queue_) running at the same time independently.\n",
    "A _stream_ can be viewed as a pipeline that you feed with kernels and data transfers that have to be executed in order.\n",
    "\n",
    "So as a developer you can decide to activate several streams if your code is able to withstand them.\n",
    "OpenACC gives you the possibility to manage streams with the tools:\n",
    "\n",
    "- _async_ clause\n",
    "- _wait_ clause or directive\n",
    "\n",
    " By default, only one stream is created."
   ]
  },
  {
   "cell_type": "markdown",
   "id": "cb9ec1b6",
   "metadata": {
    "editable": false
   },
   "source": [
    "## _async_ clause\n",
    "\n",
    "Some directives accept the clause _async_ to run on another stream than the default one.\n",
    "You can specify an integer (which can be a variable) to have several streams concurrently.\n",
    "\n",
    "If you omit the optional integer then a \"default\" extra stream is used.\n",
    "\n",
    "The directives which accept _async_ are:\n",
    "\n",
    "- the compute constructs: `acc parallel`, `acc kernels`, `acc serial`\n",
    "- the unstructured data directives: `acc enter data`, `acc exit data`, `acc update`\n",
    "- the `acc wait` directive\n",
    "\n",
    "For example we can create 2 streams to allow data transfers and kernel overlap.\n",
    "\n",
    "```fortran\n",
    "integer :: stream1=1\n",
    "integer :: stream2=2\n",
    "\n",
    "!$acc enter data copyin(array(:)) async(stream1)\n",
    "! Some stuff\n",
    "!$acc parallel async(stream2)\n",
    "    ! A wonderful kernel\n",
    "!$acc end parallel\n",
    "```"
   ]
  },
  {
   "cell_type": "markdown",
   "id": "ce0815e5",
   "metadata": {
    "editable": false
   },
   "source": [
    "## _wait_ clause\n",
    "\n",
    "Running fast is important but having correct results is surely more important.\n",
    "\n",
    "If you have a kernel that needs the result of another kernel or that a data transfer is complete then you have to wait for the operations to finalize.\n",
    "You can add the _wait_ clause (with an optional integer) to the directives:\n",
    "\n",
    "- the compute constructs: `acc parallel`, `acc kernels`, `acc serial`\n",
    "- the unstructured data directives: `acc enter data`, `acc exit data`, `acc update`\n",
    "\n",
    "This example implements 2 streams but this time the kernel needs the data transfer on stream1 to complete before being executed.\n",
    "\n",
    "```fortran\n",
    "integer stream1=1\n",
    "integer stream2=2\n",
    "!$acc enter data copyin(array(:)) async(stream1)\n",
    "! Some stuff\n",
    "\n",
    "!$acc parallel async(stream2) wait(stream1)\n",
    "    ! A wonderful kernel\n",
    "!$acc end parallel   \n",
    "```"
   ]
  },
  {
   "cell_type": "markdown",
   "id": "bbd30a47",
   "metadata": {
    "editable": false
   },
   "source": [
    "Furthermore you can wait for several streams to complete by giving a comma-separated list of integers as clause arguments\n",
    "\n",
    "This example implements 2 streams but this time the kernel needs the data transfer on stream1 to complete before being executed.\n",
    "\n",
    "```fortran\n",
    "integer stream1=1\n",
    "integer stream2=2\n",
    "integer stream3=3\n",
    "!$acc parallel loop async(stream3)\n",
    "do i = 1, system_size\n",
    "    ! Kernel launched on stream3\n",
    "enddo\n",
    "\n",
    "!$acc enter data copyin(array(:)) async(stream1)\n",
    "! Some stuff\n",
    "\n",
    "!$acc parallel async(stream2) wait(stream1, stream3)\n",
    "    ! A wonderful kernel\n",
    "!$acc end parallel\n",
    "```\n",
    "\n",
    "\n",
    "If you omit the clause options, then the operations will wait until all asynchronous operations fulfill.\n",
    "\n",
    "```fortran\n",
    "!$acc parallel wait\n",
    "    ! A wonderful kernel\n",
    "!$acc end parallel    \n",
    "```"
   ]
  },
  {
   "cell_type": "markdown",
   "id": "55582b7e",
   "metadata": {
    "editable": false
   },
   "source": [
    "## _wait_ directive\n",
    "\n",
    "_wait_ comes also as a standalone directive.\n",
    "```fortran\n",
    "integer stream1=1\n",
    "integer stream2=2\n",
    "integer stream3=3\n",
    "\n",
    "!$acc parallel loop async(stream3)\n",
    "do i = 1, system_size\n",
    "    ! Kernel launched on stream3\n",
    "enddo\n",
    "\n",
    "!$acc enter data copyin(array(:)) async(stream1)\n",
    "! Some stuff\n",
    "\n",
    "!$acc wait(stream3)\n",
    "\n",
    "!$acc parallel async(stream2)\n",
    "    ! A wonderful kernel\n",
    "!$acc end parallel\n",
    "```"
   ]
  },
  {
   "cell_type": "markdown",
   "id": "bbd02da0",
   "metadata": {
    "editable": false
   },
   "source": [
    "## Exercise\n",
    "\n",
    "In this exercise you have to compute the matrix product $C = A \\times B$.\n",
    "\n",
    "You have to add directives to:\n",
    "\n",
    "- use the program lifetime unstructured data region to allocate memory on the GPU\n",
    "- perform the matrix initialization on the GPU\n",
    "- perform the matrix product on the GPU\n",
    "- create and analyze a profile (add the option `--profile` to idrrun)\n",
    "- save the .qdrep file\n",
    "- check what can be done asynchronously and implement it\n",
    "- create and analyze a profile (add the option `--profile` to idrrun)\n",
    "- save the .qdrep file\n",
    "\n",
    "Your solution is considered correct if no implicit action are done.\n",
    "\n",
    "Example stored in: `../../examples/Fortran/async_async_exercise.f90`"
   ]
  },
  {
   "cell_type": "code",
   "execution_count": null,
   "id": "e2c5244f",
   "metadata": {},
   "outputs": [],
   "source": [
    "%%idrrun -a \n",
    "program prod_mat\n",
    "    use iso_fortran_env, only : INT32, REAL64\n",
    "    implicit none\n",
    "    integer (kind=INT32)               :: rank=5000\n",
    "    real    (kind=REAL64), allocatable :: A(:,:), B(:,:), C(:,:)\n",
    "    integer (kind=INT32)               :: i, j, k\n",
    "    integer (kind=INT32)               :: streamA, streamB, streamC\n",
    "\n",
    "    streamA = 1\n",
    "    streamB = 2\n",
    "    streamC = 3\n",
    "\n",
    "    call create_mat(A, rank, streamA)\n",
    "    call create_mat(B, rank, streamB)\n",
    "    call create_mat(C, rank, streamC)\n",
    "\n",
    "    call init_mat(A, rank, 3.0_real64 , streamA)\n",
    "    call init_mat(B, rank, 14.0_real64, streamB)\n",
    "    call init_mat(C, rank, 0.0_real64 , streamC)\n",
    "\n",
    "    do j=1, rank\n",
    "        do k=1, rank\n",
    "            do i=1, rank\n",
    "                C(i,j) = C(i,j) + A(i,k)*B(k,j)\n",
    "            enddo\n",
    "        enddo\n",
    "    enddo\n",
    "    print *, \"Check that this is close to 42.0:\", C(12,12)\n",
    "    deallocate(A, B, C)\n",
    "    contains\n",
    "        subroutine create_mat(mat, rank, stream)\n",
    "            real   (kind=REAL64), intent(inout), allocatable   :: mat(:,:)\n",
    "            integer(kind=INT32 ), intent(in)                   :: rank, stream\n",
    "            allocate(mat(rank,rank))\n",
    "        end subroutine create_mat\n",
    "\n",
    "        subroutine init_mat(mat, rank, diag, stream)\n",
    "            real    (kind=REAL64), intent(inout)   :: mat(:,:)\n",
    "            real    (kind=REAL64), intent(in)      :: diag\n",
    "            integer (kind=INT32 ), intent(in)      :: rank, stream\n",
    "            integer (kind=INT32 )                  :: i, j\n",
    "\n",
    "            do j=1, rank\n",
    "                do i=1, rank\n",
    "                   mat(i,j) = 0.0_real64\n",
    "                enddo\n",
    "            enddo\n",
    "\n",
    "            do j=1, rank\n",
    "                mat(j,j) = diag\n",
    "            enddo\n",
    "        end subroutine init_mat\n",
    "end program prod_mat"
   ]
  },
  {
   "cell_type": "markdown",
   "id": "49a6fbd1",
   "metadata": {
    "editable": false
   },
   "source": [
    "### Solution\n",
    "\n",
    "Example stored in: `../../examples/Fortran/async_async_solution.f90`"
   ]
  },
  {
   "cell_type": "code",
   "execution_count": null,
   "id": "49feeb54",
   "metadata": {
    "jupyter": {
     "source_hidden": true
    }
   },
   "outputs": [],
   "source": [
    "%%idrrun -a --profile\n",
    "program prod_mat\n",
    "    use iso_fortran_env, only : INT32, REAL64\n",
    "    implicit none\n",
    "    integer (kind=INT32)               :: rank=5000\n",
    "    real    (kind=REAL64), allocatable :: A(:,:), B(:,:), C(:,:)\n",
    "    integer (kind=INT32)               :: i, j, k\n",
    "    integer (kind=INT32)               :: streamA, streamB, streamC\n",
    "\n",
    "    streamA = 1\n",
    "    streamB = 2\n",
    "    streamC = 3\n",
    "\n",
    "    call create_mat(A, rank, streamA)\n",
    "    call create_mat(B, rank, streamB)\n",
    "    call create_mat(C, rank, streamC)\n",
    "\n",
    "    call init_mat(A, rank, 3.0_real64 , streamA)\n",
    "    call init_mat(B, rank, 14.0_real64, streamB)\n",
    "    call init_mat(C, rank, 0.0_real64 , streamC)\n",
    "\n",
    "    !$acc parallel loop &\n",
    "    !$acc present(A(:rank,:rank), B(:rank,:rank), C(:rank,:rank)) &\n",
    "    !$acc gang wait(1,2,3)\n",
    "    do j=1, rank\n",
    "        do k=1, rank\n",
    "            !$acc loop vector\n",
    "            do i=1, rank\n",
    "                !$acc atomic update\n",
    "                C(i,j) = C(i,j) + A(i,k)*B(k,j)\n",
    "            enddo\n",
    "        enddo\n",
    "    enddo\n",
    "    !$acc exit data delete(A(:rank,:rank), B(:rank,:rank)) copyout(C(:rank,:rank))\n",
    "    print *, \"Check that this is close to 42.0:\", C(12,12)\n",
    "    deallocate(A, B, C)\n",
    "    contains\n",
    "        subroutine create_mat(mat, rank, stream)\n",
    "            real   (kind=REAL64), intent(inout), allocatable   :: mat(:,:)\n",
    "            integer(kind=INT32 ), intent(in)                   :: rank, stream\n",
    "            allocate(mat(rank,rank))\n",
    "            !$acc enter data create(mat(:rank,:rank)) async(stream)\n",
    "        end subroutine create_mat\n",
    "\n",
    "        subroutine init_mat(mat, rank, diag, stream)\n",
    "            real    (kind=REAL64), intent(inout)   :: mat(:,:)\n",
    "            real    (kind=REAL64), intent(in)      :: diag\n",
    "            integer (kind=INT32 ), intent(in)      :: rank, stream\n",
    "            integer (kind=INT32 )                  :: i, j\n",
    "\n",
    "            !$acc parallel loop collapse(2) async(stream)\n",
    "            do j=1, rank\n",
    "                do i=1, rank\n",
    "                   mat(i,j) = 0.0_real64\n",
    "                enddo\n",
    "            enddo\n",
    "\n",
    "            !$acc parallel loop async(stream)\n",
    "            do j=1, rank\n",
    "                mat(j,j) = diag\n",
    "            enddo\n",
    "        end subroutine init_mat\n",
    "end program prod_mat"
   ]
  },
  {
   "cell_type": "markdown",
   "id": "8d52d58d",
   "metadata": {},
   "source": [
    "In an ideal world, the solution would produce a profile like this one:\n",
    "\n",
    "<img src=\"../../pictures/async.png\" style=\"float:none\"/>"
   ]
  },
  {
   "cell_type": "markdown",
   "id": "8161361d",
   "metadata": {
    "editable": false
   },
   "source": [
    "### Comments\n",
    "\n",
    "- Several threads will update the same memory location for C so you have to use an `acc atomic update`\n",
    "- `collapse` is used to fuse the 3 loops. It helps the compiler to generate a more efficient code"
   ]
  },
  {
   "cell_type": "markdown",
   "id": "013cd6b8",
   "metadata": {
    "editable": false
   },
   "source": [
    "## Advanced NVIDIA compiler option to use Pinned Memory: `-gpu=pinned`\n",
    "\n",
    "If you look at the profiles of your code (at this point \"if\" should be \"when\"), you can see that the memory transfers occurs in chunks of more or less constant size.\n",
    "Even though you have a large memory block it will be split into several smaller pieces which have the size of a memory page."
   ]
  },
  {
   "cell_type": "markdown",
   "id": "5d1132f5",
   "metadata": {
    "editable": false
   },
   "source": [
    "Memory not pinned:\n",
    "\n",
    "<img alt=\"Nsight output unpinned memory\" src=\"../../pictures/NSight-matmul_not_pinned.png\" style=\"float:none\"/>\n",
    "\n",
    "Memory pinned:\n",
    "\n",
    "<img alt=\"Nsight output pinned memory\" src=\"../../pictures/NSight-matmul_pinned.png\" style=\"float:none\"/>"
   ]
  },
  {
   "cell_type": "markdown",
   "id": "90ff876b",
   "metadata": {
    "editable": false
   },
   "source": [
    "Usually the transfer time is reduced when pinned memory is used.\n",
    "It can also cause some segmentation faults. Do your testing!"
   ]
  },
  {
   "cell_type": "markdown",
   "id": "20294a1d",
   "metadata": {
    "editable": false
   },
   "source": [
    "### Bonus\n",
    "\n",
    "You can launch the exercise with `%%idrrun -a --profile --accopts \"cc70,pinned\"` to test the effect of pinned memory.\n",
    "You can save a profile to compare the 3 versions."
   ]
  }
 ],
 "metadata": {
  "kernelspec": {
   "display_name": "GPU Directives",
   "language": "python",
   "name": "gpu_directives"
  }
 },
 "nbformat": 4,
 "nbformat_minor": 5
}
