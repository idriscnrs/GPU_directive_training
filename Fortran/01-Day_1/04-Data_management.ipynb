{
 "cells": [
  {
   "cell_type": "markdown",
   "id": "e1d312b3",
   "metadata": {
    "editable": false
   },
   "source": [
    "# Data management"
   ]
  },
  {
   "cell_type": "markdown",
   "id": "ee63b2cb",
   "metadata": {
    "editable": false
   },
   "source": [
    "## Why do we have to care about data transfers?\n",
    "\n",
    "The main bottleneck in using GPUs for computing is data transfers between the host and the GPU.\n",
    "\n",
    "Let's have a look at the bandwidths.\n",
    "\n",
    "<img alt=\"Typical bandwidths\" src=\"../../pictures/bandwidths.png\" style=\"float:none\" width=\"40%\"/>\n",
    "\n",
    "On this picture the size of the arrows represents the bandwidth.\n",
    "To have a better idea here are some numbers:\n",
    "\n",
    "- GPU to its internal memory (HBM2): 900 GB/s\n",
    "- GPU to CPU via PCIe: 16 GB/s\n",
    "- GPU to GPU via NVLink: 25 GB/s\n",
    "- CPU to RAM (DDR4): 128 GB/s\n",
    "\n",
    "So if you have to remember only one thing: take care of memory transfers."
   ]
  },
  {
   "cell_type": "markdown",
   "id": "3a294152",
   "metadata": {
    "editable": false
   },
   "source": [
    "## The easy way: NVIDIA managed memory\n",
    "\n",
    "NVIDIA offers a feature called [Unified Memory](https://developer.nvidia.com/blog/unified-memory-cuda-beginners/) which allows developers to \"forget\" about data transfers.\n",
    "The memory space of the host and the GPU are shared so that the normal [_page fault_ mechanism](https://en.wikipedia.org/wiki/Page_fault) can be used to manage transfers.\n",
    "\n",
    "This feature is activated with the compiler options:\n",
    "\n",
    "- NVIDIA compilers: `-gpu:managed`\n",
    "- PGI: `-ta=tesla:managed`\n",
    "\n",
    "This might give good performance results and you might just forget explicit data transfers. However, depending on the complexity of your data structures, you might need to deal explicitly with data transfers. The next section gives an introduction to manual data management.\n",
    "\n",
    "Unified Memory also allows to increase virtual memory space on GPU (so called GPU memory oversubscription)."
   ]
  },
  {
   "cell_type": "markdown",
   "id": "d838819f",
   "metadata": {
    "editable": false
   },
   "source": [
    "## Manual data movement"
   ]
  },
  {
   "cell_type": "markdown",
   "id": "21116751",
   "metadata": {
    "editable": false
   },
   "source": [
    "### Data clauses\n",
    "\n",
    "There are multiple data directives that accept the same data clauses. So we start with the data clauses and than continue with data directives.\n",
    "\n",
    "In order to choose the right data clause for data transfers, you need to answer the following two questions:\n",
    "\n",
    "- Does the kernel need the values computed beforehand by the CPU?\n",
    "- Are the values computed inside the kernel needed on the CPU afterhand?\n",
    "\n",
    "|                  | Needed after        | Not needed after  |\n",
    "|------------------|---------------------|-------------------|\n",
    "|Needed before     |  `copy(var1, ...)`    | `copyin(var2, ...)` |\n",
    "|Not needed before |  `copyout(var3, ...)` | `create(var4, ...)` |\n",
    "\n",
    "Figure below illustrates transfers, if any, between the CPU and the GPU for these four clauses.\n",
    "\n",
    "<img alt=\"Data clauses\" src=\"../../pictures/data_clauses_new.png\" style=\"float:none\" width=\"95%\"/>\n",
    "\n",
    "**Important**: the presence of variables on the GPU is checked at runtime. If some variables are already found on the GPU, these clauses have no effect.\n",
    "It means that you cannot update variables (on the GPU at the region entrance or on the CPU at exit).\n",
    "You have to use the `acc update` directive in this case.\n",
    "\n",
    "Other data clauses include:\n",
    "\n",
    "- `present`: check if data is present in the GPU memory; an error is raised if it is not the case\n",
    "- `deviceptr`: pass the GPU pointer; used for interoperability between other APIs (e.g. CUDA, Thrust) and OpenACC\n",
    "- `attach`: attach a pointer to memory already allocated in the GPU"
   ]
  },
  {
   "cell_type": "markdown",
   "id": "3682363b",
   "metadata": {
    "editable": false
   },
   "source": [
    "#### Array shapes and partial data transfers\n",
    "\n",
    "For array transfers, full or partial, one has to follow the language syntax.\n",
    "\n",
    "In Fortran, you have to specify the range of the array in the format `(first index:last index)`.\n",
    "\n",
    "```fortran\n",
    "    !$acc data copyout(myarray(1:size))\n",
    "       ! Some really fast kernels\n",
    "    !$acc end data\n",
    "```\n",
    "\n",
    "For partial data transfer, you can specify a subarray. For example: \n",
    "\n",
    "```fortran\n",
    " !$acc data copyout(myarray(2:size-1))\n",
    "```\n",
    "\n",
    "\n",
    "Before moving on to data directives, some vocabulary needs to be introduced. According to data lifetime on the GPU, two types of data regions can be distinguished: _structured_ and _unstructured_. Structured data regions are defined within the same scope (e.g. routine), while unstructured data regions allow data creation and deletion in different scopes."
   ]
  },
  {
   "cell_type": "markdown",
   "id": "3398edc6",
   "metadata": {
    "editable": false
   },
   "source": [
    "### Implicit structured data regions associated with compute constructs\n",
    "\n",
    "Any of the three compute constructs -- `parallel`, `kernels`, or `serial` -- opens an implicit data region. Data transfers will occur just before the kernel starts and just after the kernel ends.\n",
    "\n",
    "In the [Get started](../Get_started.ipynb) notebook, we have already seen that it is possible to specify data clauses in `acc parallel` to manage our variables.\n",
    "The compiler checks what variables (scalar or arrays) are needed in the kernel and will try to add the _data clauses_ necessary."
   ]
  },
  {
   "cell_type": "markdown",
   "id": "01b24022",
   "metadata": {
    "editable": false
   },
   "source": [
    "#### Exercise\n",
    "\n",
    "- Create a parallel region for each loop.\n",
    "- For each parallel region, what _data clause_ should be added?\n",
    "\n",
    "Example stored in: `../../examples/Fortran/Data_Management_vector_sum_exercise.f90`"
   ]
  },
  {
   "cell_type": "code",
   "execution_count": null,
   "id": "b6f2434d",
   "metadata": {},
   "outputs": [],
   "source": [
    "%%idrrun\n",
    "program vector_sum\n",
    "    use iso_fortran_env, only : INT32, REAL64\n",
    "    use openacc\n",
    "    implicit none\n",
    "\n",
    "    integer(kind=INT32), parameter              :: system_size  = 10000\n",
    "    integer(kind=INT32), dimension(system_size) :: a, b, c\n",
    "    integer(kind=INT32)                         :: i\n",
    "\n",
    "    ! Insert OpenACC directive\n",
    "    do i = 1, system_size\n",
    "        a(i) = i\n",
    "        b(i) = i * 2\n",
    "    enddo\n",
    "\n",
    "    ! Insert OpenACC directive\n",
    "    do i = 1, system_size\n",
    "       c(i) = a(i) + b(i)\n",
    "    enddo\n",
    "\n",
    "    write(0,\"(a22,i3)\") \"value at position 12: \", c(12)\n",
    "\n",
    "end program vector_sum        "
   ]
  },
  {
   "cell_type": "markdown",
   "id": "81927316",
   "metadata": {
    "editable": false
   },
   "source": [
    "#### Answer\n",
    "\n",
    "- For each parallel region, what _data clause_ should be added?\n",
    "  - Loop 1: The initialization of a and b is done directly on GPU so we don't need to copy the values from CPU.\n",
    "              Variables a and b are used to compute c after execution of the first parallel region.\n",
    "              We need to `copyout` a and b.\n",
    "  - Loop 2: We need the values of a and b to compute c. This computation is the initialization of c.\n",
    "              We print the value of one element of c after execution.\n",
    "              The values of a and b are not needed anymore.\n",
    "              We need to `copyin` a and b. We need to `copyout` c.\n",
    "\n",
    "Example stored in: `../../examples/Fortran/Data_Management_vector_sum_solution.f90`"
   ]
  },
  {
   "cell_type": "code",
   "execution_count": null,
   "id": "64ee58bb",
   "metadata": {
    "jupyter": {
     "source_hidden": true
    }
   },
   "outputs": [],
   "source": [
    "%%idrrun -a\n",
    "program vector_sum\n",
    "    use iso_fortran_env, only : INT32, REAL64\n",
    "    use openacc\n",
    "    implicit none\n",
    "\n",
    "    integer(kind=INT32), parameter              :: system_size  = 10000\n",
    "    integer(kind=INT32), dimension(system_size) :: a, b, c\n",
    "    integer(kind=INT32)                         :: i\n",
    "\n",
    "    !$acc parallel loop copyout(a(:), b(:)) \n",
    "    do i = 1, system_size\n",
    "        a(i) = i\n",
    "        b(i) = i * 2\n",
    "    enddo\n",
    "\n",
    "    !$acc parallel loop copyin(a(:), b(:)) copyout(c(:))\n",
    "    do i = 1, system_size\n",
    "       c(i) = a(i) + b(i)\n",
    "    enddo\n",
    "\n",
    "    write(0,\"(a22,i3)\") \"value at position 12: \", c(12)\n",
    "\n",
    "end program vector_sum        "
   ]
  },
  {
   "cell_type": "markdown",
   "id": "8d055db3",
   "metadata": {},
   "source": [
    "If you use NVIDIA compilers (formerly PGI), most of the time the right directives will be added _implicitly_.\n",
    "\n",
    "Our advice is to make explicit all actions performed implicitly by the compiler.\n",
    "It will help you to keep a code understandable and avoid porting problems if you have to change compiler.\n",
    "\n",
    "All compilers might not choose the same default behavior."
   ]
  },
  {
   "cell_type": "markdown",
   "id": "9a318da0",
   "metadata": {
    "editable": false
   },
   "source": [
    "### Explicit structured data regions `acc data`\n",
    "\n",
    "Using the _data regions_ associated to kernels is quite convenient and is a good strategy for incremental porting of your code.\n",
    "\n",
    "However, this results in a large number of data transfers that can be avoided.\n",
    "\n",
    "If we take a look at the previous example, we count 5 data transfers:\n",
    "\n",
    "- Loop 1: copyout(a, b)\n",
    "- Loop 2: copyin(a, b) copyout(c)\n",
    "\n",
    "If we look closely we can see that we do not need a and b on the CPU between the kernels.\n",
    "It means that data transfers of a and b at the end of kernel1 and at the beginning of kernel2 are useless.\n",
    "\n",
    "The solution is to encapsulate the two loops in a _structured data region_ that you can open we the directive `acc data`.\n",
    "The syntax is:\n",
    "\n",
    "```fortran\n",
    "!$acc data <data clauses>\n",
    "    ! Your code\n",
    "!$acc end data\n",
    "```"
   ]
  },
  {
   "cell_type": "markdown",
   "id": "e2439458",
   "metadata": {
    "editable": false
   },
   "source": [
    "#### Exercise\n",
    "\n",
    "Analyze the code to create a _structured data region_ that encompasses both loops.\n",
    "The data clause `present` have been added to the _data region associated with kernels_. You should not remove this part.\n",
    "\n",
    "How many data transfers occurred?\n",
    "\n",
    "Example stored in: `../../examples/Fortran/Data_Management_structured_data_region_exercise.f90`"
   ]
  },
  {
   "cell_type": "code",
   "execution_count": null,
   "id": "cc848027",
   "metadata": {},
   "outputs": [],
   "source": [
    "%%idrrun -a\n",
    "program vector_addition\n",
    "    use iso_fortran_env, only : INT32\n",
    "    use openacc\n",
    "    implicit none\n",
    "\n",
    "    integer(kind=INT32), parameter              :: system_size  = 10000\n",
    "    integer(kind=INT32), dimension(system_size) :: a, b, c\n",
    "    integer(kind=INT32)                         :: i\n",
    "\n",
    "!   Structured data region\n",
    "\n",
    "    !$acc parallel loop present(a(:), b(:))\n",
    "    do i = 1, system_size\n",
    "        a(i) = i\n",
    "        b(i) = i * 2\n",
    "    enddo\n",
    "\n",
    "    !$acc parallel loop present(a(:), b(:), c(:))\n",
    "    do i = 1, system_size\n",
    "       c(i) = a(i) + b(i)\n",
    "    enddo\n",
    "\n",
    "!   End of structured data region\n",
    "\n",
    "    write(0,\"(a22,i3)\") \"value at position 12: \", c(12)\n",
    "end program vector_addition"
   ]
  },
  {
   "cell_type": "markdown",
   "id": "52c89332",
   "metadata": {
    "editable": false
   },
   "source": [
    "#### Solution\n",
    "\n",
    "Example stored in: `../../examples/Fortran/Data_Management_structured_data_region_solution.f90`"
   ]
  },
  {
   "cell_type": "code",
   "execution_count": null,
   "id": "1cd2c508",
   "metadata": {
    "jupyter": {
     "source_hidden": true
    }
   },
   "outputs": [],
   "source": [
    "%%idrrun -a\n",
    "program vector_addition\n",
    "    use iso_fortran_env, only : INT32\n",
    "    use openacc\n",
    "    implicit none\n",
    "\n",
    "    integer(kind=INT32), parameter              :: system_size  = 10000\n",
    "    integer(kind=INT32), dimension(system_size) :: a, b, c\n",
    "    integer(kind=INT32)                         :: i\n",
    "\n",
    "!   Structured data region\n",
    "    !$acc data create(a, b) copyout(c)\n",
    "\n",
    "    !$acc parallel loop present(a(:), b(:))\n",
    "    do i = 1, system_size\n",
    "        a(i) = i\n",
    "        b(i) = i * 2\n",
    "    enddo\n",
    "\n",
    "    !$acc parallel loop present(a(:), b(:), c(:))\n",
    "    do i = 1, system_size\n",
    "       c(i) = a(i) + b(i)\n",
    "    enddo\n",
    "\n",
    "!   End of structured data region\n",
    "    !$acc end data\n",
    "\n",
    "    write(0,\"(a22,i3)\") \"value at position 12: \", c(12)\n",
    "end program vector_addition"
   ]
  },
  {
   "cell_type": "markdown",
   "id": "6c3c434f",
   "metadata": {},
   "source": [
    "When using _structured data region_ we advise to use the `present` data clause which tells that the data should already be in GPU memory."
   ]
  },
  {
   "cell_type": "markdown",
   "id": "55ee123b",
   "metadata": {
    "editable": false
   },
   "source": [
    "#### WRONG example\n",
    "\n",
    "Here we are going to simulate a case where we make modifications on the CPU between 2 GPU kernels.\n",
    "This can happen when you are in the porting phase or because some parts of the computation cannot be executed on the GPU.\n",
    "\n",
    "The example given below doesn't give the right results on the CPU. Why?\n",
    "\n",
    "Example stored in: `../../examples/Fortran/Data_Management_wrong_example.f90`"
   ]
  },
  {
   "cell_type": "code",
   "execution_count": null,
   "id": "0a08b1a3",
   "metadata": {},
   "outputs": [],
   "source": [
    "%%idrrun -a\n",
    "program wrong_usage\n",
    "    use iso_fortran_env, only : INT32, REAL64\n",
    "    use openacc\n",
    "    implicit none\n",
    "        \n",
    "    integer(kind=INT32 ), parameter              :: system_size = 10000\n",
    "    real   (kind=real64), dimension(system_size) :: a, b, c\n",
    "    integer(kind=INT32 )                         :: i\n",
    "\n",
    "!  Structured data region\n",
    "    !$acc data create(a, b) copyout(c)\n",
    "\n",
    "        !$acc parallel loop present(a(:), b(:))\n",
    "        do i = 1, system_size\n",
    "            a(i) = i\n",
    "            b(i) = i*2\n",
    "        enddo\n",
    "\n",
    "        ! We update an element of the array on the CPU\n",
    "        a(12) = 42\n",
    "\n",
    "        !$acc parallel loop present(b(:), c(:)) copyin(a(:))\n",
    "        do i = 1, system_size\n",
    "            c(i) = a(i) + b(i)\n",
    "        enddo\n",
    "    !$acc end data\n",
    "    write(0,\"(a22,f10.5)\") \"value at position 12: \", c(12)\n",
    "end program wrong_usage"
   ]
  },
  {
   "cell_type": "markdown",
   "id": "a33e57fc",
   "metadata": {},
   "source": [
    "This example is here to emphasize that you cannot update data with data clauses.\n",
    "It has an unintended behavior."
   ]
  },
  {
   "cell_type": "markdown",
   "id": "d52c47fb",
   "metadata": {
    "editable": false
   },
   "source": [
    "### Updating data\n",
    "\n",
    "Let's say that all your code is not ported to the GPU.\n",
    "Then it means that you will have some variables (arrays or scalars) for which both, the CPU and the GPU, will perform computation.\n",
    "\n",
    "To keep the results correct, you will have to update those variables when needed."
   ]
  },
  {
   "cell_type": "markdown",
   "id": "e6cad8b6",
   "metadata": {
    "editable": false
   },
   "source": [
    "#### `acc update device`\n",
    "\n",
    "To update the value a variable has on the GPU with what the CPU has you have to use:\n",
    "```fortran\n",
    "!$acc update device(var1, var2, ...)\n",
    "```\n",
    "\n",
    "**Important**: The directive cannot be used inside a compute construct."
   ]
  },
  {
   "cell_type": "markdown",
   "id": "f43a3c08",
   "metadata": {
    "editable": false
   },
   "source": [
    "#### `acc update self`\n",
    "\n",
    "Once again if all your code is not ported on GPU the values computed on the GPU may be needed afterwards on the CPU.\n",
    "\n",
    "The directive to use is:\n",
    "```fortran\n",
    "!$acc update self(var1, var2, ...)\n",
    "```\n",
    "\n",
    "\n",
    "Correct the previous example in order to obtain correct restuls:\n",
    "\n",
    "Example stored in: `../../examples/Fortran/Data_Management_wrong_example.f90`"
   ]
  },
  {
   "cell_type": "code",
   "execution_count": null,
   "id": "b3f61823",
   "metadata": {},
   "outputs": [],
   "source": [
    "%%idrrun -a\n",
    "program wrong_usage\n",
    "    use iso_fortran_env, only : INT32, REAL64\n",
    "    use openacc\n",
    "    implicit none\n",
    "        \n",
    "    integer(kind=INT32 ), parameter              :: system_size = 10000\n",
    "    real   (kind=real64), dimension(system_size) :: a, b, c\n",
    "    integer(kind=INT32 )                         :: i\n",
    "\n",
    "!  Structured data region\n",
    "    !$acc data create(a, b) copyout(c)\n",
    "\n",
    "        !$acc parallel loop present(a(:), b(:))\n",
    "        do i = 1, system_size\n",
    "            a(i) = i\n",
    "            b(i) = i*2\n",
    "        enddo\n",
    "\n",
    "        ! We update an element of the array on the CPU\n",
    "        a(12) = 42\n",
    "\n",
    "        !$acc parallel loop present(b(:), c(:)) copyin(a(:))\n",
    "        do i = 1, system_size\n",
    "            c(i) = a(i) + b(i)\n",
    "        enddo\n",
    "    !$acc end data\n",
    "    write(0,\"(a22,f10.5)\") \"value at position 12: \", c(12)\n",
    "end program wrong_usage"
   ]
  },
  {
   "cell_type": "markdown",
   "id": "39751907",
   "metadata": {
    "editable": false
   },
   "source": [
    "### Explicit unstructured data regions `acc enter data`\n",
    "\n",
    "Each time you run a code on the GPU, a data region is created for the lifetime of the program.\n",
    "\n",
    "There are two directives to manage data inside this region:\n",
    "\n",
    "- `acc enter data <input data clause>`: to put data inside the region (allocate memory, copy data from the CPU to the GPU)\n",
    "- `acc exit data <output data clause>`: to remove data (deallocate memory, copy data from the GPU to the CPU)\n",
    "\n",
    "This feature is helpful when you have your variables declared at one point of your code and used in another one (modular programming).\n",
    "You can allocate memory as soon as the variable is created and just use _present_ when you create kernels."
   ]
  },
  {
   "cell_type": "markdown",
   "id": "9a30760f",
   "metadata": {
    "editable": false
   },
   "source": [
    "#### `acc enter data`\n",
    "\n",
    "This directive is used to put data on the GPU inside the unstructured data region spanning the lifetime of the program.\n",
    "It will allocate the memory necessary for the variables and, if asked, copy the data present on the CPU to the GPU.\n",
    "\n",
    "It accepts the clauses:\n",
    "\n",
    "- _create_: allocate memory on the GPU\n",
    "- _copyin_: allocate memory on the GPU and initialize it with the values that the variable has on the CPU\n",
    "- _attach_: attach a pointer to memory already in the GPU\n",
    "\n",
    "The most common clauses are _create_ and _copyin_. The _attach_ clause is a bit more advanced and is not covered in this part.\n",
    "\n",
    "Here is an example of syntax:\n",
    "```fortan\n",
    "!$acc enter data copyin(var1(:), ...) create(var2(:))\n",
    "```\n",
    "\n",
    "\n",
    "**Important:** the directive must appear after the allocation of the memory on the CPU.\n",
    "\n",
    "```fortran\n",
    "real, dimension(:,:,:) :: var\n",
    "allocate(var(nx,ny,nz))\n",
    "!$acc enter data create(var(:,:,:))\n",
    "```\n",
    "\n",
    "\n",
    "Otherwise you will have a runtime error."
   ]
  },
  {
   "cell_type": "markdown",
   "id": "fb6090de",
   "metadata": {
    "editable": false
   },
   "source": [
    "#### `acc exit data`\n",
    "\n",
    "By default, the memory allocated with `acc enter data` is freed at the end of the program.\n",
    "But usually you do not have access to very large memory on the GPU (it depends on the card but usually you have access to a few tens of GB)\n",
    "and it might be necessary to have a fine control on what is present.\n",
    "\n",
    "The directive `acc exit data <output data clause>` is used to remove data from the GPU.\n",
    "It accepts the clauses:\n",
    "\n",
    "- _copyout_: copy to the CPU the values that the variable have on the GPU\n",
    "- _delete_: free the memory on the GPU\n",
    "- _detach_: remove the attachment of the pointer to the memory\n",
    "\n",
    "**Important:** the directive must appear before memory deallocation on the CPU.\n",
    "\n",
    "```fortran\n",
    "!$acc exit data delete(var)\n",
    "deallocate(var)\n",
    "```\n",
    "\n",
    "Otherwise you will have a runtime error."
   ]
  },
  {
   "cell_type": "markdown",
   "id": "c5cedf7e",
   "metadata": {
    "editable": false
   },
   "source": [
    "#### Exercise\n",
    "\n",
    "In this exercise you have to add data management directives in order to:\n",
    "\n",
    "- allocate memory on the GPU for `array`\n",
    "- perform the initialization on the GPU\n",
    "- free the memory on the GPU.\n",
    "\n",
    "Example stored in: `../../examples/Fortran/Data_Management_unstructured_exercise.f90`"
   ]
  },
  {
   "cell_type": "code",
   "execution_count": null,
   "id": "d1e741cb",
   "metadata": {},
   "outputs": [],
   "source": [
    "%%idrrun -a\n",
    "program allocate_array_separately\n",
    "    use iso_fortran_env, only : INT32, REAL64\n",
    "    use openacc\n",
    "    implicit none\n",
    "\n",
    "    real   (kind=REAL64), dimension(:), allocatable :: array\n",
    "    integer(kind=INT32 )                            :: system_size\n",
    "    integer(kind=INT32 )                            :: i\n",
    " \n",
    "    system_size = 100000\n",
    "\n",
    "    call init(array, system_size)\n",
    "\n",
    "    do i = 1, system_size\n",
    "        array(i) = dble(i)\n",
    "    enddo\n",
    "\n",
    "    write(0,*) array(42)\n",
    "\n",
    "    deallocate(array)\n",
    "\n",
    "    contains\n",
    "     subroutine init(array, system_size)            \n",
    "     \n",
    "     real   (kind=REAL64), dimension(:), allocatable, intent(inout) :: array\n",
    "     integer(kind=INT32 ), intent(in)                               :: system_size\n",
    "\n",
    "     allocate(array(system_size))\n",
    "\n",
    "     end subroutine init\n",
    "end program allocate_array_separately"
   ]
  },
  {
   "cell_type": "markdown",
   "id": "41cef176",
   "metadata": {
    "editable": false
   },
   "source": [
    "#### Solution\n",
    "\n",
    "Example stored in: `../../examples/Fortran/Data_Management_unstructured_solution.f90`"
   ]
  },
  {
   "cell_type": "code",
   "execution_count": null,
   "id": "ae8e1043",
   "metadata": {
    "jupyter": {
     "source_hidden": true
    }
   },
   "outputs": [],
   "source": [
    "%%idrrun -a\n",
    "program allocate_array_separately\n",
    "    use iso_fortran_env, only : INT32, REAL64\n",
    "    use openacc\n",
    "    implicit none\n",
    "\n",
    "    real   (kind=REAL64), dimension(:), allocatable :: array\n",
    "    integer(kind=INT32 )                            :: system_size\n",
    "    integer(kind=INT32 )                            :: i\n",
    " \n",
    "    system_size = 100000\n",
    "\n",
    "    call init(array, system_size)\n",
    "\n",
    "    !$acc parallel loop present(array(:))\n",
    "    do i = 1, system_size\n",
    "        array(i) = dble(i)\n",
    "    enddo\n",
    "\n",
    "    !$acc exit data copyout(array(:))\n",
    "    write(0,*) array(42)\n",
    "\n",
    "    deallocate(array)\n",
    "\n",
    "    contains\n",
    "     subroutine init(array, system_size)            \n",
    "     \n",
    "     real   (kind=REAL64), dimension(:), allocatable, intent(inout) :: array\n",
    "     integer(kind=INT32 ), intent(in)                               :: system_size\n",
    "\n",
    "     allocate(array(system_size))\n",
    "     !$acc enter data create(array(1:system_size))\n",
    "\n",
    "     end subroutine init\n",
    "end program allocate_array_separately"
   ]
  },
  {
   "cell_type": "markdown",
   "id": "de6e2142",
   "metadata": {
    "editable": false
   },
   "source": [
    "### Implicit data regions `acc declare`\n",
    "\n",
    "An implicit data region is created for a program and each subprogram. You can manage data inside these data regions using `acc declare` directive.\n",
    "\n",
    "An implicit data region is created for each function you write.\n",
    "You can manage data inside it with the `acc declare` directive.\n",
    "\n",
    "\n",
    "```fortran\n",
    "integer, parameter :: size = 1000000\n",
    "real               :: array(size)\n",
    "!$acc declare create(array(1:size))\n",
    "```\n",
    "\n",
    "In Fortran this directive can also be used for variables declared inside modules.\n",
    "\n",
    "In addition to regular data causes, it accepts `device_resident` cause for variables needed only on the GPU.\n",
    "\n",
    "Example given below illustrates usage of this clause."
   ]
  },
  {
   "cell_type": "markdown",
   "id": "9e0bfafb",
   "metadata": {
    "editable": false
   },
   "source": [
    "##### Example\n",
    "\n",
    "In this example we normalize rows (C) or columns (Fortran) of a square matrix.\n",
    "The algorithm uses a temporary array (norms) which is only used on the GPU.\n",
    "\n",
    "Example stored in: `../../examples/Fortran/Data_Management_unstructured_declare_example.f90`"
   ]
  },
  {
   "cell_type": "code",
   "execution_count": null,
   "id": "27adb04a",
   "metadata": {},
   "outputs": [],
   "source": [
    "%%idrrun -a\n",
    "module utils\n",
    "    use iso_fortran_env, only : REAL64, INT32\n",
    "    contains\n",
    "        subroutine normalize_cols(mat, mat_size)\n",
    "            real    (kind=REAL64), allocatable, dimension(:,:), intent(inout) :: mat\n",
    "            integer (kind=INT32 )                             , intent(in)    :: mat_size  \n",
    "            real    (kind=REAL64)                                             :: norm = 0.0_real64\n",
    "            integer (kind=INT32 )                                             :: i,j\n",
    "            real    (kind=REAL64), allocatable, dimension(:) :: norms\n",
    "            !$acc declare device_resident(norms(:))\n",
    "            allocate(norms(mat_size))\n",
    "!! Compute the L1 norm of each column\n",
    "            !$acc parallel loop present(mat(:,:), norms(:))\n",
    "            do j = 1, mat_size\n",
    "                norm = 0\n",
    "                !$acc loop reduction(+:norm)\n",
    "                do i = 1, mat_size\n",
    "                    norm = norm + mat(i,j)\n",
    "                enddo\n",
    "                norms(j) = norm\n",
    "            enddo\n",
    "!! Divide each element of the columns by the L1 norm\n",
    "            !$acc parallel loop present(mat(:,:), norms(:))\n",
    "            do j = 1, mat_size\n",
    "                do i = 1, mat_size\n",
    "                    mat(i,j) = mat(i,j)/norms(j)\n",
    "                enddo\n",
    "            enddo\n",
    "        end subroutine normalize_cols\n",
    "end module utils\n",
    "\n",
    "program normalize\n",
    "    use utils\n",
    "    real    (kind=REAL64), allocatable, dimension(:,:)  :: mat\n",
    "    real    (kind=REAL64)                               :: mat_sum\n",
    "    integer (kind=INT32)                                :: mat_size=2000\n",
    "    integer (kind=INT32)                                :: i, j\n",
    "\n",
    "    allocate(mat(mat_size, mat_size))\n",
    "    !$acc enter data create(mat)\n",
    "    call random_number(mat)\n",
    "    !$acc update device(mat(:,:))\n",
    "    call normalize_cols(mat, mat_size)\n",
    "!! Compute the sum of all elements of the matrix\n",
    "    !$acc parallel loop present(mat(:,:)) reduction(+:mat_sum)\n",
    "    do j = 1, mat_size\n",
    "        do i = 1, mat_size\n",
    "            mat_sum = mat_sum + mat(i,j)\n",
    "        enddo\n",
    "    enddo\n",
    "    !$acc exit data delete(mat)\n",
    "    deallocate(mat)\n",
    "    print *, mat_sum, \"=\", mat_size, \"?\"\n",
    "end program normalize"
   ]
  }
 ],
 "metadata": {
  "kernelspec": {
   "display_name": "GPU Directives",
   "language": "python",
   "name": "gpu_directives"
  }
 },
 "nbformat": 4,
 "nbformat_minor": 5
}
