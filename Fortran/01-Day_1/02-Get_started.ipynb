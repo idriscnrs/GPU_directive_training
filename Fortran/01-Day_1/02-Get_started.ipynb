{
 "cells": [
  {
   "cell_type": "markdown",
   "id": "31482508",
   "metadata": {
    "editable": false
   },
   "source": [
    "# Get started with OpenACC\n",
    "\n",
    "What will you learn here?\n",
    "\n",
    "1. Open a parallel region with `#pragma acc parallel`\n",
    "2. Activate loop parallelism with `#pragma acc loop`\n",
    "3. Open a structured data region with `#pragma acc data`\n",
    "4. Compile a code with OpenACC support"
   ]
  },
  {
   "cell_type": "markdown",
   "id": "8a317c4c",
   "metadata": {
    "editable": false
   },
   "source": [
    "## OpenACC directives\n",
    "\n",
    "If you have a CPU code and you want to get some parts on the GPU, you can add OpenACC directives to it.\n",
    "\n",
    "A directive has the following structure:\n",
    "\n",
    "<img alt=\"OpenACC directive\" src=\"../../pictures/directive_acc.png\" style=\"float:none\" width=\"30%\"/>\n",
    "\n",
    "If we break it down, we have these elements:\n",
    "\n",
    "- The sentinel is special instruction for the compiler. It tells it that what follows has to be interpreted as OpenACC\n",
    "- The directive is the action to do. In the example, _parallel_ is the way to open a parallel region that will be offloaded to the GPU\n",
    "- The clauses are \"options\" of the directive. In the example we want to copy some data on the GPU.\n",
    "- The clause arguments give more details for the clause. In the example, we give the name of the variables to be copied"
   ]
  },
  {
   "cell_type": "markdown",
   "id": "2a15b09d",
   "metadata": {
    "editable": false
   },
   "source": [
    "Some directives need to be opened just before a code block.\n",
    "```fortran\n",
    "!$acc parallel\n",
    "  ! code block opened with `acc parallel` and closed with `acc end parallel`\n",
    "!$acc end parallel\n",
    "```"
   ]
  },
  {
   "cell_type": "markdown",
   "id": "51f7913f",
   "metadata": {
    "editable": false
   },
   "source": [
    "### A short example\n",
    "\n",
    "With this example you can get familiar with how to run code cells during this session.\n",
    "`%%idrrun` has to be present at the top of a code cell to compile and execute the code written inside the cell.\n",
    "\n",
    "The content has to be a valid piece of code otherwise you will get errors.\n",
    "In Fortran, if you want to run the code, you need to define the `main` function:\n",
    "```fortran\n",
    "program your_code\n",
    "!\n",
    "!\n",
    "end program your_code\n",
    "```"
   ]
  },
  {
   "cell_type": "markdown",
   "id": "5a0edb47",
   "metadata": {
    "editable": false
   },
   "source": [
    "The example initializes an array of integers.\n",
    "\n",
    "Example stored in: `../../examples/Fortran/Get_started_init_array_exercise.f90`"
   ]
  },
  {
   "cell_type": "code",
   "execution_count": null,
   "id": "456f16cf",
   "metadata": {},
   "outputs": [],
   "source": [
    "%%idrrun\n",
    "program array_initialisation\n",
    "    use iso_fortran_env, only : INT32, REAL64\n",
    "    implicit none\n",
    "\n",
    "    integer(kind=INT32), parameter :: system_size = 100000\n",
    "    integer(kind=INT32)            :: array(system_size)\n",
    "    integer(kind=INT32)            :: i\n",
    "\n",
    "    do i = 1, system_size\n",
    "        array(i) = 2*i\n",
    "    enddo\n",
    "\n",
    "    write(0,\"(a22,i3)\") \"value at position 21: \", array(21)    \n",
    "end program array_initialisation"
   ]
  },
  {
   "cell_type": "markdown",
   "id": "ca687d3e",
   "metadata": {
    "editable": false
   },
   "source": [
    "Now we add the support of OpenACC with `-a` option of idrrun.\n",
    "\n",
    "To offload the computation on the GPU you have to open a parallel region with the directive `acc parallel` and define a code block which is affected.\n",
    "\n",
    "Modify the cell below to perform this action. No clause are needed here.\n",
    "\n",
    "Example stored in: `../../examples/Fortran/Get_started_init_array_exercise_acc.f90`"
   ]
  },
  {
   "cell_type": "code",
   "execution_count": null,
   "id": "35dc5a2e",
   "metadata": {},
   "outputs": [],
   "source": [
    "%%idrrun -a\n",
    "program array_initialisation\n",
    "    use iso_fortran_env, only : INT32, REAL64\n",
    "    use openacc\n",
    "    implicit none\n",
    "\n",
    "    integer(kind=INT32), parameter :: system_size = 100000\n",
    "    integer(kind=INT32)            :: array(system_size)\n",
    "    integer(kind=INT32)            :: i\n",
    "\n",
    "    ! Modifications from here\n",
    "    do i = 1, system_size\n",
    "        array(i) = 2*i\n",
    "    enddo\n",
    "\n",
    "    write(0,\"(a22,i3)\") \"value at position 21: \", array(21)    \n",
    "end program array_initialisation"
   ]
  },
  {
   "cell_type": "markdown",
   "id": "9b15f8a8",
   "metadata": {
    "editable": false
   },
   "source": [
    "### Solution\n",
    "\n",
    "Example stored in: `../../examples/Fortran/Get_started_init_array_solution_acc.f90`"
   ]
  },
  {
   "cell_type": "code",
   "execution_count": null,
   "id": "de140982",
   "metadata": {
    "jupyter": {
     "source_hidden": true
    }
   },
   "outputs": [],
   "source": [
    "%%idrrun -a\n",
    "program array_initialisation\n",
    "    use iso_fortran_env, only : INT32, REAL64\n",
    "    use openacc\n",
    "    implicit none\n",
    "\n",
    "    integer(kind=INT32), parameter :: system_size = 100000\n",
    "    integer(kind=INT32)            :: array(system_size)\n",
    "    integer(kind=INT32)            :: i\n",
    "\n",
    "    !$acc parallel \n",
    "    do i = 1, system_size\n",
    "        array(i) = 2*i\n",
    "    enddo\n",
    "    !$acc end parallel\n",
    "\n",
    "    write(0,\"(a22,i3)\") \"value at position 21: \", array(21)    \n",
    "end program array_initialisation"
   ]
  },
  {
   "cell_type": "markdown",
   "id": "cd39b4ea",
   "metadata": {},
   "source": [
    "We can have a look at a different behavior when the compiler is doing implicit stuff:\n",
    "\n",
    "Example stored in: `../../examples/Fortran/Get_started_init_array_solution_acc_2.f90`"
   ]
  },
  {
   "cell_type": "code",
   "execution_count": null,
   "id": "a15475da",
   "metadata": {
    "jupyter": {
     "source_hidden": true
    }
   },
   "outputs": [],
   "source": [
    "%%idrrun -a\n",
    "program array_initialisation\n",
    "    use iso_fortran_env, only : INT32, REAL64\n",
    "    use openacc\n",
    "    implicit none\n",
    "\n",
    "    integer(kind=INT32), parameter :: system_size = 100000\n",
    "    integer(kind=INT32)            :: array(system_size)\n",
    "    integer(kind=INT32)            :: i\n",
    "\n",
    "    !$acc parallel\n",
    "\n",
    "    !$acc loop\n",
    "    do i = 1, system_size\n",
    "        array(i) = 2*i\n",
    "    enddo\n",
    "\n",
    "    !$acc end parallel\n",
    "\n",
    "    write(0,\"(a22,i3)\") \"value at position 21: \", array(21)    \n",
    "end program array_initialisation"
   ]
  },
  {
   "cell_type": "markdown",
   "id": "616ec0b4",
   "metadata": {
    "editable": false
   },
   "source": [
    "### Let's analyze what happened\n",
    "\n",
    "The following steps are printed:\n",
    "\n",
    "1. the compiler command to generate the executable\n",
    "2. the output of the command (displayed on red background)\n",
    "3. the command line to execute the code\n",
    "4. the output/error of the execution\n",
    "\n",
    "We activated the verbose mode for the NVIDIA compilers for information about optimizations and OpenACC (compiler option -Minfo=all) and __strongly recommend that you do the same in your developments__.\n",
    "\n",
    "The compiler found in the `main` function a __kernel__ (this is the name of code blocks offloaded to the GPU) and was able to generate code for GPU.\n",
    "The line refers to the directive `acc parallel` included in the code."
   ]
  },
  {
   "cell_type": "markdown",
   "id": "64219f32",
   "metadata": {
    "editable": false
   },
   "source": [
    "By default NVIDIA compilers (formerly PGI) make an analysis of the parallel region and try to find:\n",
    "\n",
    "- loops that can be parallelized\n",
    "- data transfers needed\n",
    "- operations like reductions\n",
    "- etc\n",
    "\n",
    "It might result in unexpected behavior since we did not write explicitly the directives to perform those actions.\n",
    "Nevertheless, we decided to keep this feature on during the session since it is the default.\n",
    "This is the reason you can see that a directive `acc loop` (used to activate loop parallelism on the GPU) was added implicitly to our code and a data transfer with `copyout`."
   ]
  },
  {
   "cell_type": "markdown",
   "id": "edc0dc62",
   "metadata": {
    "editable": false
   },
   "source": [
    "## Loops parallelism\n",
    "\n",
    "Most of the parallelism in OpenACC (hence performance) comes from the loops in your code and especially from loops with __independent iterations__.\n",
    "Iterations are independent when the results do not depend on the order in which the iterations are done.\n",
    "Some differences due to non-associativity of operations in limited precision are usually OK.\n",
    "You just have to be aware of that problem and decide if it is critical.\n",
    "\n",
    "Another condition is that the runtime needs to know the number of iterations.\n",
    "So keep incrementing integers!"
   ]
  },
  {
   "cell_type": "markdown",
   "id": "5fe45a1a",
   "metadata": {
    "editable": false
   },
   "source": [
    "### Directive\n",
    "\n",
    "The directive to parallelize loops is:\n",
    "```fortran\n",
    "!$acc loop\n",
    "```"
   ]
  },
  {
   "cell_type": "markdown",
   "id": "e86a4854",
   "metadata": {
    "editable": false
   },
   "source": [
    "### Non independent loops\n",
    "\n",
    "Here are some cases where the iterations are not independent:\n",
    "\n",
    "- Infinite loops\n",
    "```fortran\n",
    "do while(error > tolerance)\n",
    "    !compute error\n",
    "enddo\n",
    "```"
   ]
  },
  {
   "cell_type": "markdown",
   "id": "242b4f3a",
   "metadata": {
    "editable": false
   },
   "source": [
    "- Current iteration reads values computed by previous iterations\n",
    "```fortran\n",
    "array(1) = 0\n",
    "array(2) = 1\n",
    "do i = 3, system_size\n",
    "    array(i) = array(i-1) + array(i-2)\n",
    "enddo\n",
    "```"
   ]
  },
  {
   "cell_type": "markdown",
   "id": "948d15db",
   "metadata": {
    "editable": false
   },
   "source": [
    "- Current iteration reads values that will be changed by subsequent iterations\n",
    "```fortran\n",
    "do i = 1, system_size - 1\n",
    "    array(i) = array(i+1) + 1\n",
    "enddo\n",
    "```"
   ]
  },
  {
   "cell_type": "markdown",
   "id": "475d4c94",
   "metadata": {
    "editable": false
   },
   "source": [
    "- Current iteration writes values that will be read by subsequent iterations\n",
    "```fortran\n",
    "do i= 1, system_size - 1\n",
    "    array(i)   = array(i) + 1\n",
    "    array(i+1) = array(i) + 2\n",
    "enddo\n",
    "```"
   ]
  },
  {
   "cell_type": "markdown",
   "id": "0db5e604",
   "metadata": {
    "editable": false
   },
   "source": [
    "These kind of loops can be offloaded to the GPU but might not give correct results if not run in sequential mode.\n",
    "You can try to modify the algorithm to transform them into independent loop:\n",
    "\n",
    "- Use temporary arrays\n",
    "- Modify the order of the iterations\n",
    "- etc"
   ]
  },
  {
   "cell_type": "markdown",
   "id": "fed2ca21",
   "metadata": {
    "editable": false
   },
   "source": [
    "## Managing data in compute regions\n",
    "\n",
    "During the porting of your code the data on which you work in the _compute regions_ might have to go back and forth between the host and the GPU.\n",
    "This is important to minimize the number of data transfers because of the cost of these operations.\n",
    "\n",
    "For each _compute region_ (i.e. `acc parallel` directive or _kernel_) a _data region_ is created.\n",
    "OpenACC gives you several clauses to manage efficiently the transfers.\n",
    "\n",
    "```fortran\n",
    "!$acc parallel copy(var1(first_index:last_index)) copyin(var2(first_index_i:last_index_i,first_index_j:last_index_j), var3) copyout(var4, var5)\n",
    "```\n",
    "\n",
    "| clause      | effect when entering the region                                               | effect when leaving the region                                          |\n",
    "|-------------|-------------------------------------------------------------------------------|-------------------------------------------------------------------------|\n",
    "| create      | Allocate the memory needed on the GPU                                         | Free the memory on the GPU                                              |\n",
    "| copyin      | Allocate the memory and initialize the variable with the values it has on CPU | Free the memory on the GPU                                              |\n",
    "| copyout     | Allocate the memory needed on the GPU                                         | Copy the values from the GPU to the CPU then free the memory on the GPU |\n",
    "| copy        | Allocate the memory and initialize the variable with the values it has on CPU | Copy the values from the GPU to the CPU then free the memory on the GPU |\n",
    "| present     | Check if data is present: an error is raised if it is not the case            | None                                                                    |\n",
    "\n",
    "<img alt=\"Data clauses\" src=\"../../pictures/data_clauses.png\" style=\"float:none\" width=\"30%\"/>\n",
    "\n",
    "To choose the right data clause you need to answer the following questions:\n",
    "\n",
    "- Does the kernel need the values computed on the host beforehand? (Before)\n",
    "- Are the values computed inside the kernel needed on the host afterhand? (After)\n",
    "\n",
    "|                  | Needed after        | Not needed after  |\n",
    "|------------------|---------------------|-------------------|\n",
    "|Needed Before     |  copy(var1, ...)    | copyin(var2, ...) |\n",
    "|Not needed before |  copyout(var3, ...) | create(var4, ...) |\n",
    "\n",
    "Usually it is not mandatory to specify the clauses.\n",
    "The compiler will analyze your code to guess what the best solution and will tell you that one operation was done implicitely.\n",
    "As a good pratice, we recommend to make all implicit operations explicit."
   ]
  },
  {
   "cell_type": "markdown",
   "id": "314a2a2a",
   "metadata": {
    "editable": false
   },
   "source": [
    "## Exercise: Gaussian blurring filter\n",
    "\n",
    "In this exercise, we read a picture, load it on the GPU and then we apply a blur filter. For each pixel, the value is computed as the weighted sum of the 24 neighbors and itself with the stencil shown below:\n",
    "\n",
    "The original picture is stored in the pictures directory. We have to convert it to RAW before loading it."
   ]
  },
  {
   "cell_type": "code",
   "execution_count": null,
   "id": "9111e51a",
   "metadata": {},
   "outputs": [],
   "source": [
    "import os\n",
    "picture = os.path.join(\"..\", \"..\", \"pictures\", \"midris.jpg\")\n",
    "from idrcomp import convert_jpg_to_raw\n",
    "convert_jpg_to_raw(picture, \"pic.rgb\")"
   ]
  },
  {
   "cell_type": "markdown",
   "id": "ffb4bc69",
   "metadata": {},
   "source": [
    "<img alt=\"Stencil for Gaussian Blur\" src=\"../../pictures/stencil_tp_blur.png\" style=\"float:none\"/>\n",
    "\n",
    "Note: In Fortran the weights are adjusted because we do not have unsigned integers.\n",
    "\n",
    "Your job is to offload the blur function.\n",
    "Make sure that you use the correct data clauses for \"pic\" and \"blurred\" variables.\n",
    "\n",
    "The original picture is 2232x4000 pixels.\n",
    "We need 1 value for each RGB channel it means that the actual size of the matrix is 4000x12000 (3x4000).\n",
    "\n",
    "Example stored in: `../../examples/Fortran/blur_simple_exercise.f90`"
   ]
  },
  {
   "cell_type": "code",
   "execution_count": null,
   "id": "4fe33fb3",
   "metadata": {},
   "outputs": [],
   "source": [
    "%%idrrun -a\n",
    "MODULE pixels\n",
    "    USE OPENACC\n",
    "    IMPLICIT NONE\n",
    "    CONTAINS\n",
    "        SUBROUTINE read_matrix_from_file(FILENAME, PIC, ROWS, COLS)\n",
    "            IMPLICIT NONE\n",
    "            CHARACTER(LEN=*), INTENT(IN)                :: FILENAME\n",
    "            INTEGER(kind=1), DIMENSION(0:), INTENT(OUT) :: PIC\n",
    "            INTEGER, INTENT(IN)                         :: ROWS, COLS\n",
    "        \n",
    "            INTEGER                                     :: FILE_UNIT, I, TOTAL_SIZE, IO_STATUS\n",
    "            INTEGER(KIND=8)                             :: READ_SIZE\n",
    "            CHARACTER(LEN=80)                           :: IO_MSG\n",
    "            OPEN(NEWUNIT=FILE_UNIT, FILE=FILENAME, FORM='UNFORMATTED', ACCESS='stream')\n",
    "        \n",
    "            TOTAL_SIZE = ROWS * COLS * 3\n",
    "            READ(FILE_UNIT, IOSTAT=IO_STATUS, IOMSG=IO_MSG) PIC(0:TOTAL_SIZE-1)\n",
    "        \n",
    "            CLOSE(FILE_UNIT)\n",
    "        END SUBROUTINE read_matrix_from_file  \n",
    "\n",
    "        SUBROUTINE blur(pic, blurred, rows, cols, passes)\n",
    "            INTEGER(kind=1),DIMENSION(0:),INTENT(IN)  :: pic\n",
    "            INTEGER(kind=1),DIMENSION(0:),INTENT(OUT) :: blurred\n",
    "            INTEGER,DIMENSION(0:4,0:4)                :: coefs\n",
    "            INTEGER,INTENT(IN)                        :: rows,cols, passes\n",
    "            INTEGER(kind=4)                           :: i,j,p,i_c,j_c,l,pix\n",
    "            INTEGER :: my_unit\n",
    "            coefs(0,:)= (/ 1, 2, 3, 2, 1 /)\n",
    "            coefs(1,:)= (/ 2, 8, 12, 8, 2 /)\n",
    "            coefs(2,:)= (/ 3, 12, 16, 12, 3 /)\n",
    "            coefs(3,:)= (/ 2, 8, 12, 8, 2 /)\n",
    "            coefs(4,:)= (/ 1, 2, 3, 2, 1 /)\n",
    "\n",
    "            DO p=1, passes\n",
    "            DO j=2,cols-3\n",
    "                DO i=2,rows-3\n",
    "                    DO l=0,2\n",
    "                        pix = 0\n",
    "                        DO i_c=0,4\n",
    "                            DO j_c=0,4\n",
    "                                pix = pix + pic((i+i_c-2)*3*cols+(j+j_c-2)*3+l)*(coefs(i_c,j_c)) \n",
    "                            END DO\n",
    "                        END DO\n",
    "                        blurred(i*3*cols+j*3+l)=pix/128\n",
    "                    END DO\n",
    "                END DO\n",
    "            END DO\n",
    "\n",
    "            END DO\n",
    "        END SUBROUTINE blur\n",
    "\n",
    "        SUBROUTINE out_pic(pic, name)\n",
    "            INTEGER(kind=1),DIMENSION(0:),INTENT(IN) :: pic\n",
    "            CHARACTER(len=*),INTENT(IN)              :: name  \n",
    "            INTEGER                                  :: my_unit\n",
    "\n",
    "            OPEN(NEWUNIT=my_unit, FILE=name, status='replace' ,ACCESS=\"stream\", FORM=\"unformatted\")\n",
    "            WRITE(my_unit,POS=1) pic \n",
    "            CLOSE(my_unit)\n",
    "        END SUBROUTINE out_pic\n",
    "\n",
    "end module pixels\n",
    "\n",
    "PROGRAM blur_pix\n",
    "    use PIXELS\n",
    "    implicit none\n",
    "\n",
    "    integer                                      :: rows, cols, i, long, j, check, numarg\n",
    "    integer                                      :: passes\n",
    "    integer  (kind=1), dimension(:), allocatable :: pic,blurred_pic\n",
    "    character(len=: ), allocatable               :: arg\n",
    "    integer, dimension(2)                        :: n\n",
    " \n",
    "    rows = 2232\n",
    "    cols = 4000\n",
    "    passes = 40\n",
    "\n",
    "    write(6,\"(a23,i7,a2,i7)\") \"Size of the picture is \",rows,\" x\",cols\n",
    "    allocate(pic(0:rows*3*cols), blurred_pic(0:rows*3*cols))\n",
    "\n",
    "    call read_matrix_from_file(\"pic.rgb\", pic, rows, cols)\n",
    "    call blur(pic, blurred_pic, rows, cols, passes)\n",
    "\n",
    "    call out_pic(pic, \"pic.rgb\")\n",
    "    call out_pic(blurred_pic, \"blurred.rgb\")\n",
    "\n",
    "    deallocate(pic, blurred_pic)\n",
    "END PROGRAM blur_pix\n"
   ]
  },
  {
   "cell_type": "code",
   "execution_count": null,
   "id": "89d486be",
   "metadata": {},
   "outputs": [],
   "source": [
    "from idrcomp import compare_rgb\n",
    "\"\"\"compare the original and blurred pictures.\n",
    "It is possible to display a cropped version of the images for better visualization.\n",
    "For example (0.0,1.0,0.0,1.0) will display the whole image.\n",
    "and (0.5,1.0,0.5,1.0) will display the bottom right part of the pictures\"\"\"\n",
    "compare_rgb(\"pic.rgb\", \"blurred.rgb\", (0.0, 1.0, 0.0, 1.0), 2232, 4000)"
   ]
  },
  {
   "cell_type": "markdown",
   "id": "141de30a",
   "metadata": {
    "editable": false
   },
   "source": [
    "### Solution"
   ]
  },
  {
   "cell_type": "code",
   "execution_count": null,
   "id": "8ed40873",
   "metadata": {},
   "outputs": [],
   "source": [
    "import os\n",
    "picture = os.path.join(\"..\", \"..\", \"pictures\", \"midris.jpg\")\n",
    "from idrcomp import convert_jpg_to_raw\n",
    "convert_jpg_to_raw(picture, \"pic.rgb\")"
   ]
  },
  {
   "cell_type": "markdown",
   "id": "2bddb6e2",
   "metadata": {},
   "source": [
    "Example stored in: `../../examples/Fortran/blur_simple_solution.f90`"
   ]
  },
  {
   "cell_type": "code",
   "execution_count": null,
   "id": "4885535c",
   "metadata": {
    "jupyter": {
     "source_hidden": true
    }
   },
   "outputs": [],
   "source": [
    "%%idrrun -a\n",
    "MODULE pixels\n",
    "    USE OPENACC\n",
    "    IMPLICIT NONE\n",
    "    CONTAINS\n",
    "        SUBROUTINE read_matrix_from_file(FILENAME, PIC, ROWS, COLS)\n",
    "            IMPLICIT NONE\n",
    "            CHARACTER(LEN=*), INTENT(IN)                :: FILENAME\n",
    "            INTEGER(kind=1), DIMENSION(0:), INTENT(OUT) :: PIC\n",
    "            INTEGER, INTENT(IN)                         :: ROWS, COLS\n",
    "        \n",
    "            INTEGER                                     :: FILE_UNIT, I, TOTAL_SIZE, IO_STATUS\n",
    "            INTEGER(KIND=8)                             :: READ_SIZE\n",
    "            CHARACTER(LEN=80)                           :: IO_MSG\n",
    "            OPEN(NEWUNIT=FILE_UNIT, FILE=FILENAME, FORM='UNFORMATTED', ACCESS='stream')\n",
    "        \n",
    "            TOTAL_SIZE = ROWS * COLS * 3\n",
    "            READ(FILE_UNIT, IOSTAT=IO_STATUS, IOMSG=IO_MSG) PIC(0:TOTAL_SIZE-1)\n",
    "        \n",
    "            CLOSE(FILE_UNIT)\n",
    "        END SUBROUTINE read_matrix_from_file  \n",
    "\n",
    "        SUBROUTINE blur(pic, blurred, rows, cols, passes)\n",
    "            INTEGER(kind=1),DIMENSION(0:),INTENT(IN)  :: pic\n",
    "            INTEGER(kind=1),DIMENSION(0:),INTENT(OUT) :: blurred\n",
    "            INTEGER,DIMENSION(0:4,0:4)                :: coefs\n",
    "            INTEGER,INTENT(IN)                        :: rows,cols, passes\n",
    "            INTEGER(kind=4)                           :: i,j,p,i_c,j_c,l,pix\n",
    "            INTEGER :: my_unit\n",
    "            coefs(0,:)= (/ 1, 2, 3, 2, 1 /)\n",
    "            coefs(1,:)= (/ 2, 8, 12, 8, 2 /)\n",
    "            coefs(2,:)= (/ 3, 12, 16, 12, 3 /)\n",
    "            coefs(3,:)= (/ 2, 8, 12, 8, 2 /)\n",
    "            coefs(4,:)= (/ 1, 2, 3, 2, 1 /)\n",
    "\n",
    "            DO p=1, passes\n",
    "            !$acc parallel loop copyin(pic(0:), coefs(0:4,0:4)) copyout(blurred(0:))\n",
    "            DO j=2,cols-3\n",
    "                DO i=2,rows-3\n",
    "                    DO l=0,2\n",
    "                        pix = 0\n",
    "                        DO i_c=0,4\n",
    "                            DO j_c=0,4\n",
    "                                pix = pix + pic((i+i_c-2)*3*cols+(j+j_c-2)*3+l)*(coefs(i_c,j_c)) \n",
    "                            END DO\n",
    "                        END DO\n",
    "                        blurred(i*3*cols+j*3+l)=pix/128\n",
    "                    END DO\n",
    "                END DO\n",
    "            END DO\n",
    "\n",
    "            END DO\n",
    "        END SUBROUTINE blur\n",
    "\n",
    "        SUBROUTINE out_pic(pic, name)\n",
    "            INTEGER(kind=1),DIMENSION(0:),INTENT(IN) :: pic\n",
    "            CHARACTER(len=*),INTENT(IN)              :: name  \n",
    "            INTEGER                                  :: my_unit\n",
    "\n",
    "            OPEN(NEWUNIT=my_unit, FILE=name, status='replace' ,ACCESS=\"stream\", FORM=\"unformatted\")\n",
    "            WRITE(my_unit,POS=1) pic \n",
    "            CLOSE(my_unit)\n",
    "        END SUBROUTINE out_pic\n",
    "\n",
    "end module pixels\n",
    "\n",
    "PROGRAM blur_pix\n",
    "    use PIXELS\n",
    "    implicit none\n",
    "\n",
    "    integer                                      :: rows, cols, i, long, j, check, numarg\n",
    "    integer                                      :: passes\n",
    "    integer  (kind=1), dimension(:), allocatable :: pic,blurred_pic\n",
    "    character(len=: ), allocatable               :: arg\n",
    "    integer, dimension(2)                        :: n\n",
    " \n",
    "    rows = 2232\n",
    "    cols = 4000\n",
    "    passes = 40\n",
    "\n",
    "    write(6,\"(a23,i7,a2,i7)\") \"Size of the picture is \",rows,\" x\",cols\n",
    "    allocate(pic(0:rows*3*cols), blurred_pic(0:rows*3*cols))\n",
    "\n",
    "    call read_matrix_from_file(\"pic.rgb\", pic, rows, cols)\n",
    "    call blur(pic, blurred_pic, rows, cols, passes)\n",
    "\n",
    "    call out_pic(pic, \"pic.rgb\")\n",
    "    call out_pic(blurred_pic, \"blurred.rgb\")\n",
    "\n",
    "    deallocate(pic, blurred_pic)\n",
    "END PROGRAM blur_pix"
   ]
  },
  {
   "cell_type": "markdown",
   "id": "be0928bb",
   "metadata": {},
   "source": [
    "Now we can compare the original picture with its blurred version:"
   ]
  },
  {
   "cell_type": "code",
   "execution_count": null,
   "id": "fa29ec86",
   "metadata": {},
   "outputs": [],
   "source": [
    "from idrcomp import compare_rgb\n",
    "\"\"\"compare the original and blurred pictures.\n",
    "It is possible to display a cropped version of the images for better visualization.\n",
    "For example (0.0,1.0,0.0,1.0) will display the whole image.\n",
    "and (0.5,1.0,0.5,1.0) will display the bottom right part of the pictures\"\"\"\n",
    "compare_rgb(\"pic.rgb\", \"blurred.rgb\", (0.0, 1.0, 0.0, 1.0), 2232, 4000)"
   ]
  },
  {
   "cell_type": "markdown",
   "id": "39515cbb",
   "metadata": {
    "editable": false
   },
   "source": [
    "## Reductions with OpenACC\n",
    "\n",
    "Your code is performing a reduction when a loop is updating at each cycle the same variable:\n",
    "\n",
    "For example, if you perform the sum of all elements in an array:\n",
    "\n",
    "```fortran\n",
    "do i = 1, size_array\n",
    "    summation = summation + array(i)\n",
    "enddo\n",
    "```\n",
    "\n",
    "\n",
    "If you run your code sequentially no problems occur.\n",
    "However we are here to use a massively parallel device to accelerate the computation.\n",
    "\n",
    "In this case we have to be careful since simultaneous read/write operations can be performed on the same variable.\n",
    "The result is not sure anymore because we have a race condition.\n",
    "\n",
    "For some operations, OpenACC offers an efficient mechanism if you use the _reduction(operation:var1,var2,...)_ clause which is available for the directives:\n",
    "- `!$acc loop reduction(op:var1)` \n",
    "- `!$acc parallel reduction(op:var1)` \n",
    "- `!$acc kernels reduction(op:var1)` \n",
    "- `!$acc serial reduction(op:var1)`"
   ]
  },
  {
   "cell_type": "markdown",
   "id": "9ee9160b",
   "metadata": {
    "editable": false
   },
   "source": [
    "__Important__: Please note that for a lot of cases, the NVIDIA compiler (formerly PGI) is able to detect that a reduction is needed and will add it implicitly.\n",
    "We advise you make explicit all implicit operations for code readability/maintenance."
   ]
  },
  {
   "cell_type": "markdown",
   "id": "08942f31",
   "metadata": {
    "editable": false
   },
   "source": [
    "### Available operations\n",
    "\n",
    "The set of operations is limited. We give here the most common:\n",
    "\n",
    "| Operator   | Operation    | Syntax                     |\n",
    "|------------|--------------|----------------------------|\n",
    "| +          | sum          | `reduction(+:var1, ...)`   |\n",
    "| *          | product      | `reduction(*:var2, ...)`   |\n",
    "| max        | find maximum | `reduction(max:var3, ...)` |\n",
    "| min        | find minimum | `reduction(min:var4,...)`  |\n",
    "\n",
    "Other operators are available, please refer to the OpenACC specification for a complete list."
   ]
  },
  {
   "cell_type": "markdown",
   "id": "8d71f977",
   "metadata": {
    "editable": false
   },
   "source": [
    "#### Reduction on several variables\n",
    "\n",
    "If you perform a reduction with the same operation on several variables then you can give a comma separated list after the colon:\n",
    "```fortran\n",
    "!$acc parallel loop reduction(+:var1, var2,...)\n",
    "```\n",
    "\n",
    "\n",
    "If you perform reductions with different operators then you have to specify a _reduction_ clause for each operator:\n",
    "```fortran\n",
    "!$acc parallel reduction(+:var1, var2) reduction(max:var3) reduction(*: var4)\n",
    "```"
   ]
  },
  {
   "cell_type": "markdown",
   "id": "0c91f5fe",
   "metadata": {
    "editable": false
   },
   "source": [
    "### Exercise\n",
    "\n",
    "Let's do some statistics on the exponential function.\n",
    "The goal is to compute\n",
    "\n",
    "- the integral of the function between 0 and $\\pi$ using the trapezoidal method\n",
    "- the maximum value\n",
    "- the minimum value\n",
    "\n",
    "You have to:\n",
    "\n",
    "- Run the following example on the CPU. How much time does it take to run?\n",
    "- Add the directives necessary to create one kernel for the loop that will run on the GPU\n",
    "- Run the computation on the GPU. How much time does it take?\n",
    "\n",
    "Your solution is considered correct if no implicit operation is reported by the compiler.\n",
    "\n",
    "Example stored in: `../../examples/Fortran/reduction_exponential_exercise.f90`"
   ]
  },
  {
   "cell_type": "code",
   "execution_count": null,
   "id": "fc13c590",
   "metadata": {},
   "outputs": [],
   "source": [
    "%%idrrun -a\n",
    "program reduction_exponential\n",
    "    use iso_fortran_env, only : INT32, REAL64\n",
    "    implicit none\n",
    "    ! current position and values\n",
    "    real   (kind=REAL64) :: x, y, x_p\n",
    "    real   (kind=REAL64) :: double_min, double_max, begin, fortran_pi, summation\n",
    "    real   (kind=REAL64) :: step_l\n",
    "    ! number of division of the function\n",
    "    integer(kind=INT32 ) :: nsteps \n",
    "    integer(kind=INT32 ) :: i\n",
    "\n",
    "    nsteps     = 1e9\n",
    "    begin      = 0.0_real64                  ! x min \n",
    "    fortran_pi = acos(-1.0_real64)           ! x max\n",
    "    summation  = 0.0_real64                  ! sum of elements\n",
    "    step_l     = (fortran_pi - begin)/nsteps ! length of the step\n",
    "\n",
    "    double_min = huge(double_min)\n",
    "    double_max = tiny(double_max)\n",
    "\n",
    "    do i = 1, nsteps\n",
    "        x   =  i * step_l\n",
    "        x_p = (i+1) * step_l\n",
    "        y   = (exp(x)+exp(x_p))*0.5_real64\n",
    "        summation = summation + y\n",
    "        if (y .lt. double_min) double_min = y\n",
    "        if (y .gt. double_max) double_max = y\n",
    "    enddo\n",
    "\n",
    "    ! print the stats\n",
    "    write(0,\"(a38,f20.8)\") \"The MINimum value of the function is: \",double_min\n",
    "    write(0,\"(a38,f20.8)\") \"The MAXimum value of the function is: \",double_max\n",
    "    write(0,\"(a33,f3.1,a1,f8.6,a6,f20.8)\") \"The integral of the function on [\", &\n",
    "                                            begin,\",\",fortran_pi,\"] is: \",summation*step_l\n",
    "    write(0,\"(a18,es20.8)\") \"   difference is: \",exp(fortran_pi)-exp(begin)-summation*step_l\n",
    "end program reduction_exponential"
   ]
  },
  {
   "cell_type": "markdown",
   "id": "05dc00a8",
   "metadata": {
    "editable": false
   },
   "source": [
    "#### Solution\n",
    "\n",
    "Example stored in: `../../examples/Fortran/reduction_exponential_solution.f90`"
   ]
  },
  {
   "cell_type": "code",
   "execution_count": null,
   "id": "c97cfbf3",
   "metadata": {
    "jupyter": {
     "source_hidden": true
    }
   },
   "outputs": [],
   "source": [
    "%%idrrun -a\n",
    "program reduction_exponential\n",
    "    use iso_fortran_env, only : INT32, REAL64\n",
    "    implicit none\n",
    "    ! current position and values\n",
    "    real   (kind=REAL64) :: x, y, x_p\n",
    "    real   (kind=REAL64) :: double_min, double_max, begin, fortran_pi, summation\n",
    "    real   (kind=REAL64) :: step_l\n",
    "    ! number of division of the function\n",
    "    integer(kind=INT32 ) :: nsteps \n",
    "    integer(kind=INT32 ) :: i\n",
    "\n",
    "    nsteps     = 1e9\n",
    "    begin      = 0.0_real64                  ! x min \n",
    "    fortran_pi = acos(-1.0_real64)           ! x max\n",
    "    summation  = 0.0_real64                  ! sum of elements\n",
    "    step_l     = (fortran_pi - begin)/nsteps ! length of the step\n",
    "\n",
    "    double_min = huge(double_min)\n",
    "    double_max = tiny(double_max)\n",
    "    !$acc parallel loop reduction(+:summation) reduction(min:double_min) reduction(max:double_max)\n",
    "    do i = 1, nsteps\n",
    "        x   =  i * step_l\n",
    "        x_p = (i+1) * step_l\n",
    "        y   = (exp(x)+exp(x_p))*0.5_real64\n",
    "        summation = summation + y\n",
    "        if (y .lt. double_min) double_min = y\n",
    "        if (y .gt. double_max) double_max = y\n",
    "    enddo\n",
    "\n",
    "    ! print the stats\n",
    "    write(0,\"(a38,f20.8)\") \"The MINimum value of the function is: \",double_min\n",
    "    write(0,\"(a38,f20.8)\") \"The MAXimum value of the function is: \",double_max\n",
    "    write(0,\"(a33,f3.1,a1,f8.6,a6,f20.8)\") \"The integral of the function on [\",begin, &\n",
    "                                           \",\",fortran_pi,\"] is: \",summation*step_l\n",
    "    write(0,\"(a18,es20.8)\") \"   difference is: \",exp(fortran_pi)-exp(begin)-summation*step_l\n",
    "end program reduction_exponential"
   ]
  },
  {
   "cell_type": "markdown",
   "id": "12ca86d8",
   "metadata": {
    "editable": false
   },
   "source": [
    "### Important Notes\n",
    "\n",
    "- A special kernel is created for reduction. With NVIDIA compiler its name is the name of the \"parent\" kernel with \\_red appended.\n",
    "- You may want to use other directives to \"emulate\" the behavior of a reduction (it is possible by using _atomic_ operations).\n",
    "  We strongly discourage you from doing this. The _reduction_ clause is much more efficient."
   ]
  }
 ],
 "metadata": {
  "kernelspec": {
   "display_name": "GPU Directives",
   "language": "python",
   "name": "gpu_directives"
  }
 },
 "nbformat": 4,
 "nbformat_minor": 5
}
