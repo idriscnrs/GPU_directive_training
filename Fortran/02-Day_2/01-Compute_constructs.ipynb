{
 "cells": [
  {
   "cell_type": "markdown",
   "id": "6333a895",
   "metadata": {
    "editable": false
   },
   "source": [
    "# Compute constructs"
   ]
  },
  {
   "cell_type": "markdown",
   "id": "899345b6",
   "metadata": {
    "editable": false
   },
   "source": [
    "## Giving more freedom to the compiler: `acc kernels`\n",
    "\n",
    "We focus the training course on the usage of the `acc parallel` compute construct since it gives almost full control to the developer.\n",
    "\n",
    "The OpenACC standard offers the possibility to give more freedom to the compiler with the `acc kernels` compute construct.\n",
    "The behavior is different as several kernels might be created from one `acc kernels` region.\n",
    "One kernel is generated for each nest of loops."
   ]
  },
  {
   "cell_type": "markdown",
   "id": "2d89bf68",
   "metadata": {
    "editable": false
   },
   "source": [
    "### Syntax\n",
    "\n",
    "The following example would generate 2 kernels (if reductions are present more kernels are generated to deal with it):\n",
    "\n",
    "```fortran\n",
    "!$acc kernels\n",
    "        ! 1st kernel generated\n",
    "    !$acc loop\n",
    "    do i = 0, system_size_i\n",
    "        do j = 0, system_size_j\n",
    "            ! Perform some computation\n",
    "        enddo\n",
    "    enddo\n",
    "\n",
    "        ! 2nd kernel generated\n",
    "    !$acc loop\n",
    "    do i = 0, system_size_i\n",
    "        ! Some more computation\n",
    "    enddo\n",
    "!$acc end kernels\n",
    "```\n",
    "\n",
    "It is almost equivalent to this example:\n",
    "\n",
    "```fortran\n",
    "!$acc data <data clauses>\n",
    "        ! 1st kernel generated\n",
    "    !$acc parallel loop\n",
    "    do i = 0, system_size_i\n",
    "        do j = 0, system_size_j\n",
    "            ! Perform some computation\n",
    "        enddo\n",
    "    enddo\n",
    "\n",
    "        ! 2nd kernel generated\n",
    "    !$acc parallel loop\n",
    "    do i = 0, system_size_i\n",
    "        ! Some more computation\n",
    "    enddo\n",
    "!$acc end data\n",
    "```\n",
    "\n",
    "The main difference is the status of the scalar variables used in the compute construct.\n",
    "With `acc kernels` they are shared whereas with `acc parallel` they are private at the gang level.\n",
    "\n",
    "The configuration of the kernels (number of gangs, workers and vector length) can be different."
   ]
  },
  {
   "cell_type": "markdown",
   "id": "2aec698e",
   "metadata": {
    "editable": false
   },
   "source": [
    "### Independent loops\n",
    "\n",
    "The compiler is a very prudent software. If it detects that parallelizing your loops can cause the results to be wrong it will run them sequentially.\n",
    "Have a look at the compilation report to see if the compiler struggles with some loops.\n",
    "\n",
    "However it might be a bit too prudent. If you know that parallelizing your loops is safe then you can tell the compiler with the *independent* clause of `acc loop directive`.\n",
    "\n",
    "```fortran\n",
    "!$acc kernels\n",
    "    !$acc loop independent\n",
    "    do i=1, nelements\n",
    "        ! A very safe loop\n",
    "    enddo\n",
    "!$acc end kernels\n",
    "```"
   ]
  },
  {
   "cell_type": "markdown",
   "id": "ca619bea",
   "metadata": {
    "editable": false
   },
   "source": [
    "## Running sequentially on the GPU? The `acc serial` compute construct\n",
    "\n",
    "The GPUs are not very efficient to run sequential code however there 2 cases where it can be useful:\n",
    "\n",
    "- Debugging a code\n",
    "- Avoid some data transfers\n",
    "\n",
    "The OpenACC standard gives you the `acc serial` directive for this purpose.\n",
    "\n",
    "It is equivalent to having a parallel kernel which uses only one thread."
   ]
  },
  {
   "cell_type": "markdown",
   "id": "e08ce0df",
   "metadata": {
    "editable": false
   },
   "source": [
    "### Syntax\n",
    "\n",
    "```fortran\n",
    "!$acc serial <clauses>\n",
    "    ! My sequential kernel\n",
    "!$acc end serial\n",
    "```\n",
    "\n",
    "which is equivalent to:\n",
    "\n",
    "```fortran\n",
    "!$acc parallel num_gangs(1) num_workers(1) vector_length(1)\n",
    "    ! My sequential kernel\n",
    "!$acc end parallel\n",
    "```"
   ]
  },
  {
   "cell_type": "markdown",
   "id": "4a8087f1",
   "metadata": {
    "editable": false
   },
   "source": [
    "## Data region associated with compute constructs\n",
    "\n",
    "You can manage your data transfers with data clauses:\n",
    "\n",
    "| clause    | effect when entering the region | effect when leaving the region |\n",
    "|-----------|---------------------------------|---------------------------------|\n",
    "| create    | **If the variable is not already present on the GPU**: allocate the memory needed on the GPU | **If the variable is not in another active data region**: free the memory on the GPU |\n",
    "| copyin    | **If the variable is not already present on the GPU**: allocate the memory and initialize the variable with the values it has on CPU| **If the variable is not in another active data region**: free the memory on the GPU |\n",
    "| copyout   | **If the variable is not already present on the GPU**: allocate the memory needed on the GPU | **If the variable is not in another active data region**: copy the values from the GPU to the CPU then free the memory on the GPU |\n",
    "| copy      | **If the variable is not already present on the GPU**: allocate the memory and initialize the variable with the values it has on CPU | **If the variable is not in another active data region**: copy the values from the GPU to the CPU then free the memory on the GPU |\n",
    "| present   | None | None |\n",
    "\n",
    "*IMPORTANT*: If your `acc kernels` is included in another data region then you have to be careful because you can not use the data clauses to update data.\n",
    "You need to use `acc update` for data already in another data region."
   ]
  }
 ],
 "metadata": {
  "kernelspec": {
   "display_name": "GPU Directives",
   "language": "python",
   "name": "gpu_directives"
  }
 },
 "nbformat": 4,
 "nbformat_minor": 5
}
