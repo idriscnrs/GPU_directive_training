{
 "cells": [
  {
   "cell_type": "markdown",
   "id": "b08b84ca",
   "metadata": {
    "editable": false
   },
   "source": [
    "# Profiling your code to find what to offload Requirements\n",
    "\n",
    "- [Get started](./Get_started.ipynb)\n",
    "- [Data management](./Data_management.ipynb)"
   ]
  },
  {
   "cell_type": "markdown",
   "id": "844ef562",
   "metadata": {
    "editable": false
   },
   "source": [
    "## Development cycle\n",
    "\n",
    "When you port your code with OpenACC you have to find the hotspots which can benefit from offloading.\n",
    "\n",
    "That's the first part of the development cycle (Analyze).\n",
    "This part should be done with a profiler since it helps a lot to find the hotspots.\n",
    "\n",
    "Once you have found the most time consuming part, you can add the OpenACC directives.\n",
    "Then you find the next hotspot, manage memory transfers and so on.\n",
    "\n",
    "<img src=\"../../pictures/workflow_en.png\" style=\"float:none\" width=\"25%\"/>"
   ]
  },
  {
   "cell_type": "markdown",
   "id": "bf164b39",
   "metadata": {
    "editable": false
   },
   "source": [
    "## Quick description of the code\n",
    "\n",
    "The code used as an example in this chapter generates a picture and then applies a blurring filter.\n",
    "\n",
    "Each pixel of the blurred picture has a color that is the weighted average of its corresponding pixel on the original picture and its 24 neighbors.\n",
    "\n",
    "<img src=\"../../pictures/stencil_tp_blur.png\" style=\"float:none\" width=\"25%\"/>\n",
    "\n",
    "It will generate 2 pictures that look like:\n",
    "\n",
    "<img src=\"../../pictures/blur_500x500.png\" style=\"float:none\" width=\"50%\"/>"
   ]
  },
  {
   "cell_type": "markdown",
   "id": "1f329c77",
   "metadata": {
    "editable": false
   },
   "source": [
    "## Profiling CPU code\n",
    "\n",
    "The first task you have to achieve when porting your code with OpenACC is to find the most demanding loops in your CPU code.\n",
    "You can use your favorite profiling tool:\n",
    "\n",
    "- [gprof](https://sourceware.org/binutils/docs/gprof/)\n",
    "- [ARM MAP](https://www.arm.com/products/development-tools/server-and-hpc/forge/map)\n",
    "- [Nsight Systems](https://developer.nvidia.com/nsight-systems)\n",
    "\n",
    "Here we will use the Nsight Systems.\n",
    "\n",
    "The first step is to generate the executable file. Run the following cell which will just compile the code inside the blur.c and create 2 files:\n",
    "- blur.f90 (the content of the cell)\n",
    "- blur.f90.exe (the executable)\n",
    "\n",
    "\n",
    "This lets us introduce the command to run an already existing file `%idrrunfile filename`."
   ]
  },
  {
   "cell_type": "code",
   "execution_count": null,
   "id": "a410d838",
   "metadata": {},
   "outputs": [],
   "source": [
    "%idrrunfile --profile ../../examples/Fortran/blur.f90"
   ]
  },
  {
   "cell_type": "markdown",
   "id": "da7cd906",
   "metadata": {},
   "source": [
    "Now you can run the UI by executing the following cell and choosing the right reportxx.qdrep file (here it should be report1.qdrep).\n",
    "\n",
    "Please also write down the time taken (should be around 0.3 s on 1 Cascade Lake core)."
   ]
  },
  {
   "cell_type": "code",
   "execution_count": null,
   "id": "c685fd9c",
   "metadata": {},
   "outputs": [],
   "source": [
    "%%bash\n",
    "module load nvidia-nsight-systems/2021.2.1\n",
    "nsys-ui $PWD/report1.qdrep"
   ]
  },
  {
   "cell_type": "markdown",
   "id": "ce1140ee",
   "metadata": {
    "editable": false
   },
   "source": [
    "## The graphical profiler\n",
    "\n",
    "The Graphical user interface for the Nsight Systems (version 2021.2.1) is the following:\n",
    "\n",
    "<img src=\"../../pictures/NSight-global.png\" style=\"float:none\"/>"
   ]
  },
  {
   "cell_type": "markdown",
   "id": "5e977fa3",
   "metadata": {
    "editable": false
   },
   "source": [
    "### The timeline\n",
    "\n",
    "Maybe the most important part is the timeline:\n",
    "\n",
    "<img src=\"../../pictures/NSight-timeline.png\" style=\"float:none\"/>\n",
    "\n",
    "It has the information about what happened during execution of your code with a timeline view."
   ]
  },
  {
   "cell_type": "markdown",
   "id": "44a0ba7f",
   "metadata": {
    "editable": false
   },
   "source": [
    "You can select a portion of the timeline by holding the left button of the mouse (when the mouse is set up for right-handed people) and dragging the cursor.\n",
    "\n",
    "<img src=\"../../pictures/NSight-timeline_select.png\" style=\"float:none\"/>"
   ]
  },
  {
   "cell_type": "markdown",
   "id": "0e40370d",
   "metadata": {
    "editable": false
   },
   "source": [
    "and zoom (maj+z or right-click \"Zoom into selection\"):\n",
    "\n",
    "<img src=\"../../pictures/NSight-timeline_select_zoomed.png\" style=\"float:none\"/>"
   ]
  },
  {
   "cell_type": "markdown",
   "id": "df39121f",
   "metadata": {
    "editable": false
   },
   "source": [
    "### Profile\n",
    "\n",
    "To see a summary of the time taken by each function you have to select \"Bottom-up View\" in the part below the timeline.\n",
    "You can unroll the functions to have a complete view.\n",
    "\n",
    "<img src=\"../../pictures/NSight-bottom-up.png\" style=\"float:none\"/>"
   ]
  },
  {
   "cell_type": "markdown",
   "id": "d3f44311",
   "metadata": {
    "editable": false
   },
   "source": [
    "#### Analysis\n",
    "\n",
    "So here we see that most of the time is spent into the weight function. You can open the [blur.c file](../../examples/C/blur.c) to see what this function does.\n",
    "\n",
    "The work is done by this double loop which computes the value of the blurred pixel\n",
    "\n",
    "```fortran\n",
    "   do i = 0, 4\n",
    "       do j = 0, 4\n",
    "            pix = pix + pic((x+i-2)*3*cols+y*3+l-2+) * coefs(i,j) \n",
    "       enddo\n",
    "   enddo\n",
    "```\n",
    "\n",
    "\n",
    "Parallelizing this loop will not give us the optimal performance. Why?\n",
    "\n",
    "The iteration space is 25. So we will launch a lot of kernels (number of pixels in the picture) with a very small number of threads for a GPU.\n",
    "\n",
    "As a reminder NVIDIA V100 can run up to 5,120 threads at the same time."
   ]
  },
  {
   "cell_type": "markdown",
   "id": "5d9c28a9",
   "metadata": {
    "editable": false
   },
   "source": [
    "You also have to remember that launching a kernel has an overhead.\n",
    "\n",
    "So the advice is:\n",
    "\n",
    "- __Give work to the GPU__ by having large kernels with a lot of computation\n",
    "- __Avoid launching too many kernels__ to reduce overhead\n",
    "\n",
    "We have to find another way to parallelize this code! The `weight` function is called by `blur` which is a loop over the pixels.\n",
    "\n",
    "As an exercise, you can add the directives to offload `blur`. Once you are done you can run the profiler again."
   ]
  },
  {
   "cell_type": "code",
   "execution_count": null,
   "id": "dde74fe4",
   "metadata": {},
   "outputs": [],
   "source": [
    "%idrrunfile -a ../../examples/Fortran/blur.f90"
   ]
  },
  {
   "cell_type": "markdown",
   "id": "af6789df",
   "metadata": {
    "editable": false
   },
   "source": [
    "## Profiling GPU code: other tools\n",
    "\n",
    "Other tools available for profiling GPU codes include:\n",
    "\n",
    "- [ARM MAP](https://www.arm.com/products/development-tools/server-and-hpc/forge/map)\n",
    "- Environment variables NVCOMPILER_ACC_TIME and NVCOMPILER_ACC_NOTIFY\n",
    "\n",
    "It is possible to activate profiling by the runtime using two environment variables, NVCOMPILER_ACC_TIME and NVCOMPILER_ACC_NOTIFY. It provides a fast and easy way of profiling without a need of a GUI.\n",
    "\n",
    "Warning: disable NVCOMPILER_ACC_TIME (`export NVCOMPILER_ACC_TIME 0`) if using another profiler."
   ]
  },
  {
   "cell_type": "markdown",
   "id": "cdc281a0",
   "metadata": {
    "editable": false
   },
   "source": [
    "## NVCOMPILER_ACC_NOTIFY\n",
    "\n",
    "Additional profiling information can be collected by using the variable NVCOMPILER_ACC_NOTIFY. The values below correspond to activation of profiling data collection depending on a type of GPU operation.\n",
    "\n",
    "- 1: kernel launches\n",
    "- 2: data transfers\n",
    "- 4: region entry/exit\n",
    "- 8: wait operations or synchronizations\n",
    "- 16: device memory allocates and deallocates\n",
    "  \n",
    "  For example, in order to obtain output including the kernel executions and data transfers, one needs to set NVCOMPILER_ACC_NOTIFY to 3."
   ]
  }
 ],
 "metadata": {
  "kernelspec": {
   "display_name": "GPU Directives",
   "language": "python",
   "name": "gpu_directives"
  }
 },
 "nbformat": 4,
 "nbformat_minor": 5
}
