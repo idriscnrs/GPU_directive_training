{
 "cells": [
  {
   "cell_type": "markdown",
   "id": "59a31667",
   "metadata": {
    "editable": false
   },
   "source": [
    "# Variables status (private or shared)\n",
    "\n",
    "---\n",
    "**Requirements:**\n",
    "\n",
    "- [Get started](./Get_started.ipynb)\n",
    "\n",
    "---"
   ]
  },
  {
   "cell_type": "markdown",
   "id": "5701251e",
   "metadata": {
    "editable": false
   },
   "source": [
    "## Default status of scalar and arrays\n",
    "\n",
    "The default status of variables depend on what they are (scalar or array) and the compute construct you use.\n",
    "Here is a summary:\n",
    "\n",
    "|              | Scalar              | Array     |\n",
    "|--------------|---------------------|-----------|\n",
    "| _parallel_   | _gang_ firstprivate | shared    |\n",
    "| _kernels_    | shared              | shared    |"
   ]
  },
  {
   "cell_type": "markdown",
   "id": "81fa55a9",
   "metadata": {
    "editable": false
   },
   "source": [
    "## Private variables\n",
    "\n",
    "It is possible to make a variable private at _gang_, _worker_ or _vector_ level of parallelism if you use the `acc loop` clauses _private_ or _firstprivate_.\n",
    "The variables will be private at the maximum level of parallelism the loop works.\n",
    "\n",
    "Here are some examples:"
   ]
  },
  {
   "cell_type": "markdown",
   "id": "94550cc0",
   "metadata": {
    "editable": false
   },
   "source": [
    "### Simple cases\n",
    "A single loop with variables private at gang level:\n",
    "\n",
    "```fortran\n",
    "real(kind=8) :: scalar\n",
    "real(kind=8), dimension(:) :: array\n",
    "!$acc parallel\n",
    "    !$acc loop gang private(scalar, array)\n",
    "    do i=0, array_size\n",
    "        !! do some work on scalar and array\n",
    "    enddo\n",
    "!$acc end parallel\n",
    "```\n",
    "\n",
    "A single loop with variables private at worker level:\n",
    "\n",
    "```fortran\n",
    "real(kind=8) :: scalar\n",
    "real(kind=8), dimension(:) :: array\n",
    "!$acc parallel\n",
    "    !$acc loop gang worker private(scalar, array)\n",
    "    do i=0, array_size\n",
    "        !! do some work on scalar and array\n",
    "    enddo\n",
    "!$acc end parallel\n",
    "```\n",
    "\n",
    "A single loop with variables private at vector level:\n",
    "\n",
    "```fortran\n",
    "real(kind=8) :: scalar\n",
    "real(kind=8), dimension(:) :: array\n",
    "!$acc parallel\n",
    "    !$acc loop gang vector private(scalar, array)\n",
    "    do i=0, array_size\n",
    "        !! do some work on scalar and array\n",
    "    enddo\n",
    "!$acc end parallel\n",
    "```"
   ]
  },
  {
   "cell_type": "markdown",
   "id": "048207a8",
   "metadata": {
    "editable": false
   },
   "source": [
    "### A bit less straightforward\n",
    "Nested loops:\n",
    "\n",
    "```fortran\n",
    "real(kind=8) :: scalar1\n",
    "real(kind=8) :: scalar2\n",
    "\n",
    "scalar1 = 0\n",
    "!$acc parallel\n",
    "    !$acc loop gang reduction(+:scalar1) private(scalar2)\n",
    "    do i=1, size_i\n",
    "        scalar2 = 0\n",
    "        !! scalar2 is private at gang level but shared at worker/vector level\n",
    "        !$acc loop vector reduction(+:scalar2)\n",
    "        do j=1, size_j\n",
    "            scalar2 = scalar2 + ...\n",
    "        enddo\n",
    "        scalar1 = scalar1 + scalar2\n",
    "    enddo\n",
    "!$acc end parallel\n",
    "```"
   ]
  },
  {
   "cell_type": "markdown",
   "id": "e551a8f3",
   "metadata": {
    "editable": false
   },
   "source": [
    "## Caution\n",
    "\n",
    "You can make arrays private but in this case the memory requirements might be huge\n",
    "if you want them to be private at _worker_ or _vector_ level."
   ]
  }
 ],
 "metadata": {
  "kernelspec": {
   "display_name": "GPU Directives",
   "language": "python",
   "name": "gpu_directives"
  }
 },
 "nbformat": 4,
 "nbformat_minor": 5
}
