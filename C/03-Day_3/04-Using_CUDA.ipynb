{
 "cells": [
  {
   "cell_type": "markdown",
   "id": "4553060e",
   "metadata": {
    "editable": false
   },
   "source": [
    "# Using CUDA libraries\n",
    "\n",
    "---\n",
    "Requirements:\n",
    "\n",
    "- [Get started](./Get_started.ipynb)\n",
    "- [Atomic operations](./Atomic_operations.ipynb)\n",
    "- [Data Management](./Data_management.ipynb)\n",
    "\n",
    "---\n",
    "\n",
    "OpenACC is interoperable with CUDA and GPU-accelerated libraries.\n",
    "It means that if you create some variables with OpenACC you will be able to use the GPU (device) pointer to call a CUDA function."
   ]
  },
  {
   "cell_type": "markdown",
   "id": "debe04da",
   "metadata": {
    "editable": false
   },
   "source": [
    "## `acc host_data use_device`\n",
    "\n",
    "To call a CUDA function, the host needs to retrieve the address of your variable on the GPU.\n",
    "For example:\n",
    "```c\n",
    "double* array = (double*) malloc(size*sizeof(double));\n",
    "#pragma acc enter data create(array[:size])\n",
    "\n",
    "#pragma acc host_data use_device(array)\n",
    "{\n",
    "    // inside the block `array` stores the address on the GPU\n",
    "    cuda_function(array);\n",
    "}\n",
    "```"
   ]
  },
  {
   "cell_type": "markdown",
   "id": "2a50e0a0",
   "metadata": {
    "editable": false
   },
   "source": [
    "## Example with CURAND\n",
    "\n",
    "The pseudo-random number generators of the standard libraries are not (as of 2021) available with OpenACC.\n",
    "One solution is to use CURAND from NVIDIA.\n",
    "\n",
    "In this example we generate a large array of random integer numbers in [0,9] with CURAND.\n",
    "Then a count of each occurrence is performed on the GPU with OpenACC.\n",
    "\n",
    "The implementation of the generation of the integers list is given but is beyond the scope of the training course.\n",
    "\n",
    "Example stored in: `../../examples/C/Using_CUDA_random_example.c`"
   ]
  },
  {
   "cell_type": "code",
   "execution_count": null,
   "id": "88501a39",
   "metadata": {},
   "outputs": [],
   "source": [
    "%%idrrun -a --options \"-Mcudalib=curand\"\n",
    "#include <stdio.h>\n",
    "#include <stdlib.h>\n",
    "#include <curand.h>\n",
    "#include <openacc.h>\n",
    "\n",
    "// Fill d_buffer with num random numbers\n",
    "void fill_rand(unsigned int *d_buffer, size_t num, cudaStream_t stream)\n",
    "{\n",
    "    curandGenerator_t gen;\n",
    "    int status;\n",
    "    // Create generator\n",
    "    status = curandCreateGenerator(&gen, CURAND_RNG_PSEUDO_DEFAULT);\n",
    "    // Set CUDA stream\n",
    "    status |= curandSetStream(gen, stream);\n",
    "    // Set seed\n",
    "    status |= curandSetPseudoRandomGeneratorSeed(gen, 1234ULL);\n",
    "    // Generate num random numbers\n",
    "    status |= curandGenerate(gen, d_buffer, num);\n",
    "//  Peut essayer curandStatus_tcurandGeneratePoisson(curandGenerator_t generator, unsigned int *outputPtr, size_t n, double lambda)\n",
    "    // Cleanup generator\n",
    "    status |= curandDestroyGenerator(gen);\n",
    "\n",
    "    if (status != CURAND_STATUS_SUCCESS) {\n",
    "        printf (\"curand failure!\\n\");\n",
    "        exit (EXIT_FAILURE);\n",
    "    }\n",
    "}\n",
    "\n",
    "int main(void) { \n",
    "    // Histogram allocation and initialization \n",
    "    int histo[10]; \n",
    "    for (int i=0; i<10; ++i) \n",
    "        histo[i] = 0; \n",
    "\n",
    "    size_t nshots = (size_t) 1e9; \n",
    "    cudaStream_t stream ;\n",
    "\n",
    "    // Allocate memory for the random numbers \n",
    "    unsigned int* shots = (unsigned int*) malloc(nshots*sizeof(unsigned int));\n",
    "    #pragma acc data create(shots[:nshots]) copyout(histo[:10]) \n",
    "    {\n",
    "        #pragma acc host_data use_device(shots) \n",
    "        {\n",
    "             stream = (cudaStream_t) acc_get_cuda_stream(acc_async_sync); \n",
    "             fill_rand(shots, nshots, stream);\n",
    "        }\n",
    "\n",
    "        // Count the number of time each number was drawn \n",
    "        #pragma acc parallel loop present(shots[:nshots]) \n",
    "        for (size_t i=0; i<nshots; ++i) \n",
    "        { \n",
    "            shots[i] = shots[i] % 10;\n",
    "            #pragma acc atomic update \n",
    "            histo[shots[i]]++; \n",
    "        } \n",
    "    }// End acc data\n",
    "\n",
    "    // Print results \n",
    "    for (int i=0; i<10; ++i) \n",
    "        printf(\"%3d: %10d (%5.3f)\\n\", i, histo[i], (double) histo[i]/1.e9); \n",
    "\n",
    "     return 0; \n",
    "}\n"
   ]
  }
 ],
 "metadata": {
  "kernelspec": {
   "display_name": "GPU Directives",
   "language": "python",
   "name": "gpu_directives"
  }
 },
 "nbformat": 4,
 "nbformat_minor": 5
}
