{
 "cells": [
  {
   "cell_type": "markdown",
   "id": "9ff8c1e5",
   "metadata": {
    "editable": false
   },
   "source": [
    "# Performing several tasks at the same time on the GPU\n",
    "\n",
    "---\n",
    "**Requirements:**\n",
    "\n",
    "- [Get started](./Get_started.ipynb)\n",
    "- [Atomic operations](./Atomic_operations.ipynb)\n",
    "- [Manual building](./Manual_building.ipynb)\n",
    "- [Data management](./Data_management.ipynb)\n",
    "\n",
    "---\n",
    "\n",
    "This part describes how to overlap several kernels on the GPU and/or how to overlap kernels with data transfers.\n",
    "This feature is called asynchronism and will give you the possibility to get better performance when it is possible to implement it.\n",
    "\n",
    "On the GPU you can have several execution threads (called _streams_ or _activity queue_) running at the same time independently.\n",
    "A _stream_ can be viewed as a pipeline that you feed with kernels and data transfers that have to be executed in order.\n",
    "\n",
    "So as a developer you can decide to activate several streams if your code is able to withstand them.\n",
    "OpenACC gives you the possibility to manage streams with the tools:\n",
    "\n",
    "- _async_ clause\n",
    "- _wait_ clause or directive\n",
    "\n",
    " By default, only one stream is created."
   ]
  },
  {
   "cell_type": "markdown",
   "id": "28c055ff",
   "metadata": {
    "editable": false
   },
   "source": [
    "## _async_ clause\n",
    "\n",
    "Some directives accept the clause _async_ to run on another stream than the default one.\n",
    "You can specify an integer (which can be a variable) to have several streams concurrently.\n",
    "\n",
    "If you omit the optional integer then a \"default\" extra stream is used.\n",
    "\n",
    "The directives which accept _async_ are:\n",
    "\n",
    "- the compute constructs: `acc parallel`, `acc kernels`, `acc serial`\n",
    "- the unstructured data directives: `acc enter data`, `acc exit data`, `acc update`\n",
    "- the `acc wait` directive\n",
    "\n",
    "For example we can create 2 streams to allow data transfers and kernel overlap.\n",
    "\n",
    "```c\n",
    "int stream1=1;\n",
    "int stream2=2;\n",
    "#pragma acc enter data copyin(array[:size]) async(stream1)\n",
    "// Some stuff\n",
    "#pragma acc parallel async(stream2)\n",
    "{\n",
    "    // A wonderful kernel\n",
    "}\n",
    "```"
   ]
  },
  {
   "cell_type": "markdown",
   "id": "32d4109e",
   "metadata": {
    "editable": false
   },
   "source": [
    "## _wait_ clause\n",
    "\n",
    "Running fast is important but having correct results is surely more important.\n",
    "\n",
    "If you have a kernel that needs the result of another kernel or that a data transfer is complete then you have to wait for the operations to finalize.\n",
    "You can add the _wait_ clause (with an optional integer) to the directives:\n",
    "\n",
    "- the compute constructs: `acc parallel`, `acc kernels`, `acc serial`\n",
    "- the unstructured data directives: `acc enter data`, `acc exit data`, `acc update`\n",
    "\n",
    "This example implements 2 streams but this time the kernel needs the data transfer on stream1 to complete before being executed.\n",
    "\n",
    "```c\n",
    "int stream1=1;\n",
    "int stream2=2;\n",
    "#pragma acc enter data copyin(array[:size]) async(stream1)\n",
    "// Some stuff\n",
    "#pragma acc parallel async(stream2) wait(stream1)\n",
    "{\n",
    "    // A wonderful kernel\n",
    "}       \n",
    "```"
   ]
  },
  {
   "cell_type": "markdown",
   "id": "40ce2cec",
   "metadata": {
    "editable": false
   },
   "source": [
    "Furthermore you can wait for several streams to complete by giving a comma-separated list of integers as clause arguments\n",
    "\n",
    "This example implements 2 streams but this time the kernel needs the data transfer on stream1 to complete before being executed.\n",
    "\n",
    "```c\n",
    "int stream1=1;\n",
    "int stream2=2;\n",
    "int stream3=3;\n",
    "#pragma parallel loop async(stream3)\n",
    "for (int i=0; i <size; ++i)\n",
    "{\n",
    "    // Kernel launched on stream3\n",
    "}\n",
    "#pragma acc enter data copyin(array[:size]) async(stream1)\n",
    "// Some stuff\n",
    "#pragma acc parallel async(stream2) wait(stream1, stream3)\n",
    "{\n",
    "    // A wonderful kernel\n",
    "}    \n",
    "```\n",
    "\n",
    "\n",
    "If you omit the clause options, then the operations will wait until all asynchronous operations fulfill.\n",
    "\n",
    "```c\n",
    "#pragma acc parallel wait\n",
    "{\n",
    "    // A wonderful kernel\n",
    "}    \n",
    "```"
   ]
  },
  {
   "cell_type": "markdown",
   "id": "bc7918d9",
   "metadata": {
    "editable": false
   },
   "source": [
    "## _wait_ directive\n",
    "\n",
    "_wait_ comes also as a standalone directive.\n",
    "```c\n",
    "int stream1=1;\n",
    "int stream2=2;\n",
    "int stream3=3;\n",
    "#pragma parallel loop async(stream3)\n",
    "for (int i=0; i <size; ++i)\n",
    "{\n",
    "    // Kernel launched on stream3\n",
    "}\n",
    "#pragma acc enter data copyin(array[:size]) async(stream1)\n",
    "// Some stuff\n",
    "\n",
    "#pragma acc wait(stream3)\n",
    "\n",
    "#pragma acc parallel async(stream2)\n",
    "{\n",
    "    // A wonderful kernel\n",
    "}    \n",
    "\n",
    "```"
   ]
  },
  {
   "cell_type": "markdown",
   "id": "3c2db7d4",
   "metadata": {
    "editable": false
   },
   "source": [
    "## Exercise\n",
    "\n",
    "In this exercise you have to compute the matrix product $C = A \\times B$.\n",
    "\n",
    "You have to add directives to:\n",
    "\n",
    "- use the program lifetime unstructured data region to allocate memory on the GPU\n",
    "- perform the matrix initialization on the GPU\n",
    "- perform the matrix product on the GPU\n",
    "- create and analyze a profile (add the option `--profile` to idrrun)\n",
    "- save the .qdrep file\n",
    "- check what can be done asynchronously and implement it\n",
    "- create and analyze a profile (add the option `--profile` to idrrun)\n",
    "- save the .qdrep file\n",
    "\n",
    "Your solution is considered correct if no implicit action are done.\n",
    "\n",
    "Example stored in: `../../examples/C/async_async_exercise.c`"
   ]
  },
  {
   "cell_type": "code",
   "execution_count": null,
   "id": "98cb0079",
   "metadata": {},
   "outputs": [],
   "source": [
    "%%idrrun -a \n",
    "#include <stdio.h>\n",
    "#include <stdlib.h>\n",
    "double* create_mat(int dim, int stream)\n",
    "{\n",
    "    double* mat = (double*) malloc(dim*dim*sizeof(double));\n",
    "    return mat;\n",
    "}\n",
    "\n",
    "void init_mat(double* mat, int dim, double diag, int stream)\n",
    "{\n",
    "    for (int i=0; i<dim; ++i)\n",
    "        for (int j=0; j<dim; ++j)\n",
    "        {\n",
    "            mat[i*dim+j] = 0.;\n",
    "        }\n",
    "    for (int i=0; i<dim; ++i)\n",
    "        mat[i*dim+i] = diag;\n",
    "}\n",
    "\n",
    "int main(void)\n",
    "{\n",
    "    int dim = 5000;\n",
    "    \n",
    "    double* restrict A = create_mat(dim, 1);\n",
    "    double* restrict B = create_mat(dim, 2);\n",
    "    double* restrict C = create_mat(dim, 3);\n",
    "    \n",
    "    init_mat(A, dim, 6.0, 1);\n",
    "    init_mat(B, dim, 7.0, 2);\n",
    "    init_mat(C, dim, 0.0, 3);\n",
    "\n",
    "    for (int i=0; i<dim; ++i)\n",
    "        for (int k=0; k<dim; ++k)\n",
    "            for (int j=0; j<dim; ++j)\n",
    "            {\n",
    "                C[i*dim+j] += A[i*dim+k] * B[k*dim+j];\n",
    "            }\n",
    "    printf(\"Check that value is equal to 42.: %f\\n\", C[0]);\n",
    "    return 0;\n",
    "}\n"
   ]
  },
  {
   "cell_type": "markdown",
   "id": "28ff722b",
   "metadata": {
    "editable": false
   },
   "source": [
    "### Solution\n",
    "\n",
    "Example stored in: `../../examples/C/async_async_solution.c`"
   ]
  },
  {
   "cell_type": "code",
   "execution_count": null,
   "id": "1f546361",
   "metadata": {
    "jupyter": {
     "source_hidden": true
    }
   },
   "outputs": [],
   "source": [
    "%%idrrun -a --profile\n",
    "#include <stdio.h>\n",
    "#include <stdlib.h>\n",
    "double* create_mat(int dim, int stream)\n",
    "{\n",
    "    double* mat = (double*) malloc(dim*dim*sizeof(double));\n",
    "    #pragma acc enter data create(mat[0:dim*dim]) async(stream)\n",
    "    return mat;\n",
    "}\n",
    "\n",
    "void init_mat(double* mat, int dim, double diag, int stream)\n",
    "{\n",
    "    #pragma acc parallel loop present(mat[0:dim*dim]) async(stream)\n",
    "    for (int i=0; i<dim; ++i)\n",
    "        #pragma acc loop\n",
    "        for (int j=0; j<dim; ++j)\n",
    "        {\n",
    "            mat[i*dim+j] = 0.;\n",
    "        }\n",
    "    #pragma acc parallel loop present(mat[0:dim*dim]) async(stream)\n",
    "    for (int i=0; i<dim; ++i)\n",
    "        mat[i*dim+i] = diag;\n",
    "}\n",
    "\n",
    "int main(void)\n",
    "{\n",
    "    int dim = 5000;\n",
    "    \n",
    "    double* restrict A = create_mat(dim, 1);\n",
    "    double* restrict B = create_mat(dim, 2);\n",
    "    double* restrict C = create_mat(dim, 3);\n",
    "    \n",
    "    init_mat(A, dim, 6.0, 1);\n",
    "    init_mat(B, dim, 7.0, 2);\n",
    "    init_mat(C, dim, 0.0, 3);\n",
    "\n",
    "    #pragma acc parallel present(A[:dim*dim], B[:dim*dim], C[:dim*dim]) wait(1,2,3)\n",
    "    {\n",
    "    #pragma acc loop gang vector collapse(3)\n",
    "    for (int i=0; i<dim; ++i)\n",
    "        for (int k=0; k<dim; ++k)\n",
    "            for (int j=0; j<dim; ++j)\n",
    "            {\n",
    "                #pragma acc atomic update\n",
    "                C[i*dim+j] += A[i*dim+k] * B[k*dim+j];\n",
    "            }\n",
    "    }\n",
    "    #pragma acc exit data delete(A[:dim*dim], B[:dim*dim]) copyout(C[:dim*dim])\n",
    "    printf(\"Check that value is equal to 42.: %f\\n\", C[0]);\n",
    "    return 0;\n",
    "}"
   ]
  },
  {
   "cell_type": "markdown",
   "id": "de40a3d3",
   "metadata": {},
   "source": [
    "In an ideal world, the solution would produce a profile like this one:\n",
    "\n",
    "<img src=\"../../pictures/async.png\" style=\"float:none\"/>"
   ]
  },
  {
   "cell_type": "markdown",
   "id": "677ecf30",
   "metadata": {
    "editable": false
   },
   "source": [
    "### Comments\n",
    "\n",
    "- Several threads will update the same memory location for C so you have to use an `acc atomic update`\n",
    "- `collapse` is used to fuse the 3 loops. It helps the compiler to generate a more efficient code"
   ]
  },
  {
   "cell_type": "markdown",
   "id": "1a6765aa",
   "metadata": {
    "editable": false
   },
   "source": [
    "## Advanced NVIDIA compiler option to use Pinned Memory: `-gpu=pinned`\n",
    "\n",
    "If you look at the profiles of your code (at this point \"if\" should be \"when\"), you can see that the memory transfers occurs in chunks of more or less constant size.\n",
    "Even though you have a large memory block it will be split into several smaller pieces which have the size of a memory page."
   ]
  },
  {
   "cell_type": "markdown",
   "id": "bf641587",
   "metadata": {
    "editable": false
   },
   "source": [
    "Memory not pinned:\n",
    "\n",
    "<img alt=\"Nsight output unpinned memory\" src=\"../../pictures/NSight-matmul_not_pinned.png\" style=\"float:none\"/>\n",
    "\n",
    "Memory pinned:\n",
    "\n",
    "<img alt=\"Nsight output pinned memory\" src=\"../../pictures/NSight-matmul_pinned.png\" style=\"float:none\"/>"
   ]
  },
  {
   "cell_type": "markdown",
   "id": "9d0564c7",
   "metadata": {
    "editable": false
   },
   "source": [
    "Usually the transfer time is reduced when pinned memory is used.\n",
    "It can also cause some segmentation faults. Do your testing!"
   ]
  },
  {
   "cell_type": "markdown",
   "id": "9c1cbf8a",
   "metadata": {
    "editable": false
   },
   "source": [
    "### Bonus\n",
    "\n",
    "You can launch the exercise with `%%idrrun -a --profile --accopts \"cc70,pinned\"` to test the effect of pinned memory.\n",
    "You can save a profile to compare the 3 versions."
   ]
  }
 ],
 "metadata": {
  "kernelspec": {
   "display_name": "GPU Directives",
   "language": "python",
   "name": "gpu_directives"
  }
 },
 "nbformat": 4,
 "nbformat_minor": 5
}
