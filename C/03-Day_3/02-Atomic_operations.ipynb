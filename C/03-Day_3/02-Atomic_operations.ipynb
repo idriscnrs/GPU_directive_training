{
 "cells": [
  {
   "cell_type": "markdown",
   "id": "70e0cc8c",
   "metadata": {
    "editable": false
   },
   "source": [
    "# Atomic operations\n",
    "\n",
    "---\n",
    "**Requirements:**\n",
    "\n",
    "- [Get started](./Get_started.ipynb)\n",
    "- [Data management](./Data_management.ipynb)\n",
    "\n",
    "---\n",
    "\n",
    "The `acc atomic` is kind of a generalization of the concept of reduction that we saw in [Get started](../Get_started.ipynb).\n",
    "However the mechanism is different and less efficient than the one used for reductions.\n",
    "So if you have the choice, use a _reduction_ clause.\n",
    "\n",
    "The idea is to make sure that only one thread at a time can perform a read and/or write operation on a **shared** variable.\n",
    "\n",
    "The syntax of the directive depends on the clause you use."
   ]
  },
  {
   "cell_type": "markdown",
   "id": "bafa0d77",
   "metadata": {
    "editable": false
   },
   "source": [
    "## Syntax"
   ]
  },
  {
   "cell_type": "markdown",
   "id": "f3551446",
   "metadata": {
    "editable": false
   },
   "source": [
    "### _read_, _write_, _update_\n",
    "```c\n",
    "#pragma acc atomic <clause>\n",
    "// One atomic operation\n",
    "```\n",
    "\n",
    "\n",
    "The clauses _read_, _write_ and _update_ only apply to the line immediately below the directive."
   ]
  },
  {
   "cell_type": "markdown",
   "id": "eac0a6c3",
   "metadata": {
    "editable": false
   },
   "source": [
    "### _capture_\n",
    "\n",
    "The _capture_ clause can work on a block of code:\n",
    "```c\n",
    "#pragma acc atomic capture\n",
    "{\n",
    "//Several atomic operations\n",
    "}\n",
    "```\n",
    "In C it can also work on the capture operation just below.\n",
    "\n",
    "```c\n",
    "#pragma acc atomic capture\n",
    "// One capture operation\n",
    "```"
   ]
  },
  {
   "cell_type": "markdown",
   "id": "188960ed",
   "metadata": {
    "editable": false
   },
   "source": [
    "## Restrictions\n",
    "\n",
    "The complete list of restrictions is available in the OpenACC specification.\n",
    "\n",
    "We need the following information to understand the restrictions for each clause:\n",
    "\n",
    "- **v** and **x** are scalar values\n",
    "- _binop_: binary operator (for example: +, -, \\*, /, ++, --, etc)\n",
    "- _expr_ is an expression that reduces to a scalar and must have precedence over _binop_"
   ]
  },
  {
   "cell_type": "markdown",
   "id": "83fda411",
   "metadata": {
    "editable": false
   },
   "source": [
    "### _read_\n",
    "\n",
    "The expression must be of the form:\n",
    "\n",
    "```c\n",
    "#pragma acc atomic read\n",
    "v = x;\n",
    "```"
   ]
  },
  {
   "cell_type": "markdown",
   "id": "905cd609",
   "metadata": {
    "editable": false
   },
   "source": [
    "### _write_\n",
    "\n",
    "The expression must have the form:\n",
    "\n",
    "```c\n",
    "#pragma acc atomic write\n",
    "x = expr;\n",
    "```"
   ]
  },
  {
   "cell_type": "markdown",
   "id": "f58fa223",
   "metadata": {
    "editable": false
   },
   "source": [
    "### _update_\n",
    "\n",
    "Several forms are available:\n",
    "\n",
    "```c\n",
    "//x = x _binop_ expr;\n",
    "#pragma acc update\n",
    "x = x + (3*10);\n",
    "\n",
    "//x_binop_;\n",
    "#pragma acc update\n",
    "x++;\n",
    "\n",
    "//_binop_x\n",
    "#pragma acc update\n",
    "--x;\n",
    "\n",
    "//x _binop_= expr\n",
    "#pragma acc update\n",
    "x += 30;\n",
    "```"
   ]
  },
  {
   "cell_type": "markdown",
   "id": "36a17e72",
   "metadata": {
    "editable": false
   },
   "source": [
    "### _capture_\n",
    "\n",
    "A capture is an operation where you set a variable with the value of an updated variable:\n",
    "```c\n",
    "//v = x = x _binop_ expr;\n",
    "#pragma acc capture\n",
    "v = x = x + (3*10);\n",
    "\n",
    "//v = x_binop_;\n",
    "#pragma acc capture\n",
    "v = x++;\n",
    "\n",
    "//v = _binop_x\n",
    "#pragma acc capture\n",
    "v = --x;\n",
    "\n",
    "//v = x _binop_= expr\n",
    "#pragma acc capture\n",
    "v = x += 30;\n",
    "```"
   ]
  },
  {
   "cell_type": "markdown",
   "id": "d46bb271",
   "metadata": {
    "editable": false
   },
   "source": [
    "## Exercise\n",
    "\n",
    "Let's check if the default random number generator provided by the standard library gives good results.\n",
    "\n",
    "In the example we generate an array of integers randomly set from 0 to 9.\n",
    "The purpose is to check if we have a uniform distribution.\n",
    "\n",
    "We cannot perform the initialization on the GPU since the rand() function is not OpenACC aware.\n",
    "\n",
    "You have to:\n",
    "\n",
    "- Create a kernel for the integer counting\n",
    "- Make sure that the results are correct (you should have around 10% for each number)\n",
    "\n",
    "Example stored in: `../../examples/C/atomic_exercise.c`"
   ]
  },
  {
   "cell_type": "code",
   "execution_count": null,
   "id": "f6d71938",
   "metadata": {},
   "outputs": [],
   "source": [
    "%%idrrun -a\n",
    "#include <stdio.h>\n",
    "#include <stdlib.h>\n",
    "int main(void)\n",
    "{\n",
    "    // Histogram allocation and initialization\n",
    "    int histo[10];\n",
    "    for (int i=0; i<10; ++i)\n",
    "        histo[i] = 0;\n",
    "    size_t nshots = (size_t) 1e9;\n",
    "    \n",
    "    // Allocate memory for the random numbers\n",
    "    int* shots = (int*) malloc(nshots*sizeof(int));\n",
    "\n",
    "    srand((unsigned) 12345900);     \n",
    "    \n",
    "    // Fill the array on the CPU (rand is not available on GPU with Nvidia Compilers)\n",
    "    for (size_t i=0; i< nshots; ++i)\n",
    "    {\n",
    "        shots[i] = (int) rand() % 10;\n",
    "    }\n",
    "    \n",
    "    // Count the number of time each number was drawn \n",
    "    for (size_t i=0; i<nshots; ++i)\n",
    "    {\n",
    "        histo[shots[i]]++;\n",
    "    }\n",
    "    \n",
    "    // Print results\n",
    "    \n",
    "    for (int i=0; i<10; ++i)\n",
    "        printf(\"%3d: %10d (%5.3f)\\n\", i, histo[i], (double) histo[i]/1.e9);\n",
    "      \n",
    "    return 0;\n",
    "}\n"
   ]
  },
  {
   "cell_type": "markdown",
   "id": "adf64019",
   "metadata": {
    "editable": false
   },
   "source": [
    "### Solution\n",
    "\n",
    "Example stored in: `../../examples/C/atomic_solution.c`"
   ]
  },
  {
   "cell_type": "code",
   "execution_count": null,
   "id": "dfa1b0d8",
   "metadata": {
    "jupyter": {
     "source_hidden": true
    }
   },
   "outputs": [],
   "source": [
    "%%idrrun -a\n",
    "#include <stdio.h>\n",
    "#include <stdlib.h>\n",
    "int main(void)\n",
    "{\n",
    "    // Histogram allocation and initialization\n",
    "    int histo[10];\n",
    "    for (int i=0; i<10; ++i)\n",
    "        histo[i] = 0;\n",
    "    size_t nshots = (size_t) 1e9;\n",
    "    \n",
    "    // Allocate memory for the random numbers\n",
    "    int* shots = (int*) malloc(nshots*sizeof(int));\n",
    "\n",
    "    srand((unsigned) 12345900);     \n",
    "    \n",
    "    // Fill the array on the CPU (rand is not available on GPU with Nvidia Compilers)\n",
    "    for (size_t i=0; i< nshots; ++i)\n",
    "    {\n",
    "        shots[i] = (int) rand()%10;\n",
    "    }\n",
    "    \n",
    "    // Count the number of time each number was drawn\n",
    "    #pragma acc parallel loop  copyin(shots[:nshots]) copyout(histo[0:10])\n",
    "    for (size_t i=0; i<nshots; ++i)\n",
    "    {\n",
    "        #pragma acc atomic update\n",
    "        histo[shots[i]]++;\n",
    "    }\n",
    "    // Print results\n",
    "    for (int i=0; i<10; ++i)\n",
    "        printf(\"%3d: %10d (%5.3f)\\n\", i, histo[i], (double) histo[i]/1.e9);\n",
    "      \n",
    "    return 0;\n",
    "}"
   ]
  },
  {
   "cell_type": "markdown",
   "id": "2c5a1f0c",
   "metadata": {
    "editable": false
   },
   "source": [
    "#### Important Note\n",
    "\n",
    "With recent NVidia compilers you can use reduction on tables. It will be more efficient than using atomic operations."
   ]
  }
 ],
 "metadata": {
  "kernelspec": {
   "display_name": "GPU Directives",
   "language": "python",
   "name": "gpu_directives"
  }
 },
 "nbformat": 4,
 "nbformat_minor": 5
}
