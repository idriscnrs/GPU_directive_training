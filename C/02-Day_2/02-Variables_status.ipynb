{
 "cells": [
  {
   "cell_type": "markdown",
   "id": "aebc630a",
   "metadata": {
    "editable": false
   },
   "source": [
    "# Variables status (private or shared)\n",
    "\n",
    "---\n",
    "**Requirements:**\n",
    "\n",
    "- [Get started](./Get_started.ipynb)\n",
    "\n",
    "---"
   ]
  },
  {
   "cell_type": "markdown",
   "id": "c5467bd9",
   "metadata": {
    "editable": false
   },
   "source": [
    "## Default status of scalar and arrays\n",
    "\n",
    "The default status of variables depend on what they are (scalar or array) and the compute construct you use.\n",
    "Here is a summary:\n",
    "\n",
    "|              | Scalar              | Array     |\n",
    "|--------------|---------------------|-----------|\n",
    "| _parallel_   | _gang_ firstprivate | shared    |\n",
    "| _kernels_    | shared              | shared    |"
   ]
  },
  {
   "cell_type": "markdown",
   "id": "28cca3f5",
   "metadata": {
    "editable": false
   },
   "source": [
    "## Private variables\n",
    "\n",
    "It is possible to make a variable private at _gang_, _worker_ or _vector_ level of parallelism if you use the `acc loop` clauses _private_ or _firstprivate_.\n",
    "The variables will be private at the maximum level of parallelism the loop works.\n",
    "\n",
    "Here are some examples:"
   ]
  },
  {
   "cell_type": "markdown",
   "id": "0c10cded",
   "metadata": {
    "editable": false
   },
   "source": [
    "### Simple cases\n",
    "\n",
    "A single loop with variables private at gang level:\n",
    "\n",
    "```c\n",
    "double scalar = 42.;\n",
    "double* array = (double) malloc(size*sizeof(double));\n",
    "#pragma acc parallel\n",
    "{\n",
    "    // scalar would have been private in any case because we use 'acc parallel' compute construct\n",
    "    #pragma acc loop gang private(scalar, array)\n",
    "    for (int i=0; i<size; ++i)\n",
    "    {\n",
    "        // do some work on scalar and array\n",
    "    }\n",
    "}\n",
    "```\n",
    "\n",
    "A single loop with variables private at worker level:\n",
    "\n",
    "```c\n",
    "double scalar = 42.;\n",
    "double* array = (double) malloc(size*sizeof(double));\n",
    "#pragma acc parallel\n",
    "{\n",
    "    #pragma acc loop gang worker private(scalar, array)\n",
    "    for (int i=0; i<size; ++i)\n",
    "    {\n",
    "        // do some work on scalar and array\n",
    "    }\n",
    "}\n",
    "```\n",
    "\n",
    "A single loop with variables private at vector level:\n",
    "\n",
    "```c\n",
    "double scalar = 42.;\n",
    "double* array = (double) malloc(size*sizeof(double));\n",
    "#pragma acc parallel\n",
    "{\n",
    "    // the number of workers here is 1\n",
    "    #pragma acc loop gang vector private(scalar, array)\n",
    "    for (int i=0; i<size; ++i)\n",
    "    {\n",
    "        // do some work on scalar and array\n",
    "    }\n",
    "}\n",
    "```"
   ]
  },
  {
   "cell_type": "markdown",
   "id": "84de76ed",
   "metadata": {
    "editable": false
   },
   "source": [
    "### A bit less straightforward\n",
    "Nested loops:\n",
    "\n",
    "```c\n",
    "double scalar1 = 0.;\n",
    "double scalar2;\n",
    "#pragma acc parallel\n",
    "{\n",
    "    #pragma acc loop gang reduction(+:scalar1) private(scalar2)\n",
    "    for (int i=0; i<size_i; ++i)\n",
    "    {\n",
    "        scalar2 = 0.;\n",
    "        // scalar2 is private at gang level but shared at worker/vector level\n",
    "        #pragma acc loop vector reduction(+:scalar2)\n",
    "        for (int j=0; i<size_j; ++j)\n",
    "        {\n",
    "            scalar2 += ... ;\n",
    "        }\n",
    "        scalar1 += scalar2;\n",
    "    }\n",
    "}\n",
    "```"
   ]
  },
  {
   "cell_type": "markdown",
   "id": "9071abe9",
   "metadata": {
    "editable": false
   },
   "source": [
    "## Caution\n",
    "\n",
    "You can make arrays private but in this case the memory requirements might be huge\n",
    "if you want them to be private at _worker_ or _vector_ level."
   ]
  }
 ],
 "metadata": {
  "kernelspec": {
   "display_name": "GPU Directives",
   "language": "python",
   "name": "gpu_directives"
  }
 },
 "nbformat": 4,
 "nbformat_minor": 5
}
