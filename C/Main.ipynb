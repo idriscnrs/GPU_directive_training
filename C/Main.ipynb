{
 "cells": [
  {
   "cell_type": "markdown",
   "id": "e0e5b862",
   "metadata": {
    "editable": false
   },
   "source": [
    "# Introduction to OpenACC for GPU"
   ]
  },
  {
   "cell_type": "markdown",
   "id": "6c916023",
   "metadata": {
    "editable": false
   },
   "source": [
    "## Structure of the archive\n",
    "\n",
    "- C: Notebooks in C language\n",
    "- Fortran: Notebooks in Fortran\n",
    "- pictures: All figures used in the notebooks\n",
    "- examples: The source code for the exercises\n",
    "  - C\n",
    "  - Fortran\n",
    "- idrcomp: source code to run %%irdrrun cells and other utilities\n",
    "- utils:\n",
    "  - *json configuration files* for idrrun\n",
    "  - setup_acc.sh: configuration script to generate a jupyter kernel on Jean Zay"
   ]
  },
  {
   "cell_type": "markdown",
   "id": "e85b8be7",
   "metadata": {
    "editable": false
   },
   "source": [
    "## On Jean Zay\n",
    "\n",
    "You have to execute the following lines to be able to run the notebooks\n",
    "The script will:\n",
    "\n",
    "```bash\n",
    "cd $WORK/GPU_Directives\n",
    "./utils/setup_acc.sh\n",
    " # The script will:\n",
    " # 1. Load the environment `gpu_directives`\n",
    " # 2. Create a custom kernel usable in JupyterLab\n",
    " # 3. Install the idrcomp extension for JupyterLab (a custom magic command)\n",
    " # 4. Edit the ipython configuration to automatically load the idrcomp extension\n",
    "```\n",
    "\n",
    "Open a browser to [Idris JupyterHub https://jupyterhub.idris.fr/](https://jupyterhub.idris.fr/)"
   ]
  },
  {
   "cell_type": "markdown",
   "id": "7ddd738e",
   "metadata": {
    "editable": false
   },
   "source": [
    "## List of notebooks"
   ]
  },
  {
   "cell_type": "markdown",
   "id": "876482ea",
   "metadata": {
    "editable": false
   },
   "source": [
    "### Day 1\n",
    "\n",
    "- [Introduction](./Introduction.ipynb): You will find here some information about:\n",
    "  - Hardware\n",
    "  - Short history of OpenACC and OpenMP for GPU\n",
    "  - Programming model\n",
    "\n",
    "The notebook is purely informational.\n",
    "\n",
    "- [Getting started](./Get_started.ipynb): You should start here. The notebook presents quickly the main features you need to use OpenACC on the GPU.\n",
    "- [Manual Building](./Manual_building.ipynb): The training uses JupyterLab and you won't need to compile anything by hand. However it is important to know how to do it.\n",
    "- [Data Management](./Data_management.ipynb): The main bottleneck when porting to GPU will surely be data transfers. Here we see the different way to deal efficiently with this issue.\n",
    "- [Hands-on Game of Life](./Game_of_Life.ipynb): Conway's Game of Life with OpenACC."
   ]
  },
  {
   "cell_type": "markdown",
   "id": "6204ecf6",
   "metadata": {
    "editable": false
   },
   "source": [
    "### Day 2\n",
    "\n",
    "- [Other Compute Constructs](./Compute_constructs.ipynb): There are several ways to create kernels with OpenACC. We presented one during the first day (`acc parallel`) and here are the other (`acc kernels` and `acc serial`).\n",
    "- [Variable status](./Variables_status.ipynb): It is important to keep in mind the default variables statuts in the kernels. We also learn how to privatize variables to get correct algorithms.\n",
    "- [Kernels/Loop configuration](./Loop_configuration.ipynb): By default the compiler and the runtime set the parameters for the kernels and loops. Even though we do not advise to do it manually we will teach you how to do.\n",
    "- [GPU Routines](./Routines.ipynb): Functions and subroutines can be called inside kernels only if they were compiled for the GPU.\n",
    "- The porting process requires that you can [profile the code](./Profiling.ipynb).\n",
    "- Feeling a bit tight on one GPU? Try using [several GPUs](./MultiGPU.ipynb).\n",
    "- MultiGPUs with Mandelbrot either [MPI](./Mandelbrot_MPI.ipynb) or [OpenMP](Mandelbrot_OpenMP.ipynb)."
   ]
  },
  {
   "cell_type": "markdown",
   "id": "60bfb2ed",
   "metadata": {
    "editable": false
   },
   "source": [
    "### Day 3\n",
    "\n",
    "- The GPU might be able to run several kernels at the same time with a feature called [asynchronism](./Asynchronism.ipynb)\n",
    "- If you need to make sure that only one thread reads/writes a variable at a time then [atomic operations are for you](./Atomic_operations.ipynb)\n",
    "- Are you using C structures or Fortran derived type? Then manual [deep copy](./Deep_copy.ipynb) will interest you.\n",
    "- You can use [CUDA libraries with your OpenACC project](./Using_CUDA.ipynb)\n",
    "- Your code is reusing data frequently, why not trying to improve data locality with a single clause [tiles](./Loop_tiling.ipynb)\n",
    "- Now that you have the principles of GPU programming with OpenACC we can have a look at [OpenMP target](./OpenMP_target.ipynb)\n",
    "- A small Lennard-Jones gas simulator [kleineMole](./Hands_on_LJ.ipynb)"
   ]
  },
  {
   "cell_type": "markdown",
   "id": "80294517",
   "metadata": {
    "editable": false
   },
   "source": [
    "## Notebooks\n",
    "\n",
    "The training course uses [Jupyter notebooks](https://jupyter.org/) as a support.\n",
    "\n",
    "We wrote the content so that you should be able to do the training course alone in the case we do not have time to see everything together."
   ]
  },
  {
   "cell_type": "markdown",
   "id": "66f00a52",
   "metadata": {
    "editable": false
   },
   "source": [
    "The notebooks are divided into several kinds of cells:\n",
    "\n",
    "- Markdown cells: those are the text cells. The ones we have written are protected against edition. If you want to take notes inside the notebook you can create new cells.\n",
    "- Python code cells: A few cells are present with python code inside. You have to execute them to have the intended behavior of subsequent cells\n",
    "- idrrun code cells: The cells in which the exercises/examples/solutions are written. They are editable directly and when you execute it the code inside is compiled and a job is submitted."
   ]
  },
  {
   "cell_type": "markdown",
   "id": "27a7f933",
   "metadata": {
    "editable": false
   },
   "source": [
    "### Note about idrrun cells\n",
    "\n",
    "All idrrun cells with code inside have a comment with the name of the source file associated.\n",
    "You can find all source files inside the folders:\n",
    "\n",
    "- examples/C\n",
    "- examples/Fortran\n",
    "\n",
    "If you do not wish to use the notebooks to edit the exercises, you can always edit the source files directly.\n",
    "Then you will need to proceed manually with the compilation (a makefile is provided) and job submission."
   ]
  },
  {
   "cell_type": "markdown",
   "id": "88add7e7",
   "metadata": {
    "editable": false
   },
   "source": [
    "## Configuration\n",
    "\n",
    "Some configuration might be needed in order to have the best experience possible with the training course.\n",
    "\n",
    "You should have a [README.md](../README.md) file shipped with the content, which explains all files that need to be edited."
   ]
  }
 ],
 "metadata": {
  "kernelspec": {
   "display_name": "GPU Directives",
   "language": "python",
   "name": "gpu_directives"
  }
 },
 "nbformat": 4,
 "nbformat_minor": 5
}
