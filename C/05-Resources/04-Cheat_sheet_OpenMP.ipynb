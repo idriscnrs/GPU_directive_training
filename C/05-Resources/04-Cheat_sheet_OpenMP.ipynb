{
 "cells": [
  {
   "cell_type": "markdown",
   "id": "59204506",
   "metadata": {
    "editable": false
   },
   "source": [
    "# OpenMP Cheat Sheet"
   ]
  },
  {
   "cell_type": "markdown",
   "id": "bd26cffa",
   "metadata": {
    "editable": false
   },
   "source": [
    "## Directive syntax\n",
    "\n",
    "<img alt=\"OpenMP Directive Syntax\" src=\"../../pictures/directive_omp.png\" style=\"float:none\" width=\"30%\"/>\n",
    "\n",
    "If we break it down, we have those elements:\n",
    "\n",
    "- The sentinel is a special instruction for the compiler. It tells him that what follows has to be interpreted as OpenMP directives\n",
    "- The directive is the action to do. In the example, _target_ is the way to open a parallel region that will be offloaded to the GPU\n",
    "- The clauses are \"options\" of the directive. In the example we want to copy some data from the GPU.\n",
    "- The clause arguments give more details for the clause. In the example, we give the name of the variables to be copied"
   ]
  },
  {
   "cell_type": "markdown",
   "id": "1335131e",
   "metadata": {
    "editable": false
   },
   "source": [
    "## Creating kernels\n",
    "\n",
    "The way to open kernels on the GPU is to use the `omp target` directive with directive to create threads."
   ]
  },
  {
   "cell_type": "markdown",
   "id": "da4b7fbb",
   "metadata": {
    "editable": false
   },
   "source": [
    "### Creating threads\n",
    "\n",
    "The threads creation is the job of the developper in OpenMP. The standard defines 3 levels of parallelism:\n",
    "\n",
    "- `omp teams`: Several groups of threads are created but only the master thread is active.\n",
    "- `omp parallel`: The other threads of the team are activated.\n",
    "- `omp simd`: SIMD threads are activated"
   ]
  },
  {
   "cell_type": "markdown",
   "id": "52eab939",
   "metadata": {
    "editable": false
   },
   "source": [
    "### Work Sharing\n",
    "\n",
    "Creating threads is not enough to have the full power of the GPU. You have to share work among threads:\n",
    "\n",
    "- `omp teams distribute`: distribute work among teams\n",
    "- `omp parallel for/do`: distribute work inside a team"
   ]
  },
  {
   "cell_type": "markdown",
   "id": "b9ee07a3",
   "metadata": {
    "editable": false
   },
   "source": [
    "### _omp target_ Clauses\n",
    "\n",
    "| Clause                  | effect                                                                             |\n",
    "|-------------------------|------------------------------------------------------------------------------------|\n",
    "| private(vars, ...)      | Make _vars_ private at _team_ level                                                |\n",
    "| firstprivate(vars, ...) | Make _vars_ private at _team_ level and copy the value vars had on the host before |\n",
    "| device(dev\\_num)        | Set the device on which to run the kernel                                          |\n",
    "\n",
    "Other clauses might be available. Check the specification and the compiler documentation for full list."
   ]
  },
  {
   "cell_type": "markdown",
   "id": "b6f3c374",
   "metadata": {
    "editable": false
   },
   "source": [
    "### _omp teams_ Clauses\n",
    "\n",
    "| Clause                    | effect                                                            |\n",
    "|---------------------------|-------------------------------------------------------------------|\n",
    "| num\\_teams(#teams)        | Set the number of teams for the target region                     |\n",
    "| thread\\_limit(#threads)  | Set the maximum number of threads inside a team                   |\n",
    "| private(vars, ...)      | Make _vars_ private at _team_ level                                                |\n",
    "| firstprivate(vars, ...) | Make _vars_ private at _team_ level and copy the value vars had on the host before |\n",
    "| reduction(op:vars, ...)   | Perform a reduction of the variables _vars_ with operation _op_   |\n",
    "\n",
    "Other clauses might be available. Check the specification and the compiler documentation for full list."
   ]
  },
  {
   "cell_type": "markdown",
   "id": "6420fa98",
   "metadata": {
    "editable": false
   },
   "source": [
    "### _omp parallel_ Clauses\n",
    "\n",
    "| Clause            | effect                                        |\n",
    "|-------------------|-----------------------------------------------|\n",
    "| private(vars, ...)      | Make _vars_ private at _parallel_ level                                                |\n",
    "| firstprivate(vars, ...) | Make _vars_ private at _parallel_ level and copy the value vars had on the host before |\n",
    "| reduction(op:vars, ...)   | Perform a reduction of the variables _vars_ with operation _op_   |\n",
    "\n",
    "Other clauses might be available. Check the specification and the compiler documentation for full list."
   ]
  },
  {
   "cell_type": "markdown",
   "id": "2d93a559",
   "metadata": {
    "editable": false
   },
   "source": [
    "### _omp simd_ Clauses\n",
    "\n",
    "| Clause                    | effect                                                            |\n",
    "|---------------------------|-------------------------------------------------------------------|\n",
    "| private(vars, ...)      | Make _vars_ private at _simd_ level                                                |\n",
    "| firstprivate(vars, ...) | Make _vars_ private at _simd_ level and copy the value vars had on the host before |\n",
    "| reduction(op:vars, ...)   | Perform a reduction of the variables _vars_ with operation _op_   |\n",
    "| simdlen(vector\\_size)   | Set the length of the vector |\n",
    "\n",
    "Other clauses might be available. Check the specification and the compiler documentation for full list."
   ]
  },
  {
   "cell_type": "markdown",
   "id": "be53654e",
   "metadata": {
    "editable": false
   },
   "source": [
    "## Combined constructs for loops\n",
    "\n",
    "It is possible to combine the"
   ]
  },
  {
   "cell_type": "markdown",
   "id": "6faf5db1",
   "metadata": {
    "editable": false
   },
   "source": [
    "## Managing data"
   ]
  },
  {
   "cell_type": "markdown",
   "id": "1bf622cc",
   "metadata": {
    "editable": false
   },
   "source": [
    "### Data regions\n",
    "\n",
    "| Region           | Directive                                        |\n",
    "|------------------|--------------------------------------------------|\n",
    "| Program lifetime | `omp target enter data` & `omp target exit data` |\n",
    "| Structured       | `omp target data`                                |\n",
    "| Kernels          | `omp target map(...)`                            |"
   ]
  },
  {
   "cell_type": "markdown",
   "id": "8aef9884",
   "metadata": {
    "editable": false
   },
   "source": [
    "### Data clauses\n",
    "\n",
    "To choose the right data clause you need to answer the following questions:\n",
    "\n",
    "- Does the kernel need the values computed on the host (CPU) beforehand? (Before)\n",
    "- Are the values computed inside the kernel needed on the host (CPU) afterhand? (After)\n",
    "\n",
    "|                    | Needed after          | Not needed after     |\n",
    "|--------------------|-----------------------|----------------------|\n",
    "| Needed Before      | map(tofrom:var1, ...) | map(to:var2, ...)    |\n",
    "| Not needed before  | map(from:var3, ...)   | map(alloc:var4, ...) |\n",
    "\n",
    "<img alt=\"Data clauses in OpenMP\" src=\"../../pictures/data_clauses_omp.png\" style=\"float:none\" width=\"45%\"/>"
   ]
  },
  {
   "cell_type": "markdown",
   "id": "8a92dfba",
   "metadata": {
    "editable": false
   },
   "source": [
    "### Updating data already present on the GPU\n",
    "\n",
    "It is not possible to update data present on the GPU with the data clauses on a data region.\n",
    "To do so you need to use `omp target update`"
   ]
  },
  {
   "cell_type": "markdown",
   "id": "61a9e0b3",
   "metadata": {
    "editable": false
   },
   "source": [
    "#### `omp target update` Clauses\n",
    "\n",
    "- To update CPU with data computed on GPU: `omp target update from(data, ...)`\n",
    "- To update GPU with data computer on CPU: `omp target update to(data, ...)`"
   ]
  },
  {
   "cell_type": "markdown",
   "id": "56fc990f",
   "metadata": {
    "editable": false
   },
   "source": [
    "## GPU routines\n",
    "\n",
    "A routine called from a kernel needs to be inside a `declare target` region.\n",
    "```c\n",
    "#pragma omp declare target\n",
    "void my_funtion(void)\n",
    "{\n",
    "        ...\n",
    "}\n",
    "#pragma omp end declare target\n",
    "```"
   ]
  },
  {
   "cell_type": "markdown",
   "id": "4969ddc8",
   "metadata": {
    "editable": false
   },
   "source": [
    "## Using data on the GPU with GPU aware libraries\n",
    "\n",
    "To get a pointer to the device memory for a variable you have to use:\n",
    "\n",
    "- `omp data use_device_ptr(var, ...)` for pointers\n",
    "- `omp data use_device_addr(var, ...)` for allocatables"
   ]
  }
 ],
 "metadata": {
  "kernelspec": {
   "display_name": "GPU Directives",
   "language": "python",
   "name": "gpu_directives"
  }
 },
 "nbformat": 4,
 "nbformat_minor": 5
}
