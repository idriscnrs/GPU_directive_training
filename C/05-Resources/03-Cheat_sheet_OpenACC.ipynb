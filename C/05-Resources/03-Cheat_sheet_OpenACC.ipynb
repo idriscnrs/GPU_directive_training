{
 "cells": [
  {
   "cell_type": "markdown",
   "id": "ca23b3c7",
   "metadata": {
    "editable": false
   },
   "source": [
    "# The most important directives and clauses"
   ]
  },
  {
   "cell_type": "markdown",
   "id": "4ac7e7c5",
   "metadata": {
    "editable": false
   },
   "source": [
    "## Directive syntax\n",
    "\n",
    "<img alt=\"OpenACC directive\" src=\"../../pictures/directive_acc.png\" style=\"float:none\" width=\"30%\"/>\n",
    "\n",
    "If we break it down, we have those elements:\n",
    "\n",
    "- The sentinel is a special instruction for the compiler. It tells him that what follows has to be interpreted as OpenACC directives\n",
    "- The directive is the action to do. In the example, _parallel_ is the way to open a parallel region that will be offloaded to the GPU\n",
    "- The clauses are \"options\" of the directive. In the example we want to copy some data on the GPU.\n",
    "- The clause arguments give more details for the clause. In the example, we give the name of the variables to be copied"
   ]
  },
  {
   "cell_type": "markdown",
   "id": "e8a6507a",
   "metadata": {
    "editable": false
   },
   "source": [
    "## Creating kernels: Compute constructs\n",
    "\n",
    "<!--| Language |      Sentinel |                               Directive | Action                                                         |\n",
    "|----------|---------------|-----------------------------------------|----------------------------------------------------------------|\n",
    "|    C/C++ | `#pragma acc` | `parallel` <br/> `kernels`<br/> `serial`| Create one kernels for the enclosed source code. Developer has full control. <br/> Create one kernel for each loop nest. Compiler has control <br/> Run sequentially the enclosed source code.|\n",
    "|  Fortran | `!$acc`       | `parallel` <br/> `kernels`<br/> `serial`| Create one kernels for the enclosed source code. Developer has full control. <br/> Create one kernel for each loop nest. Compiler has control <br/> Run sequentially the enclosed source code.|\n",
    "-->\n",
    "| Directive | Number of kernels created | Who's in charge? | Comment |\n",
    "|-----------|---------------------------|------------------|---------|\n",
    "| [`acc parallel`](./Get_started.ipynb) | One for the enclosed region | The developer!| |\n",
    "| [`acc kernels`](./Compute_constructs.ipynb)      | One for each loop nest in the enclosed region | The compiler | |\n",
    "| [`acc serial`](./Compute_constructs.ipynb)        | One for the enclosed region | The developer | Only one thread is used. It is mainly for debug purpose |"
   ]
  },
  {
   "cell_type": "markdown",
   "id": "9de2217a",
   "metadata": {
    "editable": false
   },
   "source": [
    "### Clauses\n",
    "\n",
    "| Clause                                       | Available for                   | Effect                                                                                                                |\n",
    "|----------------------------------------------|---------------------------------|-----------------------------------------------------------------------------------------------------------------------|\n",
    "| num\\_gangs(#gangs)                           | `parallel`, `kernels`           | Set the **number of gangs** used by the kernel(s)                                                                     |\n",
    "| num\\_workers(#workers)                       | `parallel`, `kernels`           | Set the **number of workers** used by the kernel(s)                                                                   |\n",
    "| vector\\_length(#length)                      | `parallel`, `kernels`           | Set the number of threads in a worker                                                                                 |\n",
    "| reduction(op:vars, ...)                      | `parallel`, `kernels`, `serial` | Perform a reduction of _op_ kind on _vars_                                                                            |\n",
    "| private(vars, ...)                           | `parallel`, `serial`            | Make _vars_ private at _gang_ level                                                                                   |\n",
    "| firstprivate(vars, ...)                      | `parallel`, `serial`            | Make _vars_ private at _gang_ level and initialize the copies with the value that variable originally has on the host |"
   ]
  },
  {
   "cell_type": "markdown",
   "id": "4babe7bb",
   "metadata": {
    "editable": false
   },
   "source": [
    "## Managing data"
   ]
  },
  {
   "cell_type": "markdown",
   "id": "e62526d0",
   "metadata": {
    "editable": false
   },
   "source": [
    "### Data regions\n",
    "\n",
    "| Region              | Directive                                                                  |\n",
    "|---------------------|----------------------------------------------------------------------------|\n",
    "| Program lifetime    | [`acc enter data` & `acc exit data`](./Data_management.ipynb) |\n",
    "| Function/Subroutine | [`acc declare`](./Data_management.ipynb)                                 |\n",
    "| Structured          | [`acc data`](./Data_management.ipynb)                                      |\n",
    "| Kernels             | Compute constructs directives                                              |"
   ]
  },
  {
   "cell_type": "markdown",
   "id": "a56b4fad",
   "metadata": {
    "editable": false
   },
   "source": [
    "### Data clauses\n",
    "\n",
    "To choose the right data clause you need to answer the following questions:\n",
    "\n",
    "- Does the kernel need the values computed on the host (CPU) beforehand? (Before)\n",
    "- Are the values computed inside the kernel needed on the host (CPU) afterhand? (After)\n",
    "\n",
    "|                  | Needed after        | Not needed after  |\n",
    "|------------------|---------------------|-------------------|\n",
    "|Needed Before     |  copy(var1, ...)    | copyin(var2, ...) |\n",
    "|Not needed before |  copyout(var3, ...) | create(var4, ...) |"
   ]
  },
  {
   "cell_type": "markdown",
   "id": "afa2e3cf",
   "metadata": {
    "editable": false
   },
   "source": [
    "#### Effects\n",
    "\n",
    "| clause      | effect when entering the region                                                                                      | effect when leaving the region                                                                  |\n",
    "|-------------|----------------------------------------------------------------------------------------------------------------------|-------------------------------------------------------------------------------------------------|\n",
    "| create      | **If not already present on the GPU**: allocate the memory needed on the GPU                                         | **If not in another active data region**: free the memory on the GPU                            |\n",
    "| copyin      | **If not already present on the GPU**: allocate the memory and initialize the variable with the values it has on CPU | **If not in another active data region**: free the memory                                       |\n",
    "| copyout     | **If not already present on the GPU**: allocate the memory needed on the GPU                                         | **If not in another active data region**: copy the values from the GPU to the CPU then free the memory from the GPU |\n",
    "| copy        | **If not already present on the GPU**: allocate the memory and initialize the variable with the values it has on CPU | **If not in another active data region**: copy the value                                        |\n",
    "| present     | Check if data is present: an error is raised if it is not the case                                                   | None                                                                                            |\n",
    "\n",
    "<img alt=\"Data clauses\" src=\"../../pictures/data_clauses.png\" style=\"float:none\" width=\"30%\"/>"
   ]
  },
  {
   "cell_type": "markdown",
   "id": "0e9b452e",
   "metadata": {
    "editable": false
   },
   "source": [
    "### Updating data\n",
    "\n",
    "| What to update   | Directive                   |\n",
    "|------------------|-----------------------------|\n",
    "| The host (CPU)   | `acc update self(vars, ...) |\n",
    "| The device (GPU) | `acc update device(vars)    |"
   ]
  },
  {
   "cell_type": "markdown",
   "id": "d57e9bea",
   "metadata": {
    "editable": false
   },
   "source": [
    "## Managing loops"
   ]
  },
  {
   "cell_type": "markdown",
   "id": "2c61e1e4",
   "metadata": {
    "editable": false
   },
   "source": [
    "### Combined constructs\n",
    "\n",
    "The `acc loop` directive can be combined with the compute construct directives if there is only one loop nest in the parallel region:\n",
    "\n",
    "- `acc parallel loop <union of clauses>`\n",
    "- `acc kernels loop <union of clauses>`\n",
    "- `acc serial loop <union of clauses>`"
   ]
  },
  {
   "cell_type": "markdown",
   "id": "98aaa164",
   "metadata": {
    "editable": false
   },
   "source": [
    "### Loop clauses\n",
    "\n",
    "Here are some clauses for the [`acc loop`](./Loop_configuration.ipynb) directive:\n",
    "\n",
    "| Clause                                       | Effect                                                              |\n",
    "|----------------------------------------------|---------------------------------------------------------------------|\n",
    "| [gang](./Loop_configuration.ipynb)           | The loop activates work distribution over gangs                      |\n",
    "| [worker](./Loop_configuration.ipynb)         | The loop activates work distribution over workers                    |\n",
    "| [vector](./Loop_configuration.ipynb)         | The loop activates work distribution over the threads of the workers |\n",
    "| [seq](./Loop_configuration.ipynb)            | The loop is run sequentially                                        |\n",
    "| [auto](./Loop_configuration.ipynb)           | Let the compiler decide what to do (default)                        |\n",
    "| [independent](./Compute_constructs.ipynb)               | For `acc kernels`: tell the compiler the loop iterations are independent |\n",
    "| [collapse(n)](./Compute_constructs.ipynb)               | The _n_ tightly nested loop are fused in one iteration space        |\n",
    "| [reduction(op:vars, ...)](./Get_started.ipynb) | Perform a reduction of _op_ kind on _vars_                          |\n",
    "| [tile(sizes ...)](./Loop_tiling.ipynb)       | Create tiles in the iteration space                                 |"
   ]
  },
  {
   "cell_type": "markdown",
   "id": "2682067f",
   "metadata": {
    "editable": false
   },
   "source": [
    "## GPU routines\n",
    "\n",
    "You can write a device routine with the [`acc routine <max level>`](./Routines.ipynb) directive:\n",
    "**max_level** is the maximum parallelism level inside the routine including the function calls inside.\n",
    "It can be _gang_, _worker_, _vector_."
   ]
  },
  {
   "cell_type": "markdown",
   "id": "8d0577f4",
   "metadata": {
    "editable": false
   },
   "source": [
    "## Asynchronous behavior\n",
    "\n",
    "You can run several streams at the same time on the device using [_async(queue)_ and _wait_ clauses or `acc wait` directive](./Asynchronism.ipynb).\n",
    "\n",
    "| Directive          | _async(queue)_ | _wait(queues,...)_ |\n",
    "|--------------------|----------------|--------------------|\n",
    "| `acc parallel`     | X              | X                  |\n",
    "| `acc kernels`      | X              | X                  |\n",
    "| `acc serial`       | X              | X                  |\n",
    "| `acc enter data`   | X              | X                  |\n",
    "| `acc exit data`    | X              | X                  |\n",
    "| `acc wait`         | X              |                    |\n",
    "\n",
    "For the _async_ clause, _queue_ is an integer specifying the stream on which you enqueue the directive.\n",
    "If omitted a default stream is used."
   ]
  },
  {
   "cell_type": "markdown",
   "id": "35cda834",
   "metadata": {
    "editable": false
   },
   "source": [
    "## Using data on the GPU with GPU aware libraries\n",
    "\n",
    "To get a pointer to the device memory for a variable you have to use [`acc host_data use_device(data)`](./MultiGPU.ipynb).\n",
    "Useful for:\n",
    "\n",
    "- Using GPU libraries (ex. CUDA)\n",
    "- MPI CUDA-Aware to avoid spurious data transfers"
   ]
  },
  {
   "cell_type": "markdown",
   "id": "d52b743a",
   "metadata": {
    "editable": false
   },
   "source": [
    "## Atomic construct\n",
    "\n",
    "To make sure that only one thread performs a read/write on a variable you have to use the [`acc atomic <operation>`](./Atomic_operations.ipynb) directive.\n",
    "\n",
    "_operation_ is one of the following:\n",
    "\n",
    "- read\n",
    "- write\n",
    "- update (read + write)\n",
    "- capture (update + saving to another variable)"
   ]
  }
 ],
 "metadata": {
  "kernelspec": {
   "display_name": "GPU Directives",
   "language": "python",
   "name": "gpu_directives"
  }
 },
 "nbformat": 4,
 "nbformat_minor": 5
}
