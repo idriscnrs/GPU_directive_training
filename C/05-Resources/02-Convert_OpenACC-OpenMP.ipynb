{
 "cells": [
  {
   "cell_type": "markdown",
   "id": "4ecd5039",
   "metadata": {
    "editable": false
   },
   "source": [
    "# Intel OpenACC to OpenMP target converter\n",
    "\n",
    "Intel proposes a tool to convert your OpenACC code into OpenMP target code. This tool is available on [github](https://github.com/intel/intel-application-migration-tool-for-openacc-to-openmp.git).\n",
    "\n",
    "Here is the output of the help at date 2024-06-19 base on master branch commit (cad10f2f2e0fbf28e38351c4d71da5b7571f6d02):\n",
    "\n",
    "```{verbatim}\n",
    "Intel(r) Application Migration Tool for OpenACC* to OpenMP*\n",
    "---\n",
    "Expected parameters: <Options> file\n",
    "\n",
    "Where options:\n",
    " -h // -help                  : Shows this help screen\n",
    " -async=<ignore,nowait>       : Specifies how to treat ACC ASYNC clauses.                                 (nowait)\n",
    "                                - ignore refers to not translate the ASYNC clauses.\n",
    "                                - nowait translates ACC ASYNC clauses into nowait.\n",
    " [-no]-declare-mapper         : Declares mappers for user-defined data-types (Fortran only)               (enabled)\n",
    " -fixed|-free                 : Sets fixed-format or free-format for Fortran translation                  (auto)\n",
    " -specify-language=L          : Forces the parsing of the file for language                               (auto)\n",
    "                                (auto, C, C++, Fortran/Free or Fortran/Fixed) \n",
    " [-no]-force-backup           : If enabled, enforce writing a backup of the original file.                (disabled)\n",
    " [-no]-generate-report        : Enables/Disables report generation about the translation.                 (enabled)\n",
    " [-no]-generate-multidimensional-alternate-code :                                                         (enabled)\n",
    "                                Provides implementation suggestions for ACC ENTER/EXIT DATA constructs to be employed \n",
    "                                if the multi-dimensional data is non-contiguous\n",
    " -host_data=<target_data,target_update> : Specifies how to convert HOST_DATA clauses                      (target_update)\n",
    "                                - target_data employs !$omp target data\n",
    "                                - target_update employs !$omp target update, using host memory.\n",
    " -keep-binding-clauses=X      : Specifies which hardware binding clauses are kept in OpenMP               (none)\n",
    "                                Where X can be: all, none, and a combination of gang, worker and vector\n",
    " [-no]-overwrite-input        : Enables/Disables overwriting the original file with the translation.      (disabled)\n",
    " -present=<alloc,tofrom,keep> : Specifies how to treat ACC PRESENT constructs.                            (keep)\n",
    "                                - alloc refers to mimic PRESENT clauses with MAP(ALLOC:)\n",
    "                                - tofrom refers to mimic PRESENT clauses with MAP(TOFROM:)\n",
    "                                - keep refers to use OMP PRESENT clauses (requires OpenMP 5.1+ compiler).\n",
    " [-no]-suppress-openacc       : Enables/Disables suppression of OpenACC translated statements in result.  (disabled)\n",
    "\n",
    "* PREPROCESSING GUARDS\n",
    " [-no]-openacc-conditional-define           : If enabled, wraps OpenACC source code with #ifdef OPENACC2OPENMP_OPENACC.              (disabled)\n",
    " -openacc-conditional-define=DEF            : If enabled, wraps OpenACC source code with #ifdef DEF.\n",
    " [-no]-translated-openmp-conditional-define : If enabled, wraps OpenMP translated code with #ifdef OPENACC2OPENMP_TRANSLATED_OPENMP. (disabled)\n",
    " -translated-openmp-conditional-define=DEF  : If enabled, wraps OpenMP translated code with #ifdef DEF.\n",
    " [-no]-original-openmp-conditional-define   : If enabled, wraps OpenMP source code with #ifdef OPENACC2OPENMP_ORIGINAL_OPENMP.       (enabled)\n",
    " -original-openmp-conditional-define=DEF    : If enabled, wraps OpenMP source code with #ifdef DEF.\n",
    "\n",
    "* EXPERIMENTAL FEATURES\n",
    " [-no]-experimental-kernels-support :                                                                     (disabled)\n",
    "                                When enabled, the tool tries to extract parallelism from loop constructs found\n",
    "                                within kernels constructs (Fortran only).\n",
    "                                NOTE: Explore the code for target/end target empty bubbles.\n",
    " [-no]-experimental-remove-kernels-bubbles:                                                               (disabled)\n",
    "                                When enabled, the tool attempts to remove the target/end target empty bubbles\n",
    "                                introduced by -[no-]experimental-kernels-support.\n",
    "```"
   ]
  },
  {
   "cell_type": "markdown",
   "id": "874d1891",
   "metadata": {
    "editable": false
   },
   "source": [
    "## Usage example\n",
    "\n",
    "```bash\n",
    "intel-application-migration-tool-for-openacc-to-openmp -async=nowait\\\n",
    "           -specify-language=C\\\n",
    "           -generate-report\\\n",
    "           -host-data=target_update\\\n",
    "           -nooverwrite-input\\\n",
    "           -present=keep file.c\n",
    "```\n",
    "\n",
    "This will generate 3 files:\n",
    "\n",
    "- file.c.report : This contains the report of the conversion process.\n",
    "- file.c.translated : This is the converted OpenMP code.\n",
    "- file.c.original : This is the original OpenACC code. (copy of file.c)"
   ]
  },
  {
   "cell_type": "markdown",
   "id": "a9ed6b31",
   "metadata": {
    "editable": false
   },
   "source": [
    "## Tests on the examples of this training course\n",
    "\n",
    "The tool has been tested with the examples from the this training course.\n",
    "You can find these in the `examples/<language>/openmp_converted` directory."
   ]
  }
 ],
 "metadata": {
  "kernelspec": {
   "display_name": "GPU Directives",
   "language": "python",
   "name": "gpu_directives"
  },
  "siblings_only": true
 },
 "nbformat": 4,
 "nbformat_minor": 5
}
