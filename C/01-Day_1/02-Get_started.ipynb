{
 "cells": [
  {
   "cell_type": "markdown",
   "id": "a5f05426",
   "metadata": {
    "editable": false
   },
   "source": [
    "# Get started with OpenACC\n",
    "\n",
    "What will you learn here?\n",
    "\n",
    "1. Open a parallel region with `#pragma acc parallel`\n",
    "2. Activate loop parallelism with `#pragma acc loop`\n",
    "3. Open a structured data region with `#pragma acc data`\n",
    "4. Compile a code with OpenACC support"
   ]
  },
  {
   "cell_type": "markdown",
   "id": "fd55837e",
   "metadata": {
    "editable": false
   },
   "source": [
    "## OpenACC directives\n",
    "\n",
    "If you have a CPU code and you want to get some parts on the GPU, you can add OpenACC directives to it.\n",
    "\n",
    "A directive has the following structure:\n",
    "\n",
    "<img alt=\"OpenACC directive\" src=\"../../pictures/directive_acc.png\" style=\"float:none\" width=\"30%\"/>\n",
    "\n",
    "If we break it down, we have these elements:\n",
    "\n",
    "- The sentinel is special instruction for the compiler. It tells it that what follows has to be interpreted as OpenACC\n",
    "- The directive is the action to do. In the example, _parallel_ is the way to open a parallel region that will be offloaded to the GPU\n",
    "- The clauses are \"options\" of the directive. In the example we want to copy some data on the GPU.\n",
    "- The clause arguments give more details for the clause. In the example, we give the name of the variables to be copied"
   ]
  },
  {
   "cell_type": "markdown",
   "id": "b8d4583a",
   "metadata": {
    "editable": false
   },
   "source": [
    "Some directives need to be opened just before a code block.\n",
    "```c\n",
    "#pragma acc parallel\n",
    "{\n",
    "    // code block opened with '{' and closed by '}'\n",
    "}\n",
    "```"
   ]
  },
  {
   "cell_type": "markdown",
   "id": "8ae4a376",
   "metadata": {
    "editable": false
   },
   "source": [
    "### A short example\n",
    "\n",
    "With this example you can get familiar with how to run code cells during this session.\n",
    "`%%idrrun` has to be present at the top of a code cell to compile and execute the code written inside the cell.\n",
    "\n",
    "The content has to be a valid piece of code otherwise you will get errors.\n",
    "In C, if you want to run the code, you need to define the `main` function:\n",
    "```c\n",
    "int main(void)\n",
    "{\n",
    "//\n",
    "}\n",
    "```\n",
    "\n",
    "or:\n",
    "```c\n",
    "int main(int argc, char** argv)\n",
    "{\n",
    "//\n",
    "}\n",
    "```"
   ]
  },
  {
   "cell_type": "markdown",
   "id": "f8d32542",
   "metadata": {
    "editable": false
   },
   "source": [
    "The example initializes an array of integers.\n",
    "\n",
    "Example stored in: `../../examples/C/Get_started_init_array_exercise.c`"
   ]
  },
  {
   "cell_type": "code",
   "execution_count": null,
   "id": "4073cc90",
   "metadata": {},
   "outputs": [],
   "source": [
    "%%idrrun\n",
    "#include <stdio.h>\n",
    "int main(void)\n",
    "{\n",
    "    int size = 100000;\n",
    "    int array[size];\n",
    "    for (int i=0; i<size; ++i)\n",
    "        array[i] = 2 * i;\n",
    "    printf(\"%d\", array[21]);\n",
    "}\n"
   ]
  },
  {
   "cell_type": "markdown",
   "id": "ef2e51b4",
   "metadata": {
    "editable": false
   },
   "source": [
    "Now we add the support of OpenACC with `-a` option of idrrun.\n",
    "\n",
    "To offload the computation on the GPU you have to open a parallel region with the directive `acc parallel` and define a code block which is affected.\n",
    "\n",
    "Modify the cell below to perform this action. No clause are needed here.\n",
    "\n",
    "Example stored in: `../../examples/C/Get_started_init_array_exercise_acc.c`"
   ]
  },
  {
   "cell_type": "code",
   "execution_count": null,
   "id": "e8cd089d",
   "metadata": {},
   "outputs": [],
   "source": [
    "%%idrrun -a\n",
    "#include <stdio.h>\n",
    "int main(void)\n",
    "{\n",
    "    int size = 100000;\n",
    "    int array[size];\n",
    "    // Modifications from here\n",
    "    for (int i=0; i<size; ++i)\n",
    "        array[i] = 2 * i;\n",
    "    printf(\"%d\", array[12]);\n",
    "}\n"
   ]
  },
  {
   "cell_type": "markdown",
   "id": "845fe305",
   "metadata": {
    "editable": false
   },
   "source": [
    "### Solution\n",
    "\n",
    "Example stored in: `../../examples/C/Get_started_init_array_solution_acc.c`"
   ]
  },
  {
   "cell_type": "code",
   "execution_count": null,
   "id": "2a6df372",
   "metadata": {
    "jupyter": {
     "source_hidden": true
    }
   },
   "outputs": [],
   "source": [
    "%%idrrun -a\n",
    "#include <stdio.h>\n",
    "int main(void)\n",
    "{\n",
    "    int size = 100000;\n",
    "    int array[size];\n",
    "    #pragma acc parallel\n",
    "    {\n",
    "    for (int i=0; i<size; ++i)\n",
    "        array[i] = 2 * i;\n",
    "    }\n",
    "    printf(\"%d\", array[12]);\n",
    "}"
   ]
  },
  {
   "cell_type": "markdown",
   "id": "11b7d5b9",
   "metadata": {},
   "source": [
    "We can have a look at a different behavior when the compiler is doing implicit stuff:\n",
    "\n",
    "Example stored in: `../../examples/C/Get_started_init_array_solution_acc_2.c`"
   ]
  },
  {
   "cell_type": "code",
   "execution_count": null,
   "id": "7e05b4c7",
   "metadata": {
    "jupyter": {
     "source_hidden": true
    }
   },
   "outputs": [],
   "source": [
    "%%idrrun -a\n",
    "#include <stdio.h>\n",
    "int main(void)\n",
    "{\n",
    "    int size = 100000;\n",
    "    int array[size];\n",
    "    #pragma acc parallel\n",
    "    {\n",
    "    #pragma acc loop\n",
    "    for (int i=0; i<size; ++i)\n",
    "        array[i] = 2 * i;\n",
    "    }\n",
    "    printf(\"%d\", array[12]);\n",
    "}"
   ]
  },
  {
   "cell_type": "markdown",
   "id": "22c37205",
   "metadata": {
    "editable": false
   },
   "source": [
    "### Let's analyze what happened\n",
    "\n",
    "The following steps are printed:\n",
    "\n",
    "1. the compiler command to generate the executable\n",
    "2. the output of the command (displayed on red background)\n",
    "3. the command line to execute the code\n",
    "4. the output/error of the execution\n",
    "\n",
    "We activated the verbose mode for the NVIDIA compilers for information about optimizations and OpenACC (compiler option -Minfo=all) and __strongly recommend that you do the same in your developments__.\n",
    "\n",
    "The compiler found in the `main` function a __kernel__ (this is the name of code blocks offloaded to the GPU) and was able to generate code for GPU.\n",
    "The line refers to the directive `acc parallel` included in the code."
   ]
  },
  {
   "cell_type": "markdown",
   "id": "ee2d56ab",
   "metadata": {
    "editable": false
   },
   "source": [
    "By default NVIDIA compilers (formerly PGI) make an analysis of the parallel region and try to find:\n",
    "\n",
    "- loops that can be parallelized\n",
    "- data transfers needed\n",
    "- operations like reductions\n",
    "- etc\n",
    "\n",
    "It might result in unexpected behavior since we did not write explicitly the directives to perform those actions.\n",
    "Nevertheless, we decided to keep this feature on during the session since it is the default.\n",
    "This is the reason you can see that a directive `acc loop` (used to activate loop parallelism on the GPU) was added implicitly to our code and a data transfer with `copyout`."
   ]
  },
  {
   "cell_type": "markdown",
   "id": "51ad0613",
   "metadata": {
    "editable": false
   },
   "source": [
    "## Loops parallelism\n",
    "\n",
    "Most of the parallelism in OpenACC (hence performance) comes from the loops in your code and especially from loops with __independent iterations__.\n",
    "Iterations are independent when the results do not depend on the order in which the iterations are done.\n",
    "Some differences due to non-associativity of operations in limited precision are usually OK.\n",
    "You just have to be aware of that problem and decide if it is critical.\n",
    "\n",
    "Another condition is that the runtime needs to know the number of iterations.\n",
    "So keep incrementing integers!"
   ]
  },
  {
   "cell_type": "markdown",
   "id": "e1eb2436",
   "metadata": {
    "editable": false
   },
   "source": [
    "### Directive\n",
    "\n",
    "The directive to parallelize loops is:\n",
    "```c\n",
    "#pragma acc loop\n",
    "```"
   ]
  },
  {
   "cell_type": "markdown",
   "id": "4f9a61fa",
   "metadata": {
    "editable": false
   },
   "source": [
    "### Non independent loops\n",
    "\n",
    "Here are some cases where the iterations are not independent:\n",
    "\n",
    "- Infinite loops\n",
    "```c\n",
    "while(error > tolerance)\n",
    "{\n",
    "    //compute error\n",
    "}\n",
    "```"
   ]
  },
  {
   "cell_type": "markdown",
   "id": "758d263f",
   "metadata": {
    "editable": false
   },
   "source": [
    "- Current iteration reads values computed by previous iterations\n",
    "```c\n",
    "array[0] = 0;\n",
    "array[1] = 1;\n",
    "for (int i = 2; i<size; ++i)\n",
    "    array[i] = array[i-1]+array[i-2];\n",
    "```"
   ]
  },
  {
   "cell_type": "markdown",
   "id": "2c1114c0",
   "metadata": {
    "editable": false
   },
   "source": [
    "- Current iteration reads values that will be changed by subsequent iterations\n",
    "```c\n",
    "for (int i=0; i< size-1; ++i)\n",
    "    array[i] = array[i+1] + 1\n",
    "```"
   ]
  },
  {
   "cell_type": "markdown",
   "id": "a094bba2",
   "metadata": {
    "editable": false
   },
   "source": [
    "- Current iteration writes values that will be read by subsequent iterations\n",
    "```c\n",
    "for (int i = 0; i<size-1; ++i)\n",
    "{\n",
    "    array[i]++;\n",
    "    array[i+1] = array[i]+2;\n",
    "}\n",
    "```"
   ]
  },
  {
   "cell_type": "markdown",
   "id": "13477521",
   "metadata": {
    "editable": false
   },
   "source": [
    "These kind of loops can be offloaded to the GPU but might not give correct results if not run in sequential mode.\n",
    "You can try to modify the algorithm to transform them into independent loop:\n",
    "\n",
    "- Use temporary arrays\n",
    "- Modify the order of the iterations\n",
    "- etc"
   ]
  },
  {
   "cell_type": "markdown",
   "id": "c0e2acfd",
   "metadata": {
    "editable": false
   },
   "source": [
    "## Managing data in compute regions\n",
    "\n",
    "During the porting of your code the data on which you work in the _compute regions_ might have to go back and forth between the host and the GPU.\n",
    "This is important to minimize the number of data transfers because of the cost of these operations.\n",
    "\n",
    "For each _compute region_ (i.e. `acc parallel` directive or _kernel_) a _data region_ is created.\n",
    "OpenACC gives you several clauses to manage efficiently the transfers.\n",
    "\n",
    "```c\n",
    "#pragma acc parallel copy(var1[first_index:num_elements]) copyin(var2[first_index_i:num_elements_i][first_index_j:num_elements_j], var3) copyout(var4, var5)\n",
    "```\n",
    "\n",
    "| clause      | effect when entering the region                                               | effect when leaving the region                                          |\n",
    "|-------------|-------------------------------------------------------------------------------|-------------------------------------------------------------------------|\n",
    "| create      | Allocate the memory needed on the GPU                                         | Free the memory on the GPU                                              |\n",
    "| copyin      | Allocate the memory and initialize the variable with the values it has on CPU | Free the memory on the GPU                                              |\n",
    "| copyout     | Allocate the memory needed on the GPU                                         | Copy the values from the GPU to the CPU then free the memory on the GPU |\n",
    "| copy        | Allocate the memory and initialize the variable with the values it has on CPU | Copy the values from the GPU to the CPU then free the memory on the GPU |\n",
    "| present     | Check if data is present: an error is raised if it is not the case            | None                                                                    |\n",
    "\n",
    "<img alt=\"Data clauses\" src=\"../../pictures/data_clauses.png\" style=\"float:none\" width=\"30%\"/>\n",
    "\n",
    "To choose the right data clause you need to answer the following questions:\n",
    "\n",
    "- Does the kernel need the values computed on the host beforehand? (Before)\n",
    "- Are the values computed inside the kernel needed on the host afterhand? (After)\n",
    "\n",
    "|                  | Needed after        | Not needed after  |\n",
    "|------------------|---------------------|-------------------|\n",
    "|Needed Before     |  copy(var1, ...)    | copyin(var2, ...) |\n",
    "|Not needed before |  copyout(var3, ...) | create(var4, ...) |\n",
    "\n",
    "Usually it is not mandatory to specify the clauses.\n",
    "The compiler will analyze your code to guess what the best solution and will tell you that one operation was done implicitely.\n",
    "As a good pratice, we recommend to make all implicit operations explicit."
   ]
  },
  {
   "cell_type": "markdown",
   "id": "c5f53ad2",
   "metadata": {
    "editable": false
   },
   "source": [
    "## Exercise: Gaussian blurring filter\n",
    "\n",
    "In this exercise, we read a picture, load it on the GPU and then we apply a blur filter. For each pixel, the value is computed as the weighted sum of the 24 neighbors and itself with the stencil shown below:\n",
    "\n",
    "The original picture is stored in the pictures directory. We have to convert it to RAW before loading it."
   ]
  },
  {
   "cell_type": "code",
   "execution_count": null,
   "id": "1cf6bb5f",
   "metadata": {},
   "outputs": [],
   "source": [
    "import os\n",
    "picture = os.path.join(\"..\", \"..\", \"pictures\", \"midris.jpg\")\n",
    "from idrcomp import convert_jpg_to_raw\n",
    "convert_jpg_to_raw(picture, \"pic.rgb\")"
   ]
  },
  {
   "cell_type": "markdown",
   "id": "21953ea9",
   "metadata": {},
   "source": [
    "<img alt=\"Stencil for Gaussian Blur\" src=\"../../pictures/stencil_tp_blur.png\" style=\"float:none\"/>\n",
    "\n",
    "Note: In Fortran the weights are adjusted because we do not have unsigned integers.\n",
    "\n",
    "Your job is to offload the blur function.\n",
    "Make sure that you use the correct data clauses for \"pic\" and \"blurred\" variables.\n",
    "\n",
    "The original picture is 2232x4000 pixels.\n",
    "We need 1 value for each RGB channel it means that the actual size of the matrix is 4000x12000 (3x4000).\n",
    "\n",
    "Example stored in: `../../examples/C/blur_simple_exercise.c`"
   ]
  },
  {
   "cell_type": "code",
   "execution_count": null,
   "id": "d7412e97",
   "metadata": {},
   "outputs": [],
   "source": [
    "%%idrrun -a\n",
    "#include <stdio.h>\n",
    "#include <stdlib.h>\n",
    "#include <string.h>\n",
    "#include <time.h>\n",
    "#include <math.h>\n",
    "/**\n",
    " * Apply a gaussian blurring filter to a picture generated on the fly\n",
    " *\n",
    " * List of functions:\n",
    " *   - void blur(unsigned char* pic,  unsigned char* blurred, size_t rows, size_t cols)\n",
    " *     the actual filter\n",
    " *   - void fill(unsigned char* pic, size_t rows, size_t cols)\n",
    " *     generate the original picture\n",
    " *   - void out_pic(unsigned char* pic, char* name, size_t rows, size_t cols)\n",
    " *     create a .rgb file \n",
    " */\n",
    "\n",
    "void blur(unsigned char* pic,  unsigned char* blurred, size_t rows, size_t cols, int passes)\n",
    "{\n",
    "    /**\n",
    "     * Perform the blurring of the picture\n",
    "     * @ param pic(in): a pointer to the original picture\n",
    "     * @ param blurred(out): a pointer to the blurred picture\n",
    "     */\n",
    "   size_t i, j, l, i_c, j_c;\n",
    "   unsigned char *temp;\n",
    "   unsigned int pix;\n",
    "   unsigned char coefs[5][5] = { {1,  4,  6,  4,  1},\n",
    "                                 {4, 16, 24, 16,  4},\n",
    "                                 {6, 24, 36, 24,  6},\n",
    "                                 {4, 16, 24, 16,  4},\n",
    "                                 {1,  4,  6,  4,  1}};\n",
    "   for (int pass = 0; pass < passes; ++pass){\n",
    "      for (i=2; i<rows-2; ++i)\n",
    "         for (j=2; j<cols-2; ++j)\n",
    "            for (l=0; l<3; ++l)\n",
    "            {\n",
    "               pix = 0;\n",
    "               for (i_c=0; i_c<5; ++i_c)\n",
    "                  for (j_c=0; j_c<5; ++j_c)\n",
    "                     pix += (pic[(i+i_c-2)*3*cols+(j+j_c-2)*3+l]\n",
    "                              *coefs[i_c][j_c]);\n",
    "\n",
    "               blurred[i*3*cols+j*3+l] = (unsigned char)(pix/256);\n",
    "            }\n",
    "      temp = pic;\n",
    "      pic = blurred;\n",
    "      blurred = temp;\n",
    "   }\n",
    "}\n",
    "\n",
    "void out_pic(unsigned char* pic, char* name, size_t rows, size_t cols)\n",
    "{\n",
    "    /**\n",
    "     * Output of the picture into a sequence of pixel\n",
    "     * Use show_rgb(filepath, rows, cols) to display\n",
    "     * @param rows(in) the number of rows in the picture\n",
    "     * @param cols(in) the number of columns in the picture\n",
    "     */\n",
    "   FILE* f = fopen(name, \"wb\");\n",
    "   fwrite(pic, sizeof(unsigned char), rows*3*cols, f);\n",
    "   fclose(f);\n",
    "}\n",
    "\n",
    "void read_matrix_from_file(char *filename, unsigned char *pic, int rows, int cols)\n",
    "{\n",
    "   /**\n",
    "    * @brief Reads a 3D matrix from a binary file.\n",
    "    *\n",
    "    * This function reads a binary file and stores the data in a 3D matrix.\n",
    "    * The data is assumed to be stored in binary format and is read in one pass.\n",
    "    *\n",
    "    * @param filename The name of the file to read from.\n",
    "    * @param pic A pointer to a pointer to a pointer to an integer.\n",
    "    * This is the 3D matrix that will store the data.\n",
    "    * @param rows The number of rows in the matrix.\n",
    "    * @param cols The number of columns in the matrix.\n",
    "    */\n",
    "   FILE *file = fopen(filename, \"rb\");\n",
    "\n",
    "   if (file == NULL)\n",
    "   {\n",
    "      printf(\"Could not open file\\n\");\n",
    "      return;\n",
    "   }\n",
    "\n",
    "   size_t total_size = rows * cols * 3 * sizeof(unsigned char);\n",
    "   size_t read_size = fread(pic, sizeof(unsigned char), total_size, file);\n",
    "   if (read_size != total_size)\n",
    "   {\n",
    "      printf(\"Could not read all values from file\\n %ld instead of %ld\\n\", read_size, total_size);\n",
    "      return;\n",
    "   }\n",
    "\n",
    "   fclose(file);\n",
    "}\n",
    "\n",
    "int main(void)\n",
    "{\n",
    "   size_t rows,cols;\n",
    "\n",
    "   rows = 2252;\n",
    "   cols = 4000;\n",
    "\n",
    "   printf(\"Size of picture is %ld x %ld\\n\", rows, cols); \n",
    "   unsigned char* pic = (unsigned char*) malloc(rows*3*cols*sizeof(unsigned char));\n",
    "   unsigned char* blurred_pic = (unsigned char*) malloc(rows*3*cols*sizeof(unsigned char));\n",
    "\n",
    "   // Reads the original picture\n",
    "   read_matrix_from_file(\"pic.rgb\", pic, rows, cols);\n",
    "\n",
    "   // Apply the blurring filter\n",
    "   int passes = 40;\n",
    "   blur(pic, blurred_pic, rows, cols, passes);\n",
    "\n",
    "   out_pic(pic, \"pic_read.rgb\", rows, cols);\n",
    "   out_pic(blurred_pic, \"blurred.rgb\", rows, cols);\n",
    "\n",
    "   free(pic);\n",
    "   free(blurred_pic);\n",
    "\n",
    "   return 0;\n",
    "}\n"
   ]
  },
  {
   "cell_type": "code",
   "execution_count": null,
   "id": "53aa1fdf",
   "metadata": {},
   "outputs": [],
   "source": [
    "from idrcomp import compare_rgb\n",
    "\"\"\"compare the original and blurred pictures.\n",
    "It is possible to display a cropped version of the images for better visualization.\n",
    "For example (0.0,1.0,0.0,1.0) will display the whole image.\n",
    "and (0.5,1.0,0.5,1.0) will display the bottom right part of the pictures\"\"\"\n",
    "compare_rgb(\"pic.rgb\", \"blurred.rgb\", (0.0, 1.0, 0.0, 1.0), 2232, 4000)"
   ]
  },
  {
   "cell_type": "markdown",
   "id": "64634493",
   "metadata": {
    "editable": false
   },
   "source": [
    "### Solution"
   ]
  },
  {
   "cell_type": "code",
   "execution_count": null,
   "id": "ae530283",
   "metadata": {},
   "outputs": [],
   "source": [
    "import os\n",
    "picture = os.path.join(\"..\", \"..\", \"pictures\", \"midris.jpg\")\n",
    "from idrcomp import convert_jpg_to_raw\n",
    "convert_jpg_to_raw(picture, \"pic.rgb\")"
   ]
  },
  {
   "cell_type": "markdown",
   "id": "e25ce824",
   "metadata": {},
   "source": [
    "Example stored in: `../../examples/C/blur_simple_solution.c`"
   ]
  },
  {
   "cell_type": "code",
   "execution_count": null,
   "id": "2bcf2d68",
   "metadata": {
    "jupyter": {
     "source_hidden": true
    }
   },
   "outputs": [],
   "source": [
    "%%idrrun -a\n",
    "#include <stdio.h>\n",
    "#include <stdlib.h>\n",
    "#include <string.h>\n",
    "#include <time.h>\n",
    "#include <math.h>\n",
    "/**\n",
    " * Apply a gaussian blurring filter to a picture generated on the fly\n",
    " *\n",
    " * List of functions:\n",
    " *   - void blur(unsigned char* pic,  unsigned char* blurred, size_t rows, size_t cols)\n",
    " *     the actual filter\n",
    " *   - void fill(unsigned char* pic, size_t rows, size_t cols)\n",
    " *     generate the original picture\n",
    " *   - void out_pic(unsigned char* pic, char* name, size_t rows, size_t cols)\n",
    " *     create a .rgb file \n",
    " */\n",
    "\n",
    "void blur(unsigned char* pic,  unsigned char* blurred, size_t rows, size_t cols, int passes)\n",
    "{\n",
    "    /**\n",
    "     * Perform the blurring of the picture\n",
    "     * @ param pic(in): a pointer to the original picture\n",
    "     * @ param blurred(out): a pointer to the blurred picture\n",
    "     */\n",
    "   size_t i, j, l, i_c, j_c;\n",
    "   unsigned char *temp;\n",
    "   unsigned int pix;\n",
    "   unsigned char coefs[5][5] = { {1,  4,  6,  4,  1},\n",
    "                                 {4, 16, 24, 16,  4},\n",
    "                                 {6, 24, 36, 24,  6},\n",
    "                                 {4, 16, 24, 16,  4},\n",
    "                                 {1,  4,  6,  4,  1}};\n",
    "   for (int pass = 0; pass < passes; ++pass){\n",
    "      #pragma acc parallel loop copyin(pic[0:rows*3*cols],coefs[:5][:5]) copyout(blurred[0:rows*3*cols])\n",
    "      for (i=2; i<rows-2; ++i)\n",
    "         for (j=2; j<cols-2; ++j)\n",
    "            for (l=0; l<3; ++l)\n",
    "            {\n",
    "               pix = 0;\n",
    "               for (i_c=0; i_c<5; ++i_c)\n",
    "                  for (j_c=0; j_c<5; ++j_c)\n",
    "                     pix += (pic[(i+i_c-2)*3*cols+(j+j_c-2)*3+l]\n",
    "                              *coefs[i_c][j_c]);\n",
    "\n",
    "               blurred[i*3*cols+j*3+l] = (unsigned char)(pix/256);\n",
    "            }\n",
    "      temp = pic;\n",
    "      pic = blurred;\n",
    "      blurred = temp;\n",
    "   }\n",
    "}\n",
    "\n",
    "void out_pic(unsigned char* pic, char* name, size_t rows, size_t cols)\n",
    "{\n",
    "    /**\n",
    "     * Output of the picture into a sequence of pixel\n",
    "     * Use show_rgb(filepath, rows, cols) to display\n",
    "     * @param rows(in) the number of rows in the picture\n",
    "     * @param cols(in) the number of columns in the picture\n",
    "     */\n",
    "   FILE* f = fopen(name, \"wb\");\n",
    "   fwrite(pic, sizeof(unsigned char), rows*3*cols, f);\n",
    "   fclose(f);\n",
    "}\n",
    "\n",
    "void read_matrix_from_file(char *filename, unsigned char *pic, int rows, int cols)\n",
    "{\n",
    "   /**\n",
    "    * @brief Reads a 3D matrix from a binary file.\n",
    "    *\n",
    "    * This function reads a binary file and stores the data in a 3D matrix.\n",
    "    * The data is assumed to be stored in binary format and is read in one pass.\n",
    "    *\n",
    "    * @param filename The name of the file to read from.\n",
    "    * @param pic A pointer to a pointer to a pointer to an integer.\n",
    "    * This is the 3D matrix that will store the data.\n",
    "    * @param rows The number of rows in the matrix.\n",
    "    * @param cols The number of columns in the matrix.\n",
    "    */\n",
    "   FILE *file = fopen(filename, \"rb\");\n",
    "\n",
    "   if (file == NULL)\n",
    "   {\n",
    "      printf(\"Could not open file\\n\");\n",
    "      return;\n",
    "   }\n",
    "\n",
    "   size_t total_size = rows * cols * 3 * sizeof(unsigned char);\n",
    "   size_t read_size = fread(pic, sizeof(unsigned char), total_size, file);\n",
    "   if (read_size != total_size)\n",
    "   {\n",
    "      printf(\"Could not read all values from file\\n %ld instead of %ld\\n\", read_size, total_size);\n",
    "      return;\n",
    "   }\n",
    "\n",
    "   fclose(file);\n",
    "}\n",
    "\n",
    "int main(void)\n",
    "{\n",
    "   size_t rows,cols;\n",
    "\n",
    "   rows = 2252;\n",
    "   cols = 4000;\n",
    "\n",
    "   printf(\"Size of picture is %ld x %ld\\n\", rows, cols); \n",
    "   unsigned char* pic = (unsigned char*) malloc(rows*3*cols*sizeof(unsigned char));\n",
    "   unsigned char* blurred_pic = (unsigned char*) malloc(rows*3*cols*sizeof(unsigned char));\n",
    "\n",
    "   // Reads the original picture\n",
    "   read_matrix_from_file(\"pic.rgb\", pic, rows, cols);\n",
    "\n",
    "   // Apply the blurring filter\n",
    "   int passes = 40;\n",
    "   blur(pic, blurred_pic, rows, cols, passes);\n",
    "\n",
    "   out_pic(pic, \"pic_read.rgb\", rows, cols);\n",
    "   out_pic(blurred_pic, \"blurred.rgb\", rows, cols);\n",
    "\n",
    "   free(pic);\n",
    "   free(blurred_pic);\n",
    "\n",
    "   return 0;\n",
    "}"
   ]
  },
  {
   "cell_type": "markdown",
   "id": "1a7b8969",
   "metadata": {},
   "source": [
    "Now we can compare the original picture with its blurred version:"
   ]
  },
  {
   "cell_type": "code",
   "execution_count": null,
   "id": "87a9af8c",
   "metadata": {},
   "outputs": [],
   "source": [
    "from idrcomp import compare_rgb\n",
    "\"\"\"compare the original and blurred pictures.\n",
    "It is possible to display a cropped version of the images for better visualization.\n",
    "For example (0.0,1.0,0.0,1.0) will display the whole image.\n",
    "and (0.5,1.0,0.5,1.0) will display the bottom right part of the pictures\"\"\"\n",
    "compare_rgb(\"pic.rgb\", \"blurred.rgb\", (0.0, 1.0, 0.0, 1.0), 2232, 4000)"
   ]
  },
  {
   "cell_type": "markdown",
   "id": "c29d30bb",
   "metadata": {
    "editable": false
   },
   "source": [
    "## Reductions with OpenACC\n",
    "\n",
    "Your code is performing a reduction when a loop is updating at each cycle the same variable:\n",
    "\n",
    "For example, if you perform the sum of all elements in an array:\n",
    "\n",
    "```c\n",
    "for (int i=0; i<size_array; ++i)\n",
    "    sum += array[i];\n",
    "```\n",
    "\n",
    "\n",
    "If you run your code sequentially no problems occur.\n",
    "However we are here to use a massively parallel device to accelerate the computation.\n",
    "\n",
    "In this case we have to be careful since simultaneous read/write operations can be performed on the same variable.\n",
    "The result is not sure anymore because we have a race condition.\n",
    "\n",
    "For some operations, OpenACC offers an efficient mechanism if you use the _reduction(operation:var1,var2,...)_ clause which is available for the directives:\n",
    "- `#pragma acc loop reduction(op:var1)` \n",
    "- `#pragma acc parallel reduction(op:var1)` \n",
    "- `#pragma acc kernels reduction(op:var1)` \n",
    "- `#pragma acc serial reduction(op:var1)`"
   ]
  },
  {
   "cell_type": "markdown",
   "id": "439c515a",
   "metadata": {
    "editable": false
   },
   "source": [
    "__Important__: Please note that for a lot of cases, the NVIDIA compiler (formerly PGI) is able to detect that a reduction is needed and will add it implicitly.\n",
    "We advise you make explicit all implicit operations for code readability/maintenance."
   ]
  },
  {
   "cell_type": "markdown",
   "id": "5294b33d",
   "metadata": {
    "editable": false
   },
   "source": [
    "### Available operations\n",
    "\n",
    "The set of operations is limited. We give here the most common:\n",
    "\n",
    "| Operator   | Operation    | Syntax                     |\n",
    "|------------|--------------|----------------------------|\n",
    "| +          | sum          | `reduction(+:var1, ...)`   |\n",
    "| *          | product      | `reduction(*:var2, ...)`   |\n",
    "| max        | find maximum | `reduction(max:var3, ...)` |\n",
    "| min        | find minimum | `reduction(min:var4,...)`  |\n",
    "\n",
    "Other operators are available, please refer to the OpenACC specification for a complete list."
   ]
  },
  {
   "cell_type": "markdown",
   "id": "95e62651",
   "metadata": {
    "editable": false
   },
   "source": [
    "#### Reduction on several variables\n",
    "\n",
    "If you perform a reduction with the same operation on several variables then you can give a comma separated list after the colon:\n",
    "```c\n",
    "#pragma acc parallel loop reduction(+:var1, var2,...)\n",
    "```\n",
    "\n",
    "\n",
    "If you perform reductions with different operators then you have to specify a _reduction_ clause for each operator:\n",
    "```c\n",
    "#pragma acc parallel reduction(+:var1, var2) reduction(max:var3) reduction(*: var4)\n",
    "```"
   ]
  },
  {
   "cell_type": "markdown",
   "id": "40d25998",
   "metadata": {
    "editable": false
   },
   "source": [
    "### Exercise\n",
    "\n",
    "Let's do some statistics on the exponential function.\n",
    "The goal is to compute\n",
    "\n",
    "- the integral of the function between 0 and $\\pi$ using the trapezoidal method\n",
    "- the maximum value\n",
    "- the minimum value\n",
    "\n",
    "You have to:\n",
    "\n",
    "- Run the following example on the CPU. How much time does it take to run?\n",
    "- Add the directives necessary to create one kernel for the loop that will run on the GPU\n",
    "- Run the computation on the GPU. How much time does it take?\n",
    "\n",
    "Your solution is considered correct if no implicit operation is reported by the compiler.\n",
    "\n",
    "Example stored in: `../../examples/C/reduction_exponential_exercise.c`"
   ]
  },
  {
   "cell_type": "code",
   "execution_count": null,
   "id": "dbfe0057",
   "metadata": {},
   "outputs": [],
   "source": [
    "%%idrrun -a\n",
    "#include <stdio.h>\n",
    "#include <stdlib.h>\n",
    "#include <math.h>\n",
    "#include <float.h>\n",
    "int main(void)\n",
    "{\n",
    "    // current position and value\n",
    "    double x,y,x_p;\n",
    "    // Number of divisions of the function\n",
    "    int nsteps = 1e9;\n",
    "    // x min\n",
    "    double begin = 0.;\n",
    "    // x max\n",
    "    double end = M_PI;\n",
    "    // Sum of elements\n",
    "    double sum = 0.;\n",
    "    // Length of the step\n",
    "    double step_l = (end-begin)/nsteps;\n",
    "\n",
    "    double dmin = DBL_MAX;\n",
    "    double dmax = DBL_MIN;\n",
    "    for (int i=0 ; i < nsteps ; ++i )\n",
    "    {\n",
    "        x = i*step_l;\n",
    "        x_p = (i+1)*step_l;\n",
    "        y = (exp(x)+exp(x_p))/2;\n",
    "        sum += y;\n",
    "        if (y < dmin)\n",
    "            dmin = y;\n",
    "        if (y > dmax)\n",
    "            dmax = y;\n",
    "    }\n",
    "    // Print the stats\n",
    "    printf(\"The MINimum value of the function is: %f\\n\",dmin);\n",
    "    printf(\"The MAXimum value of the function is: %f\\n\",dmax);\n",
    "    printf(\"The integral of the function on [%f,%f] is: %f\\n\",begin,end,sum*step_l);\n",
    "    printf(\"   difference is: %5.2e\",exp(end)-exp(begin)-sum*step_l);\n",
    "}\n"
   ]
  },
  {
   "cell_type": "markdown",
   "id": "09664306",
   "metadata": {
    "editable": false
   },
   "source": [
    "#### Solution\n",
    "\n",
    "Example stored in: `../../examples/C/reduction_exponential_solution.c`"
   ]
  },
  {
   "cell_type": "code",
   "execution_count": null,
   "id": "e58a5010",
   "metadata": {
    "jupyter": {
     "source_hidden": true
    }
   },
   "outputs": [],
   "source": [
    "%%idrrun -a\n",
    "#include <stdio.h>\n",
    "#include <stdlib.h>\n",
    "#include <math.h>\n",
    "#include <float.h>\n",
    "int main(void)\n",
    "{\n",
    "    // current position and value\n",
    "    double x,y,x_p;\n",
    "    // Number of divisions of the function\n",
    "    int nsteps = 1e9;\n",
    "    // x min\n",
    "    double begin = 0.;\n",
    "    // x max\n",
    "    double end = M_PI;\n",
    "    // Sum of elements\n",
    "    double sum = 0.;\n",
    "    // Length of the step\n",
    "    double step_l = (end-begin)/nsteps;\n",
    "\n",
    "    double dmin = DBL_MAX;\n",
    "    double dmax = DBL_MIN;\n",
    "#pragma acc parallel loop reduction(+:sum) reduction(min:dmin) reduction(max:dmax)\n",
    "    for (int i=0 ; i < nsteps ; ++i )\n",
    "    {\n",
    "        x = i*step_l;\n",
    "        x_p = (i+1)*step_l;\n",
    "        y = (exp(x)+exp(x_p))/2;\n",
    "        sum += y;\n",
    "        if (y < dmin)\n",
    "            dmin = y;\n",
    "        if (y > dmax)\n",
    "            dmax = y;\n",
    "    }\n",
    "    // Print the stats\n",
    "    printf(\"The MINimum value of the function is: %f\\n\",dmin);\n",
    "    printf(\"The MAXimum value of the function is: %f\\n\",dmax);\n",
    "    printf(\"The integral of the function on [%f,%f] is: %f\\n\",begin,end,sum*step_l);\n",
    "    printf(\"   difference is: %5.2e\",exp(end)-exp(begin)-sum*step_l);\n",
    "}"
   ]
  },
  {
   "cell_type": "markdown",
   "id": "0444a0b5",
   "metadata": {
    "editable": false
   },
   "source": [
    "### Important Notes\n",
    "\n",
    "- A special kernel is created for reduction. With NVIDIA compiler its name is the name of the \"parent\" kernel with \\_red appended.\n",
    "- You may want to use other directives to \"emulate\" the behavior of a reduction (it is possible by using _atomic_ operations).\n",
    "  We strongly discourage you from doing this. The _reduction_ clause is much more efficient."
   ]
  }
 ],
 "metadata": {
  "kernelspec": {
   "display_name": "GPU Directives",
   "language": "python",
   "name": "gpu_directives"
  }
 },
 "nbformat": 4,
 "nbformat_minor": 5
}
